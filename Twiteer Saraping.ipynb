{
 "cells": [
  {
   "cell_type": "code",
   "execution_count": 24,
   "metadata": {},
   "outputs": [],
   "source": [
    "import pandas as pd\n",
    "#from selenium import webdriver\n",
    "#browser = webdriver.Chrome(\"chromedriver.exe\")"
   ]
  },
  {
   "cell_type": "code",
   "execution_count": null,
   "metadata": {},
   "outputs": [],
   "source": [
    "#url = \"https://www.oyorooms.com/oyos-in-bangalore\"\n",
    "#browser.get(url)"
   ]
  },
  {
   "cell_type": "markdown",
   "metadata": {},
   "source": [
    "# Twitter Scraping"
   ]
  },
  {
   "cell_type": "code",
   "execution_count": 13,
   "metadata": {},
   "outputs": [],
   "source": [
    "#!pip install tweepy\n",
    "import tweepy"
   ]
  },
  {
   "cell_type": "code",
   "execution_count": 2,
   "metadata": {},
   "outputs": [],
   "source": [
    "consumer_key = \"0p0FonTDUYemNfPg8epMh6kFO\"\n",
    "consumer_secret = \"wPe8tcxhP63cseioDcWeOkj77SdWrNMaXJPQUz2QzKO8LscL25\"\n",
    "\n",
    "access_token = \"991382693945360386-doRMFJghJAPN9Krhqc5tSdu6fU9fuby\"\n",
    "access_secret = \"xYfzST5UEPDz0WGBUTnEdRCczVk4qSGTt7uKcO2at5iJU\""
   ]
  },
  {
   "cell_type": "code",
   "execution_count": 3,
   "metadata": {},
   "outputs": [],
   "source": [
    "auth = tweepy.OAuthHandler(consumer_key, consumer_secret)\n",
    "auth.set_access_token(access_token, access_secret)\n",
    "\n",
    "api = tweepy.API(auth)"
   ]
  },
  {
   "cell_type": "markdown",
   "metadata": {},
   "source": [
    "# ----------------------------------"
   ]
  },
  {
   "cell_type": "markdown",
   "metadata": {},
   "source": [
    "# Scraping Modi's Tweets"
   ]
  },
  {
   "cell_type": "code",
   "execution_count": 4,
   "metadata": {},
   "outputs": [
    {
     "ename": "TweepError",
     "evalue": "Failed to send request: HTTPSConnectionPool(host='api.twitter.com', port=443): Max retries exceeded with url: /1.1/statuses/user_timeline.json?id=narendramodi&page=1&count=200 (Caused by ProxyError('Cannot connect to proxy.', OSError('Tunnel connection failed: 407 Proxy Access Denied')))",
     "output_type": "error",
     "traceback": [
      "\u001b[1;31m---------------------------------------------------------------------------\u001b[0m",
      "\u001b[1;31mOSError\u001b[0m                                   Traceback (most recent call last)",
      "\u001b[1;32mC:\\ProgramData\\Anaconda3\\lib\\site-packages\\urllib3\\connectionpool.py\u001b[0m in \u001b[0;36murlopen\u001b[1;34m(self, method, url, body, headers, retries, redirect, assert_same_host, timeout, pool_timeout, release_conn, chunked, body_pos, **response_kw)\u001b[0m\n\u001b[0;32m    593\u001b[0m             \u001b[1;32mif\u001b[0m \u001b[0mis_new_proxy_conn\u001b[0m\u001b[1;33m:\u001b[0m\u001b[1;33m\u001b[0m\u001b[1;33m\u001b[0m\u001b[0m\n\u001b[1;32m--> 594\u001b[1;33m                 \u001b[0mself\u001b[0m\u001b[1;33m.\u001b[0m\u001b[0m_prepare_proxy\u001b[0m\u001b[1;33m(\u001b[0m\u001b[0mconn\u001b[0m\u001b[1;33m)\u001b[0m\u001b[1;33m\u001b[0m\u001b[1;33m\u001b[0m\u001b[0m\n\u001b[0m\u001b[0;32m    595\u001b[0m \u001b[1;33m\u001b[0m\u001b[0m\n",
      "\u001b[1;32mC:\\ProgramData\\Anaconda3\\lib\\site-packages\\urllib3\\connectionpool.py\u001b[0m in \u001b[0;36m_prepare_proxy\u001b[1;34m(self, conn)\u001b[0m\n\u001b[0;32m    804\u001b[0m         \u001b[0mconn\u001b[0m\u001b[1;33m.\u001b[0m\u001b[0mset_tunnel\u001b[0m\u001b[1;33m(\u001b[0m\u001b[0mself\u001b[0m\u001b[1;33m.\u001b[0m\u001b[0m_proxy_host\u001b[0m\u001b[1;33m,\u001b[0m \u001b[0mself\u001b[0m\u001b[1;33m.\u001b[0m\u001b[0mport\u001b[0m\u001b[1;33m,\u001b[0m \u001b[0mself\u001b[0m\u001b[1;33m.\u001b[0m\u001b[0mproxy_headers\u001b[0m\u001b[1;33m)\u001b[0m\u001b[1;33m\u001b[0m\u001b[1;33m\u001b[0m\u001b[0m\n\u001b[1;32m--> 805\u001b[1;33m         \u001b[0mconn\u001b[0m\u001b[1;33m.\u001b[0m\u001b[0mconnect\u001b[0m\u001b[1;33m(\u001b[0m\u001b[1;33m)\u001b[0m\u001b[1;33m\u001b[0m\u001b[1;33m\u001b[0m\u001b[0m\n\u001b[0m\u001b[0;32m    806\u001b[0m \u001b[1;33m\u001b[0m\u001b[0m\n",
      "\u001b[1;32mC:\\ProgramData\\Anaconda3\\lib\\site-packages\\urllib3\\connection.py\u001b[0m in \u001b[0;36mconnect\u001b[1;34m(self)\u001b[0m\n\u001b[0;32m    307\u001b[0m             \u001b[1;31m# self._tunnel_host below.\u001b[0m\u001b[1;33m\u001b[0m\u001b[1;33m\u001b[0m\u001b[1;33m\u001b[0m\u001b[0m\n\u001b[1;32m--> 308\u001b[1;33m             \u001b[0mself\u001b[0m\u001b[1;33m.\u001b[0m\u001b[0m_tunnel\u001b[0m\u001b[1;33m(\u001b[0m\u001b[1;33m)\u001b[0m\u001b[1;33m\u001b[0m\u001b[1;33m\u001b[0m\u001b[0m\n\u001b[0m\u001b[0;32m    309\u001b[0m             \u001b[1;31m# Mark this connection as not reusable\u001b[0m\u001b[1;33m\u001b[0m\u001b[1;33m\u001b[0m\u001b[1;33m\u001b[0m\u001b[0m\n",
      "\u001b[1;32mC:\\ProgramData\\Anaconda3\\lib\\http\\client.py\u001b[0m in \u001b[0;36m_tunnel\u001b[1;34m(self)\u001b[0m\n\u001b[0;32m    910\u001b[0m             raise OSError(\"Tunnel connection failed: %d %s\" % (code,\n\u001b[1;32m--> 911\u001b[1;33m                                                                message.strip()))\n\u001b[0m\u001b[0;32m    912\u001b[0m         \u001b[1;32mwhile\u001b[0m \u001b[1;32mTrue\u001b[0m\u001b[1;33m:\u001b[0m\u001b[1;33m\u001b[0m\u001b[1;33m\u001b[0m\u001b[0m\n",
      "\u001b[1;31mOSError\u001b[0m: Tunnel connection failed: 407 Proxy Access Denied",
      "\nDuring handling of the above exception, another exception occurred:\n",
      "\u001b[1;31mMaxRetryError\u001b[0m                             Traceback (most recent call last)",
      "\u001b[1;32mC:\\ProgramData\\Anaconda3\\lib\\site-packages\\requests\\adapters.py\u001b[0m in \u001b[0;36msend\u001b[1;34m(self, request, stream, timeout, verify, cert, proxies)\u001b[0m\n\u001b[0;32m    448\u001b[0m                     \u001b[0mretries\u001b[0m\u001b[1;33m=\u001b[0m\u001b[0mself\u001b[0m\u001b[1;33m.\u001b[0m\u001b[0mmax_retries\u001b[0m\u001b[1;33m,\u001b[0m\u001b[1;33m\u001b[0m\u001b[1;33m\u001b[0m\u001b[0m\n\u001b[1;32m--> 449\u001b[1;33m                     \u001b[0mtimeout\u001b[0m\u001b[1;33m=\u001b[0m\u001b[0mtimeout\u001b[0m\u001b[1;33m\u001b[0m\u001b[1;33m\u001b[0m\u001b[0m\n\u001b[0m\u001b[0;32m    450\u001b[0m                 )\n",
      "\u001b[1;32mC:\\ProgramData\\Anaconda3\\lib\\site-packages\\urllib3\\connectionpool.py\u001b[0m in \u001b[0;36murlopen\u001b[1;34m(self, method, url, body, headers, retries, redirect, assert_same_host, timeout, pool_timeout, release_conn, chunked, body_pos, **response_kw)\u001b[0m\n\u001b[0;32m    637\u001b[0m             retries = retries.increment(method, url, error=e, _pool=self,\n\u001b[1;32m--> 638\u001b[1;33m                                         _stacktrace=sys.exc_info()[2])\n\u001b[0m\u001b[0;32m    639\u001b[0m             \u001b[0mretries\u001b[0m\u001b[1;33m.\u001b[0m\u001b[0msleep\u001b[0m\u001b[1;33m(\u001b[0m\u001b[1;33m)\u001b[0m\u001b[1;33m\u001b[0m\u001b[1;33m\u001b[0m\u001b[0m\n",
      "\u001b[1;32mC:\\ProgramData\\Anaconda3\\lib\\site-packages\\urllib3\\util\\retry.py\u001b[0m in \u001b[0;36mincrement\u001b[1;34m(self, method, url, response, error, _pool, _stacktrace)\u001b[0m\n\u001b[0;32m    397\u001b[0m         \u001b[1;32mif\u001b[0m \u001b[0mnew_retry\u001b[0m\u001b[1;33m.\u001b[0m\u001b[0mis_exhausted\u001b[0m\u001b[1;33m(\u001b[0m\u001b[1;33m)\u001b[0m\u001b[1;33m:\u001b[0m\u001b[1;33m\u001b[0m\u001b[1;33m\u001b[0m\u001b[0m\n\u001b[1;32m--> 398\u001b[1;33m             \u001b[1;32mraise\u001b[0m \u001b[0mMaxRetryError\u001b[0m\u001b[1;33m(\u001b[0m\u001b[0m_pool\u001b[0m\u001b[1;33m,\u001b[0m \u001b[0murl\u001b[0m\u001b[1;33m,\u001b[0m \u001b[0merror\u001b[0m \u001b[1;32mor\u001b[0m \u001b[0mResponseError\u001b[0m\u001b[1;33m(\u001b[0m\u001b[0mcause\u001b[0m\u001b[1;33m)\u001b[0m\u001b[1;33m)\u001b[0m\u001b[1;33m\u001b[0m\u001b[1;33m\u001b[0m\u001b[0m\n\u001b[0m\u001b[0;32m    399\u001b[0m \u001b[1;33m\u001b[0m\u001b[0m\n",
      "\u001b[1;31mMaxRetryError\u001b[0m: HTTPSConnectionPool(host='api.twitter.com', port=443): Max retries exceeded with url: /1.1/statuses/user_timeline.json?id=narendramodi&page=1&count=200 (Caused by ProxyError('Cannot connect to proxy.', OSError('Tunnel connection failed: 407 Proxy Access Denied')))",
      "\nDuring handling of the above exception, another exception occurred:\n",
      "\u001b[1;31mProxyError\u001b[0m                                Traceback (most recent call last)",
      "\u001b[1;32mC:\\ProgramData\\Anaconda3\\lib\\site-packages\\tweepy\\binder.py\u001b[0m in \u001b[0;36mexecute\u001b[1;34m(self)\u001b[0m\n\u001b[0;32m    189\u001b[0m                                                 \u001b[0mauth\u001b[0m\u001b[1;33m=\u001b[0m\u001b[0mauth\u001b[0m\u001b[1;33m,\u001b[0m\u001b[1;33m\u001b[0m\u001b[1;33m\u001b[0m\u001b[0m\n\u001b[1;32m--> 190\u001b[1;33m                                                 proxies=self.api.proxy)\n\u001b[0m\u001b[0;32m    191\u001b[0m                 \u001b[1;32mexcept\u001b[0m \u001b[0mException\u001b[0m \u001b[1;32mas\u001b[0m \u001b[0me\u001b[0m\u001b[1;33m:\u001b[0m\u001b[1;33m\u001b[0m\u001b[1;33m\u001b[0m\u001b[0m\n",
      "\u001b[1;32mC:\\ProgramData\\Anaconda3\\lib\\site-packages\\requests\\sessions.py\u001b[0m in \u001b[0;36mrequest\u001b[1;34m(self, method, url, params, data, headers, cookies, files, auth, timeout, allow_redirects, proxies, hooks, stream, verify, cert, json)\u001b[0m\n\u001b[0;32m    532\u001b[0m         \u001b[0msend_kwargs\u001b[0m\u001b[1;33m.\u001b[0m\u001b[0mupdate\u001b[0m\u001b[1;33m(\u001b[0m\u001b[0msettings\u001b[0m\u001b[1;33m)\u001b[0m\u001b[1;33m\u001b[0m\u001b[1;33m\u001b[0m\u001b[0m\n\u001b[1;32m--> 533\u001b[1;33m         \u001b[0mresp\u001b[0m \u001b[1;33m=\u001b[0m \u001b[0mself\u001b[0m\u001b[1;33m.\u001b[0m\u001b[0msend\u001b[0m\u001b[1;33m(\u001b[0m\u001b[0mprep\u001b[0m\u001b[1;33m,\u001b[0m \u001b[1;33m**\u001b[0m\u001b[0msend_kwargs\u001b[0m\u001b[1;33m)\u001b[0m\u001b[1;33m\u001b[0m\u001b[1;33m\u001b[0m\u001b[0m\n\u001b[0m\u001b[0;32m    534\u001b[0m \u001b[1;33m\u001b[0m\u001b[0m\n",
      "\u001b[1;32mC:\\ProgramData\\Anaconda3\\lib\\site-packages\\requests\\sessions.py\u001b[0m in \u001b[0;36msend\u001b[1;34m(self, request, **kwargs)\u001b[0m\n\u001b[0;32m    645\u001b[0m         \u001b[1;31m# Send the request\u001b[0m\u001b[1;33m\u001b[0m\u001b[1;33m\u001b[0m\u001b[1;33m\u001b[0m\u001b[0m\n\u001b[1;32m--> 646\u001b[1;33m         \u001b[0mr\u001b[0m \u001b[1;33m=\u001b[0m \u001b[0madapter\u001b[0m\u001b[1;33m.\u001b[0m\u001b[0msend\u001b[0m\u001b[1;33m(\u001b[0m\u001b[0mrequest\u001b[0m\u001b[1;33m,\u001b[0m \u001b[1;33m**\u001b[0m\u001b[0mkwargs\u001b[0m\u001b[1;33m)\u001b[0m\u001b[1;33m\u001b[0m\u001b[1;33m\u001b[0m\u001b[0m\n\u001b[0m\u001b[0;32m    647\u001b[0m \u001b[1;33m\u001b[0m\u001b[0m\n",
      "\u001b[1;32mC:\\ProgramData\\Anaconda3\\lib\\site-packages\\requests\\adapters.py\u001b[0m in \u001b[0;36msend\u001b[1;34m(self, request, stream, timeout, verify, cert, proxies)\u001b[0m\n\u001b[0;32m    509\u001b[0m             \u001b[1;32mif\u001b[0m \u001b[0misinstance\u001b[0m\u001b[1;33m(\u001b[0m\u001b[0me\u001b[0m\u001b[1;33m.\u001b[0m\u001b[0mreason\u001b[0m\u001b[1;33m,\u001b[0m \u001b[0m_ProxyError\u001b[0m\u001b[1;33m)\u001b[0m\u001b[1;33m:\u001b[0m\u001b[1;33m\u001b[0m\u001b[1;33m\u001b[0m\u001b[0m\n\u001b[1;32m--> 510\u001b[1;33m                 \u001b[1;32mraise\u001b[0m \u001b[0mProxyError\u001b[0m\u001b[1;33m(\u001b[0m\u001b[0me\u001b[0m\u001b[1;33m,\u001b[0m \u001b[0mrequest\u001b[0m\u001b[1;33m=\u001b[0m\u001b[0mrequest\u001b[0m\u001b[1;33m)\u001b[0m\u001b[1;33m\u001b[0m\u001b[1;33m\u001b[0m\u001b[0m\n\u001b[0m\u001b[0;32m    511\u001b[0m \u001b[1;33m\u001b[0m\u001b[0m\n",
      "\u001b[1;31mProxyError\u001b[0m: HTTPSConnectionPool(host='api.twitter.com', port=443): Max retries exceeded with url: /1.1/statuses/user_timeline.json?id=narendramodi&page=1&count=200 (Caused by ProxyError('Cannot connect to proxy.', OSError('Tunnel connection failed: 407 Proxy Access Denied')))",
      "\nDuring handling of the above exception, another exception occurred:\n",
      "\u001b[1;31mTweepError\u001b[0m                                Traceback (most recent call last)",
      "\u001b[1;32m<ipython-input-4-add09fe2fb14>\u001b[0m in \u001b[0;36m<module>\u001b[1;34m\u001b[0m\n\u001b[1;32m----> 1\u001b[1;33m \u001b[0mmodi_tweets\u001b[0m \u001b[1;33m=\u001b[0m \u001b[0mapi\u001b[0m\u001b[1;33m.\u001b[0m\u001b[0muser_timeline\u001b[0m\u001b[1;33m(\u001b[0m\u001b[1;34m\"narendramodi\"\u001b[0m\u001b[1;33m,\u001b[0m \u001b[0mpage\u001b[0m\u001b[1;33m=\u001b[0m\u001b[1;36m1\u001b[0m\u001b[1;33m,\u001b[0m \u001b[0mcount\u001b[0m\u001b[1;33m=\u001b[0m\u001b[1;36m200\u001b[0m\u001b[1;33m)\u001b[0m\u001b[1;33m\u001b[0m\u001b[1;33m\u001b[0m\u001b[0m\n\u001b[0m\u001b[0;32m      2\u001b[0m \u001b[0mlen\u001b[0m\u001b[1;33m(\u001b[0m\u001b[0mmodi_tweets\u001b[0m\u001b[1;33m)\u001b[0m\u001b[1;33m\u001b[0m\u001b[1;33m\u001b[0m\u001b[0m\n",
      "\u001b[1;32mC:\\ProgramData\\Anaconda3\\lib\\site-packages\\tweepy\\binder.py\u001b[0m in \u001b[0;36m_call\u001b[1;34m(*args, **kwargs)\u001b[0m\n\u001b[0;32m    248\u001b[0m             \u001b[1;32mreturn\u001b[0m \u001b[0mmethod\u001b[0m\u001b[1;33m\u001b[0m\u001b[1;33m\u001b[0m\u001b[0m\n\u001b[0;32m    249\u001b[0m         \u001b[1;32melse\u001b[0m\u001b[1;33m:\u001b[0m\u001b[1;33m\u001b[0m\u001b[1;33m\u001b[0m\u001b[0m\n\u001b[1;32m--> 250\u001b[1;33m             \u001b[1;32mreturn\u001b[0m \u001b[0mmethod\u001b[0m\u001b[1;33m.\u001b[0m\u001b[0mexecute\u001b[0m\u001b[1;33m(\u001b[0m\u001b[1;33m)\u001b[0m\u001b[1;33m\u001b[0m\u001b[1;33m\u001b[0m\u001b[0m\n\u001b[0m\u001b[0;32m    251\u001b[0m \u001b[1;33m\u001b[0m\u001b[0m\n\u001b[0;32m    252\u001b[0m     \u001b[1;31m# Set pagination mode\u001b[0m\u001b[1;33m\u001b[0m\u001b[1;33m\u001b[0m\u001b[1;33m\u001b[0m\u001b[0m\n",
      "\u001b[1;32mC:\\ProgramData\\Anaconda3\\lib\\site-packages\\tweepy\\binder.py\u001b[0m in \u001b[0;36mexecute\u001b[1;34m(self)\u001b[0m\n\u001b[0;32m    190\u001b[0m                                                 proxies=self.api.proxy)\n\u001b[0;32m    191\u001b[0m                 \u001b[1;32mexcept\u001b[0m \u001b[0mException\u001b[0m \u001b[1;32mas\u001b[0m \u001b[0me\u001b[0m\u001b[1;33m:\u001b[0m\u001b[1;33m\u001b[0m\u001b[1;33m\u001b[0m\u001b[0m\n\u001b[1;32m--> 192\u001b[1;33m                     \u001b[0msix\u001b[0m\u001b[1;33m.\u001b[0m\u001b[0mreraise\u001b[0m\u001b[1;33m(\u001b[0m\u001b[0mTweepError\u001b[0m\u001b[1;33m,\u001b[0m \u001b[0mTweepError\u001b[0m\u001b[1;33m(\u001b[0m\u001b[1;34m'Failed to send request: %s'\u001b[0m \u001b[1;33m%\u001b[0m \u001b[0me\u001b[0m\u001b[1;33m)\u001b[0m\u001b[1;33m,\u001b[0m \u001b[0msys\u001b[0m\u001b[1;33m.\u001b[0m\u001b[0mexc_info\u001b[0m\u001b[1;33m(\u001b[0m\u001b[1;33m)\u001b[0m\u001b[1;33m[\u001b[0m\u001b[1;36m2\u001b[0m\u001b[1;33m]\u001b[0m\u001b[1;33m)\u001b[0m\u001b[1;33m\u001b[0m\u001b[1;33m\u001b[0m\u001b[0m\n\u001b[0m\u001b[0;32m    193\u001b[0m \u001b[1;33m\u001b[0m\u001b[0m\n\u001b[0;32m    194\u001b[0m                 \u001b[0mrem_calls\u001b[0m \u001b[1;33m=\u001b[0m \u001b[0mresp\u001b[0m\u001b[1;33m.\u001b[0m\u001b[0mheaders\u001b[0m\u001b[1;33m.\u001b[0m\u001b[0mget\u001b[0m\u001b[1;33m(\u001b[0m\u001b[1;34m'x-rate-limit-remaining'\u001b[0m\u001b[1;33m)\u001b[0m\u001b[1;33m\u001b[0m\u001b[1;33m\u001b[0m\u001b[0m\n",
      "\u001b[1;32mC:\\ProgramData\\Anaconda3\\lib\\site-packages\\six.py\u001b[0m in \u001b[0;36mreraise\u001b[1;34m(tp, value, tb)\u001b[0m\n\u001b[0;32m    690\u001b[0m                 \u001b[0mvalue\u001b[0m \u001b[1;33m=\u001b[0m \u001b[0mtp\u001b[0m\u001b[1;33m(\u001b[0m\u001b[1;33m)\u001b[0m\u001b[1;33m\u001b[0m\u001b[1;33m\u001b[0m\u001b[0m\n\u001b[0;32m    691\u001b[0m             \u001b[1;32mif\u001b[0m \u001b[0mvalue\u001b[0m\u001b[1;33m.\u001b[0m\u001b[0m__traceback__\u001b[0m \u001b[1;32mis\u001b[0m \u001b[1;32mnot\u001b[0m \u001b[0mtb\u001b[0m\u001b[1;33m:\u001b[0m\u001b[1;33m\u001b[0m\u001b[1;33m\u001b[0m\u001b[0m\n\u001b[1;32m--> 692\u001b[1;33m                 \u001b[1;32mraise\u001b[0m \u001b[0mvalue\u001b[0m\u001b[1;33m.\u001b[0m\u001b[0mwith_traceback\u001b[0m\u001b[1;33m(\u001b[0m\u001b[0mtb\u001b[0m\u001b[1;33m)\u001b[0m\u001b[1;33m\u001b[0m\u001b[1;33m\u001b[0m\u001b[0m\n\u001b[0m\u001b[0;32m    693\u001b[0m             \u001b[1;32mraise\u001b[0m \u001b[0mvalue\u001b[0m\u001b[1;33m\u001b[0m\u001b[1;33m\u001b[0m\u001b[0m\n\u001b[0;32m    694\u001b[0m         \u001b[1;32mfinally\u001b[0m\u001b[1;33m:\u001b[0m\u001b[1;33m\u001b[0m\u001b[1;33m\u001b[0m\u001b[0m\n",
      "\u001b[1;32mC:\\ProgramData\\Anaconda3\\lib\\site-packages\\tweepy\\binder.py\u001b[0m in \u001b[0;36mexecute\u001b[1;34m(self)\u001b[0m\n\u001b[0;32m    188\u001b[0m                                                 \u001b[0mtimeout\u001b[0m\u001b[1;33m=\u001b[0m\u001b[0mself\u001b[0m\u001b[1;33m.\u001b[0m\u001b[0mapi\u001b[0m\u001b[1;33m.\u001b[0m\u001b[0mtimeout\u001b[0m\u001b[1;33m,\u001b[0m\u001b[1;33m\u001b[0m\u001b[1;33m\u001b[0m\u001b[0m\n\u001b[0;32m    189\u001b[0m                                                 \u001b[0mauth\u001b[0m\u001b[1;33m=\u001b[0m\u001b[0mauth\u001b[0m\u001b[1;33m,\u001b[0m\u001b[1;33m\u001b[0m\u001b[1;33m\u001b[0m\u001b[0m\n\u001b[1;32m--> 190\u001b[1;33m                                                 proxies=self.api.proxy)\n\u001b[0m\u001b[0;32m    191\u001b[0m                 \u001b[1;32mexcept\u001b[0m \u001b[0mException\u001b[0m \u001b[1;32mas\u001b[0m \u001b[0me\u001b[0m\u001b[1;33m:\u001b[0m\u001b[1;33m\u001b[0m\u001b[1;33m\u001b[0m\u001b[0m\n\u001b[0;32m    192\u001b[0m                     \u001b[0msix\u001b[0m\u001b[1;33m.\u001b[0m\u001b[0mreraise\u001b[0m\u001b[1;33m(\u001b[0m\u001b[0mTweepError\u001b[0m\u001b[1;33m,\u001b[0m \u001b[0mTweepError\u001b[0m\u001b[1;33m(\u001b[0m\u001b[1;34m'Failed to send request: %s'\u001b[0m \u001b[1;33m%\u001b[0m \u001b[0me\u001b[0m\u001b[1;33m)\u001b[0m\u001b[1;33m,\u001b[0m \u001b[0msys\u001b[0m\u001b[1;33m.\u001b[0m\u001b[0mexc_info\u001b[0m\u001b[1;33m(\u001b[0m\u001b[1;33m)\u001b[0m\u001b[1;33m[\u001b[0m\u001b[1;36m2\u001b[0m\u001b[1;33m]\u001b[0m\u001b[1;33m)\u001b[0m\u001b[1;33m\u001b[0m\u001b[1;33m\u001b[0m\u001b[0m\n",
      "\u001b[1;32mC:\\ProgramData\\Anaconda3\\lib\\site-packages\\requests\\sessions.py\u001b[0m in \u001b[0;36mrequest\u001b[1;34m(self, method, url, params, data, headers, cookies, files, auth, timeout, allow_redirects, proxies, hooks, stream, verify, cert, json)\u001b[0m\n\u001b[0;32m    531\u001b[0m         }\n\u001b[0;32m    532\u001b[0m         \u001b[0msend_kwargs\u001b[0m\u001b[1;33m.\u001b[0m\u001b[0mupdate\u001b[0m\u001b[1;33m(\u001b[0m\u001b[0msettings\u001b[0m\u001b[1;33m)\u001b[0m\u001b[1;33m\u001b[0m\u001b[1;33m\u001b[0m\u001b[0m\n\u001b[1;32m--> 533\u001b[1;33m         \u001b[0mresp\u001b[0m \u001b[1;33m=\u001b[0m \u001b[0mself\u001b[0m\u001b[1;33m.\u001b[0m\u001b[0msend\u001b[0m\u001b[1;33m(\u001b[0m\u001b[0mprep\u001b[0m\u001b[1;33m,\u001b[0m \u001b[1;33m**\u001b[0m\u001b[0msend_kwargs\u001b[0m\u001b[1;33m)\u001b[0m\u001b[1;33m\u001b[0m\u001b[1;33m\u001b[0m\u001b[0m\n\u001b[0m\u001b[0;32m    534\u001b[0m \u001b[1;33m\u001b[0m\u001b[0m\n\u001b[0;32m    535\u001b[0m         \u001b[1;32mreturn\u001b[0m \u001b[0mresp\u001b[0m\u001b[1;33m\u001b[0m\u001b[1;33m\u001b[0m\u001b[0m\n",
      "\u001b[1;32mC:\\ProgramData\\Anaconda3\\lib\\site-packages\\requests\\sessions.py\u001b[0m in \u001b[0;36msend\u001b[1;34m(self, request, **kwargs)\u001b[0m\n\u001b[0;32m    644\u001b[0m \u001b[1;33m\u001b[0m\u001b[0m\n\u001b[0;32m    645\u001b[0m         \u001b[1;31m# Send the request\u001b[0m\u001b[1;33m\u001b[0m\u001b[1;33m\u001b[0m\u001b[1;33m\u001b[0m\u001b[0m\n\u001b[1;32m--> 646\u001b[1;33m         \u001b[0mr\u001b[0m \u001b[1;33m=\u001b[0m \u001b[0madapter\u001b[0m\u001b[1;33m.\u001b[0m\u001b[0msend\u001b[0m\u001b[1;33m(\u001b[0m\u001b[0mrequest\u001b[0m\u001b[1;33m,\u001b[0m \u001b[1;33m**\u001b[0m\u001b[0mkwargs\u001b[0m\u001b[1;33m)\u001b[0m\u001b[1;33m\u001b[0m\u001b[1;33m\u001b[0m\u001b[0m\n\u001b[0m\u001b[0;32m    647\u001b[0m \u001b[1;33m\u001b[0m\u001b[0m\n\u001b[0;32m    648\u001b[0m         \u001b[1;31m# Total elapsed time of the request (approximately)\u001b[0m\u001b[1;33m\u001b[0m\u001b[1;33m\u001b[0m\u001b[1;33m\u001b[0m\u001b[0m\n",
      "\u001b[1;32mC:\\ProgramData\\Anaconda3\\lib\\site-packages\\requests\\adapters.py\u001b[0m in \u001b[0;36msend\u001b[1;34m(self, request, stream, timeout, verify, cert, proxies)\u001b[0m\n\u001b[0;32m    508\u001b[0m \u001b[1;33m\u001b[0m\u001b[0m\n\u001b[0;32m    509\u001b[0m             \u001b[1;32mif\u001b[0m \u001b[0misinstance\u001b[0m\u001b[1;33m(\u001b[0m\u001b[0me\u001b[0m\u001b[1;33m.\u001b[0m\u001b[0mreason\u001b[0m\u001b[1;33m,\u001b[0m \u001b[0m_ProxyError\u001b[0m\u001b[1;33m)\u001b[0m\u001b[1;33m:\u001b[0m\u001b[1;33m\u001b[0m\u001b[1;33m\u001b[0m\u001b[0m\n\u001b[1;32m--> 510\u001b[1;33m                 \u001b[1;32mraise\u001b[0m \u001b[0mProxyError\u001b[0m\u001b[1;33m(\u001b[0m\u001b[0me\u001b[0m\u001b[1;33m,\u001b[0m \u001b[0mrequest\u001b[0m\u001b[1;33m=\u001b[0m\u001b[0mrequest\u001b[0m\u001b[1;33m)\u001b[0m\u001b[1;33m\u001b[0m\u001b[1;33m\u001b[0m\u001b[0m\n\u001b[0m\u001b[0;32m    511\u001b[0m \u001b[1;33m\u001b[0m\u001b[0m\n\u001b[0;32m    512\u001b[0m             \u001b[1;32mif\u001b[0m \u001b[0misinstance\u001b[0m\u001b[1;33m(\u001b[0m\u001b[0me\u001b[0m\u001b[1;33m.\u001b[0m\u001b[0mreason\u001b[0m\u001b[1;33m,\u001b[0m \u001b[0m_SSLError\u001b[0m\u001b[1;33m)\u001b[0m\u001b[1;33m:\u001b[0m\u001b[1;33m\u001b[0m\u001b[1;33m\u001b[0m\u001b[0m\n",
      "\u001b[1;31mTweepError\u001b[0m: Failed to send request: HTTPSConnectionPool(host='api.twitter.com', port=443): Max retries exceeded with url: /1.1/statuses/user_timeline.json?id=narendramodi&page=1&count=200 (Caused by ProxyError('Cannot connect to proxy.', OSError('Tunnel connection failed: 407 Proxy Access Denied')))"
     ]
    }
   ],
   "source": [
    "modi_tweets = api.user_timeline(\"narendramodi\", page=1, count=200)\n",
    "len(modi_tweets)"
   ]
  },
  {
   "cell_type": "code",
   "execution_count": 1,
   "metadata": {},
   "outputs": [
    {
     "ename": "NameError",
     "evalue": "name 'modi_tweets' is not defined",
     "output_type": "error",
     "traceback": [
      "\u001b[1;31m---------------------------------------------------------------------------\u001b[0m",
      "\u001b[1;31mNameError\u001b[0m                                 Traceback (most recent call last)",
      "\u001b[1;32m<ipython-input-1-acc7100c7ebe>\u001b[0m in \u001b[0;36m<module>\u001b[1;34m\u001b[0m\n\u001b[0;32m      1\u001b[0m \u001b[1;31m#first tweets coordinates\u001b[0m\u001b[1;33m\u001b[0m\u001b[1;33m\u001b[0m\u001b[1;33m\u001b[0m\u001b[0m\n\u001b[1;32m----> 2\u001b[1;33m \u001b[0mmodi_tweets\u001b[0m\u001b[1;33m[\u001b[0m\u001b[1;36m0\u001b[0m\u001b[1;33m]\u001b[0m\u001b[1;33m.\u001b[0m\u001b[0m_json\u001b[0m\u001b[1;33m\u001b[0m\u001b[1;33m\u001b[0m\u001b[0m\n\u001b[0m",
      "\u001b[1;31mNameError\u001b[0m: name 'modi_tweets' is not defined"
     ]
    }
   ],
   "source": [
    "#first tweets coordinates\n",
    "modi_tweets[0]._json"
   ]
  },
  {
   "cell_type": "code",
   "execution_count": 9,
   "metadata": {},
   "outputs": [
    {
     "data": {
      "text/plain": [
       "'I bow to His Holiness Dr. Sree Sree Sree Sivakumara Swamigalu on his Jayanti. \\n\\nHe lives in our hearts and minds.… https://t.co/T6CNMHIDjx'"
      ]
     },
     "execution_count": 9,
     "metadata": {},
     "output_type": "execute_result"
    }
   ],
   "source": [
    "modi_tweets[0].text"
   ]
  },
  {
   "cell_type": "code",
   "execution_count": 10,
   "metadata": {},
   "outputs": [
    {
     "data": {
      "text/plain": [
       "{'created_at': 'Mon Apr 01 03:28:25 +0000 2019',\n",
       " 'id': 1112557299456004097,\n",
       " 'id_str': '1112557299456004097',\n",
       " 'text': 'I bow to His Holiness Dr. Sree Sree Sree Sivakumara Swamigalu on his Jayanti. \\n\\nHe lives in our hearts and minds.… https://t.co/T6CNMHIDjx',\n",
       " 'truncated': True,\n",
       " 'entities': {'hashtags': [],\n",
       "  'symbols': [],\n",
       "  'user_mentions': [],\n",
       "  'urls': [{'url': 'https://t.co/T6CNMHIDjx',\n",
       "    'expanded_url': 'https://twitter.com/i/web/status/1112557299456004097',\n",
       "    'display_url': 'twitter.com/i/web/status/1…',\n",
       "    'indices': [115, 138]}]},\n",
       " 'source': '<a href=\"http://twitter.com/download/iphone\" rel=\"nofollow\">Twitter for iPhone</a>',\n",
       " 'in_reply_to_status_id': None,\n",
       " 'in_reply_to_status_id_str': None,\n",
       " 'in_reply_to_user_id': None,\n",
       " 'in_reply_to_user_id_str': None,\n",
       " 'in_reply_to_screen_name': None,\n",
       " 'user': {'id': 18839785,\n",
       "  'id_str': '18839785',\n",
       "  'name': 'Chowkidar Narendra Modi',\n",
       "  'screen_name': 'narendramodi',\n",
       "  'location': 'India',\n",
       "  'description': 'Prime Minister of India',\n",
       "  'url': 'https://t.co/zzYhUUfq6i',\n",
       "  'entities': {'url': {'urls': [{'url': 'https://t.co/zzYhUUfq6i',\n",
       "      'expanded_url': 'http://www.narendramodi.in',\n",
       "      'display_url': 'narendramodi.in',\n",
       "      'indices': [0, 23]}]},\n",
       "   'description': {'urls': []}},\n",
       "  'protected': False,\n",
       "  'followers_count': 46678303,\n",
       "  'friends_count': 2163,\n",
       "  'listed_count': 23556,\n",
       "  'created_at': 'Sat Jan 10 17:18:56 +0000 2009',\n",
       "  'favourites_count': 0,\n",
       "  'utc_offset': None,\n",
       "  'time_zone': None,\n",
       "  'geo_enabled': False,\n",
       "  'verified': True,\n",
       "  'statuses_count': 22804,\n",
       "  'lang': 'en',\n",
       "  'contributors_enabled': False,\n",
       "  'is_translator': False,\n",
       "  'is_translation_enabled': False,\n",
       "  'profile_background_color': 'F4EDD4',\n",
       "  'profile_background_image_url': 'http://abs.twimg.com/images/themes/theme1/bg.png',\n",
       "  'profile_background_image_url_https': 'https://abs.twimg.com/images/themes/theme1/bg.png',\n",
       "  'profile_background_tile': False,\n",
       "  'profile_image_url': 'http://pbs.twimg.com/profile_images/718314968102367232/ypY1GPCQ_normal.jpg',\n",
       "  'profile_image_url_https': 'https://pbs.twimg.com/profile_images/718314968102367232/ypY1GPCQ_normal.jpg',\n",
       "  'profile_banner_url': 'https://pbs.twimg.com/profile_banners/18839785/1502777627',\n",
       "  'profile_link_color': '4E7096',\n",
       "  'profile_sidebar_border_color': 'FFFFFF',\n",
       "  'profile_sidebar_fill_color': 'D5DFED',\n",
       "  'profile_text_color': '233863',\n",
       "  'profile_use_background_image': True,\n",
       "  'has_extended_profile': True,\n",
       "  'default_profile': False,\n",
       "  'default_profile_image': False,\n",
       "  'following': True,\n",
       "  'follow_request_sent': False,\n",
       "  'notifications': False,\n",
       "  'translator_type': 'regular'},\n",
       " 'geo': None,\n",
       " 'coordinates': None,\n",
       " 'place': None,\n",
       " 'contributors': None,\n",
       " 'is_quote_status': False,\n",
       " 'retweet_count': 1312,\n",
       " 'favorite_count': 5224,\n",
       " 'favorited': False,\n",
       " 'retweeted': False,\n",
       " 'possibly_sensitive': False,\n",
       " 'lang': 'en'}"
      ]
     },
     "execution_count": 10,
     "metadata": {},
     "output_type": "execute_result"
    }
   ],
   "source": [
    "#jeson view\n",
    "modi_tweets[0]._json"
   ]
  },
  {
   "cell_type": "code",
   "execution_count": 11,
   "metadata": {},
   "outputs": [
    {
     "data": {
      "text/plain": [
       "datetime.datetime(2019, 4, 1, 3, 28, 25)"
      ]
     },
     "execution_count": 11,
     "metadata": {},
     "output_type": "execute_result"
    }
   ],
   "source": [
    "modi_tweets[0].created_at"
   ]
  },
  {
   "cell_type": "code",
   "execution_count": 22,
   "metadata": {},
   "outputs": [
    {
     "data": {
      "text/plain": [
       "'Twitter for iPhone'"
      ]
     },
     "execution_count": 22,
     "metadata": {},
     "output_type": "execute_result"
    }
   ],
   "source": [
    "modi_tweets[0].source"
   ]
  },
  {
   "cell_type": "code",
   "execution_count": 23,
   "metadata": {},
   "outputs": [
    {
     "data": {
      "text/plain": [
       "'Prime Minister of India'"
      ]
     },
     "execution_count": 23,
     "metadata": {},
     "output_type": "execute_result"
    }
   ],
   "source": [
    "modi_tweets[0].user.description"
   ]
  },
  {
   "cell_type": "code",
   "execution_count": 14,
   "metadata": {},
   "outputs": [
    {
     "data": {
      "text/plain": [
       "'India'"
      ]
     },
     "execution_count": 14,
     "metadata": {},
     "output_type": "execute_result"
    }
   ],
   "source": [
    "modi_tweets[0].user.location"
   ]
  },
  {
   "cell_type": "code",
   "execution_count": 16,
   "metadata": {},
   "outputs": [
    {
     "name": "stdout",
     "output_type": "stream",
     "text": [
      "None\n"
     ]
    }
   ],
   "source": [
    "#forget turn on mobile location\n",
    "print(modi_tweets[0].geo)"
   ]
  },
  {
   "cell_type": "code",
   "execution_count": 20,
   "metadata": {},
   "outputs": [
    {
     "data": {
      "text/plain": [
       "5873"
      ]
     },
     "execution_count": 20,
     "metadata": {},
     "output_type": "execute_result"
    }
   ],
   "source": [
    "modi_tweets[0].favorite_count"
   ]
  },
  {
   "cell_type": "code",
   "execution_count": 21,
   "metadata": {},
   "outputs": [
    {
     "data": {
      "text/plain": [
       "1490"
      ]
     },
     "execution_count": 21,
     "metadata": {},
     "output_type": "execute_result"
    }
   ],
   "source": [
    "modi_tweets[0].retweet_count"
   ]
  },
  {
   "cell_type": "code",
   "execution_count": 25,
   "metadata": {},
   "outputs": [],
   "source": [
    "df_tweet = pd.DataFrame()\n",
    "\n",
    "for tweet in modi_tweets:\n",
    "    curr_tweet = {\"text\":tweet.text, \"likes\":tweet.favorite_count, \"retweets\":tweet.retweet_count,\n",
    "                 \"created_at\":tweet.created_at, \"source\":tweet.source}\n",
    "    df_tweet = df_tweet.append(curr_tweet, ignore_index=True)"
   ]
  },
  {
   "cell_type": "code",
   "execution_count": 26,
   "metadata": {},
   "outputs": [
    {
     "data": {
      "text/html": [
       "<div>\n",
       "<style scoped>\n",
       "    .dataframe tbody tr th:only-of-type {\n",
       "        vertical-align: middle;\n",
       "    }\n",
       "\n",
       "    .dataframe tbody tr th {\n",
       "        vertical-align: top;\n",
       "    }\n",
       "\n",
       "    .dataframe thead th {\n",
       "        text-align: right;\n",
       "    }\n",
       "</style>\n",
       "<table border=\"1\" class=\"dataframe\">\n",
       "  <thead>\n",
       "    <tr style=\"text-align: right;\">\n",
       "      <th></th>\n",
       "      <th>created_at</th>\n",
       "      <th>likes</th>\n",
       "      <th>retweets</th>\n",
       "      <th>source</th>\n",
       "      <th>text</th>\n",
       "    </tr>\n",
       "  </thead>\n",
       "  <tbody>\n",
       "    <tr>\n",
       "      <th>0</th>\n",
       "      <td>2019-04-01 03:28:25</td>\n",
       "      <td>5873.0</td>\n",
       "      <td>1490.0</td>\n",
       "      <td>Twitter for iPhone</td>\n",
       "      <td>I bow to His Holiness Dr. Sree Sree Sree Sivak...</td>\n",
       "    </tr>\n",
       "    <tr>\n",
       "      <th>1</th>\n",
       "      <td>2019-04-01 03:14:06</td>\n",
       "      <td>3722.0</td>\n",
       "      <td>988.0</td>\n",
       "      <td>Twitter for iPhone</td>\n",
       "      <td>Utkala Dibasa greetings to my sisters and brot...</td>\n",
       "    </tr>\n",
       "    <tr>\n",
       "      <th>2</th>\n",
       "      <td>2019-04-01 03:11:17</td>\n",
       "      <td>2863.0</td>\n",
       "      <td>736.0</td>\n",
       "      <td>Twitter for iPhone</td>\n",
       "      <td>సికింద్రాబాద్... భారత్‌ను మరింత సంపన్నమైన దేశం...</td>\n",
       "    </tr>\n",
       "    <tr>\n",
       "      <th>3</th>\n",
       "      <td>2019-04-01 03:09:43</td>\n",
       "      <td>3310.0</td>\n",
       "      <td>823.0</td>\n",
       "      <td>Twitter for iPhone</td>\n",
       "      <td>ఈరోజు నేను రాజమండ్రిలో ఒక ర్యాలీలో మాట్లాడుతున...</td>\n",
       "    </tr>\n",
       "    <tr>\n",
       "      <th>4</th>\n",
       "      <td>2019-04-01 03:07:57</td>\n",
       "      <td>9162.0</td>\n",
       "      <td>1738.0</td>\n",
       "      <td>Twitter for iPhone</td>\n",
       "      <td>केंद्र आणि राज्य सरकारने जी लोकाभिमुख कामे केल...</td>\n",
       "    </tr>\n",
       "  </tbody>\n",
       "</table>\n",
       "</div>"
      ],
      "text/plain": [
       "           created_at   likes  retweets              source  \\\n",
       "0 2019-04-01 03:28:25  5873.0    1490.0  Twitter for iPhone   \n",
       "1 2019-04-01 03:14:06  3722.0     988.0  Twitter for iPhone   \n",
       "2 2019-04-01 03:11:17  2863.0     736.0  Twitter for iPhone   \n",
       "3 2019-04-01 03:09:43  3310.0     823.0  Twitter for iPhone   \n",
       "4 2019-04-01 03:07:57  9162.0    1738.0  Twitter for iPhone   \n",
       "\n",
       "                                                text  \n",
       "0  I bow to His Holiness Dr. Sree Sree Sree Sivak...  \n",
       "1  Utkala Dibasa greetings to my sisters and brot...  \n",
       "2  సికింద్రాబాద్... భారత్‌ను మరింత సంపన్నమైన దేశం...  \n",
       "3  ఈరోజు నేను రాజమండ్రిలో ఒక ర్యాలీలో మాట్లాడుతున...  \n",
       "4  केंद्र आणि राज्य सरकारने जी लोकाभिमुख कामे केल...  "
      ]
     },
     "execution_count": 26,
     "metadata": {},
     "output_type": "execute_result"
    }
   ],
   "source": [
    "df_tweet.head()"
   ]
  },
  {
   "cell_type": "code",
   "execution_count": 27,
   "metadata": {},
   "outputs": [],
   "source": [
    "#scrape 20 page tweets\n",
    "\n",
    "df_tweets = pd.DataFrame()\n",
    "for page in range(1, 21):\n",
    "    modi_tweets = api.user_timeline(\"narendramodi\", page=page, count=200)\n",
    "    \n",
    "\n",
    "    for tweet in modi_tweets:\n",
    "        curr_tweet = {\"text\":tweet.text, \"likes\":tweet.favorite_count, \"retweets\":tweet.retweet_count,\n",
    "                     \"created_at\":tweet.created_at, \"source\":tweet.source}\n",
    "        df_tweets = df_tweets.append(curr_tweet, ignore_index=True)"
   ]
  },
  {
   "cell_type": "code",
   "execution_count": 28,
   "metadata": {},
   "outputs": [
    {
     "data": {
      "text/html": [
       "<div>\n",
       "<style scoped>\n",
       "    .dataframe tbody tr th:only-of-type {\n",
       "        vertical-align: middle;\n",
       "    }\n",
       "\n",
       "    .dataframe tbody tr th {\n",
       "        vertical-align: top;\n",
       "    }\n",
       "\n",
       "    .dataframe thead th {\n",
       "        text-align: right;\n",
       "    }\n",
       "</style>\n",
       "<table border=\"1\" class=\"dataframe\">\n",
       "  <thead>\n",
       "    <tr style=\"text-align: right;\">\n",
       "      <th></th>\n",
       "      <th>created_at</th>\n",
       "      <th>likes</th>\n",
       "      <th>retweets</th>\n",
       "      <th>source</th>\n",
       "      <th>text</th>\n",
       "    </tr>\n",
       "  </thead>\n",
       "  <tbody>\n",
       "    <tr>\n",
       "      <th>0</th>\n",
       "      <td>2019-04-01 03:28:25</td>\n",
       "      <td>6247.0</td>\n",
       "      <td>1583.0</td>\n",
       "      <td>Twitter for iPhone</td>\n",
       "      <td>I bow to His Holiness Dr. Sree Sree Sree Sivak...</td>\n",
       "    </tr>\n",
       "    <tr>\n",
       "      <th>1</th>\n",
       "      <td>2019-04-01 03:14:06</td>\n",
       "      <td>3890.0</td>\n",
       "      <td>1046.0</td>\n",
       "      <td>Twitter for iPhone</td>\n",
       "      <td>Utkala Dibasa greetings to my sisters and brot...</td>\n",
       "    </tr>\n",
       "    <tr>\n",
       "      <th>2</th>\n",
       "      <td>2019-04-01 03:11:17</td>\n",
       "      <td>3001.0</td>\n",
       "      <td>769.0</td>\n",
       "      <td>Twitter for iPhone</td>\n",
       "      <td>సికింద్రాబాద్... భారత్‌ను మరింత సంపన్నమైన దేశం...</td>\n",
       "    </tr>\n",
       "    <tr>\n",
       "      <th>3</th>\n",
       "      <td>2019-04-01 03:09:43</td>\n",
       "      <td>3477.0</td>\n",
       "      <td>858.0</td>\n",
       "      <td>Twitter for iPhone</td>\n",
       "      <td>ఈరోజు నేను రాజమండ్రిలో ఒక ర్యాలీలో మాట్లాడుతున...</td>\n",
       "    </tr>\n",
       "    <tr>\n",
       "      <th>4</th>\n",
       "      <td>2019-04-01 03:07:57</td>\n",
       "      <td>9794.0</td>\n",
       "      <td>1846.0</td>\n",
       "      <td>Twitter for iPhone</td>\n",
       "      <td>केंद्र आणि राज्य सरकारने जी लोकाभिमुख कामे केल...</td>\n",
       "    </tr>\n",
       "  </tbody>\n",
       "</table>\n",
       "</div>"
      ],
      "text/plain": [
       "           created_at   likes  retweets              source  \\\n",
       "0 2019-04-01 03:28:25  6247.0    1583.0  Twitter for iPhone   \n",
       "1 2019-04-01 03:14:06  3890.0    1046.0  Twitter for iPhone   \n",
       "2 2019-04-01 03:11:17  3001.0     769.0  Twitter for iPhone   \n",
       "3 2019-04-01 03:09:43  3477.0     858.0  Twitter for iPhone   \n",
       "4 2019-04-01 03:07:57  9794.0    1846.0  Twitter for iPhone   \n",
       "\n",
       "                                                text  \n",
       "0  I bow to His Holiness Dr. Sree Sree Sree Sivak...  \n",
       "1  Utkala Dibasa greetings to my sisters and brot...  \n",
       "2  సికింద్రాబాద్... భారత్‌ను మరింత సంపన్నమైన దేశం...  \n",
       "3  ఈరోజు నేను రాజమండ్రిలో ఒక ర్యాలీలో మాట్లాడుతున...  \n",
       "4  केंद्र आणि राज्य सरकारने जी लोकाभिमुख कामे केल...  "
      ]
     },
     "execution_count": 28,
     "metadata": {},
     "output_type": "execute_result"
    }
   ],
   "source": [
    "df_tweets.head()"
   ]
  },
  {
   "cell_type": "code",
   "execution_count": 30,
   "metadata": {},
   "outputs": [
    {
     "data": {
      "text/plain": [
       "(3215, 5)"
      ]
     },
     "execution_count": 30,
     "metadata": {},
     "output_type": "execute_result"
    }
   ],
   "source": [
    "df_tweets.shape"
   ]
  },
  {
   "cell_type": "code",
   "execution_count": 31,
   "metadata": {},
   "outputs": [],
   "source": [
    "df_tweets.to_csv(\"ModiTweets.csv\")"
   ]
  },
  {
   "cell_type": "markdown",
   "metadata": {},
   "source": [
    "# Twitter Analysis"
   ]
  },
  {
   "cell_type": "code",
   "execution_count": 32,
   "metadata": {},
   "outputs": [
    {
     "data": {
      "text/plain": [
       "Twitter Web Client      1633\n",
       "Twitter Media Studio     741\n",
       "Twitter for iPhone       535\n",
       "Periscope                213\n",
       "Twitter for Android       92\n",
       "Twitter Ads Composer       1\n",
       "Name: source, dtype: int64"
      ]
     },
     "execution_count": 32,
     "metadata": {},
     "output_type": "execute_result"
    }
   ],
   "source": [
    "df_tweets.source.value_counts()"
   ]
  },
  {
   "cell_type": "code",
   "execution_count": 34,
   "metadata": {},
   "outputs": [
    {
     "data": {
      "text/html": [
       "<div>\n",
       "<style scoped>\n",
       "    .dataframe tbody tr th:only-of-type {\n",
       "        vertical-align: middle;\n",
       "    }\n",
       "\n",
       "    .dataframe tbody tr th {\n",
       "        vertical-align: top;\n",
       "    }\n",
       "\n",
       "    .dataframe thead th {\n",
       "        text-align: right;\n",
       "    }\n",
       "</style>\n",
       "<table border=\"1\" class=\"dataframe\">\n",
       "  <thead>\n",
       "    <tr style=\"text-align: right;\">\n",
       "      <th></th>\n",
       "      <th>created_at</th>\n",
       "      <th>likes</th>\n",
       "      <th>retweets</th>\n",
       "      <th>source</th>\n",
       "      <th>text</th>\n",
       "    </tr>\n",
       "  </thead>\n",
       "  <tbody>\n",
       "    <tr>\n",
       "      <th>357</th>\n",
       "      <td>2019-03-01 16:34:29</td>\n",
       "      <td>271910.0</td>\n",
       "      <td>66478.0</td>\n",
       "      <td>Twitter for iPhone</td>\n",
       "      <td>Welcome Home Wing Commander Abhinandan!\\n\\nThe...</td>\n",
       "    </tr>\n",
       "    <tr>\n",
       "      <th>170</th>\n",
       "      <td>2019-03-16 03:30:15</td>\n",
       "      <td>160811.0</td>\n",
       "      <td>56400.0</td>\n",
       "      <td>Twitter Ads Composer</td>\n",
       "      <td>Your Chowkidar is standing firm &amp;amp; serving ...</td>\n",
       "    </tr>\n",
       "    <tr>\n",
       "      <th>490</th>\n",
       "      <td>2019-02-14 13:16:57</td>\n",
       "      <td>130632.0</td>\n",
       "      <td>41242.0</td>\n",
       "      <td>Twitter for Android</td>\n",
       "      <td>Attack on CRPF personnel in Pulwama is despica...</td>\n",
       "    </tr>\n",
       "    <tr>\n",
       "      <th>486</th>\n",
       "      <td>2019-02-15 16:29:33</td>\n",
       "      <td>156913.0</td>\n",
       "      <td>37956.0</td>\n",
       "      <td>Twitter for iPhone</td>\n",
       "      <td>We salute you, brave sons of Mother India. \\n\\...</td>\n",
       "    </tr>\n",
       "    <tr>\n",
       "      <th>77</th>\n",
       "      <td>2019-03-27 07:11:27</td>\n",
       "      <td>122421.0</td>\n",
       "      <td>35279.0</td>\n",
       "      <td>Twitter Web Client</td>\n",
       "      <td>#MissionShakti is special for 2 reasons:\\n(1) ...</td>\n",
       "    </tr>\n",
       "  </tbody>\n",
       "</table>\n",
       "</div>"
      ],
      "text/plain": [
       "             created_at     likes  retweets                source  \\\n",
       "357 2019-03-01 16:34:29  271910.0   66478.0    Twitter for iPhone   \n",
       "170 2019-03-16 03:30:15  160811.0   56400.0  Twitter Ads Composer   \n",
       "490 2019-02-14 13:16:57  130632.0   41242.0   Twitter for Android   \n",
       "486 2019-02-15 16:29:33  156913.0   37956.0    Twitter for iPhone   \n",
       "77  2019-03-27 07:11:27  122421.0   35279.0    Twitter Web Client   \n",
       "\n",
       "                                                  text  \n",
       "357  Welcome Home Wing Commander Abhinandan!\\n\\nThe...  \n",
       "170  Your Chowkidar is standing firm &amp; serving ...  \n",
       "490  Attack on CRPF personnel in Pulwama is despica...  \n",
       "486  We salute you, brave sons of Mother India. \\n\\...  \n",
       "77   #MissionShakti is special for 2 reasons:\\n(1) ...  "
      ]
     },
     "execution_count": 34,
     "metadata": {},
     "output_type": "execute_result"
    }
   ],
   "source": [
    "df_tweets.sort_values(by=\"retweets\",ascending =False).head()"
   ]
  },
  {
   "cell_type": "code",
   "execution_count": 35,
   "metadata": {},
   "outputs": [
    {
     "data": {
      "text/html": [
       "<div>\n",
       "<style scoped>\n",
       "    .dataframe tbody tr th:only-of-type {\n",
       "        vertical-align: middle;\n",
       "    }\n",
       "\n",
       "    .dataframe tbody tr th {\n",
       "        vertical-align: top;\n",
       "    }\n",
       "\n",
       "    .dataframe thead th {\n",
       "        text-align: right;\n",
       "    }\n",
       "</style>\n",
       "<table border=\"1\" class=\"dataframe\">\n",
       "  <thead>\n",
       "    <tr style=\"text-align: right;\">\n",
       "      <th></th>\n",
       "      <th>created_at</th>\n",
       "      <th>likes</th>\n",
       "      <th>retweets</th>\n",
       "      <th>source</th>\n",
       "      <th>text</th>\n",
       "    </tr>\n",
       "  </thead>\n",
       "  <tbody>\n",
       "    <tr>\n",
       "      <th>357</th>\n",
       "      <td>2019-03-01 16:34:29</td>\n",
       "      <td>271910.0</td>\n",
       "      <td>66478.0</td>\n",
       "      <td>Twitter for iPhone</td>\n",
       "      <td>Welcome Home Wing Commander Abhinandan!\\n\\nThe...</td>\n",
       "    </tr>\n",
       "    <tr>\n",
       "      <th>170</th>\n",
       "      <td>2019-03-16 03:30:15</td>\n",
       "      <td>160811.0</td>\n",
       "      <td>56400.0</td>\n",
       "      <td>Twitter Ads Composer</td>\n",
       "      <td>Your Chowkidar is standing firm &amp;amp; serving ...</td>\n",
       "    </tr>\n",
       "    <tr>\n",
       "      <th>486</th>\n",
       "      <td>2019-02-15 16:29:33</td>\n",
       "      <td>156913.0</td>\n",
       "      <td>37956.0</td>\n",
       "      <td>Twitter for iPhone</td>\n",
       "      <td>We salute you, brave sons of Mother India. \\n\\...</td>\n",
       "    </tr>\n",
       "    <tr>\n",
       "      <th>490</th>\n",
       "      <td>2019-02-14 13:16:57</td>\n",
       "      <td>130632.0</td>\n",
       "      <td>41242.0</td>\n",
       "      <td>Twitter for Android</td>\n",
       "      <td>Attack on CRPF personnel in Pulwama is despica...</td>\n",
       "    </tr>\n",
       "    <tr>\n",
       "      <th>81</th>\n",
       "      <td>2019-03-27 05:53:17</td>\n",
       "      <td>129102.0</td>\n",
       "      <td>33082.0</td>\n",
       "      <td>Twitter Web Client</td>\n",
       "      <td>मेरे प्यारे देशवासियों, \\n\\nआज सवेरे लगभग 11.4...</td>\n",
       "    </tr>\n",
       "  </tbody>\n",
       "</table>\n",
       "</div>"
      ],
      "text/plain": [
       "             created_at     likes  retweets                source  \\\n",
       "357 2019-03-01 16:34:29  271910.0   66478.0    Twitter for iPhone   \n",
       "170 2019-03-16 03:30:15  160811.0   56400.0  Twitter Ads Composer   \n",
       "486 2019-02-15 16:29:33  156913.0   37956.0    Twitter for iPhone   \n",
       "490 2019-02-14 13:16:57  130632.0   41242.0   Twitter for Android   \n",
       "81  2019-03-27 05:53:17  129102.0   33082.0    Twitter Web Client   \n",
       "\n",
       "                                                  text  \n",
       "357  Welcome Home Wing Commander Abhinandan!\\n\\nThe...  \n",
       "170  Your Chowkidar is standing firm &amp; serving ...  \n",
       "486  We salute you, brave sons of Mother India. \\n\\...  \n",
       "490  Attack on CRPF personnel in Pulwama is despica...  \n",
       "81   मेरे प्यारे देशवासियों, \\n\\nआज सवेरे लगभग 11.4...  "
      ]
     },
     "execution_count": 35,
     "metadata": {},
     "output_type": "execute_result"
    }
   ],
   "source": [
    "df_tweets.sort_values(by=\"likes\",ascending =False).head()"
   ]
  },
  {
   "cell_type": "code",
   "execution_count": 36,
   "metadata": {},
   "outputs": [
    {
     "data": {
      "text/plain": [
       "created_at    datetime64[ns]\n",
       "likes                float64\n",
       "retweets             float64\n",
       "source                object\n",
       "text                  object\n",
       "dtype: object"
      ]
     },
     "execution_count": 36,
     "metadata": {},
     "output_type": "execute_result"
    }
   ],
   "source": [
    "df_tweets[\"created_at\"]=pd.to_datetime(df_tweets.created_at)\n",
    "df_tweets.dtypes"
   ]
  },
  {
   "cell_type": "code",
   "execution_count": 37,
   "metadata": {},
   "outputs": [
    {
     "data": {
      "text/plain": [
       "(Timestamp('2018-06-21 10:36:05'), Timestamp('2019-04-01 03:28:25'))"
      ]
     },
     "execution_count": 37,
     "metadata": {},
     "output_type": "execute_result"
    }
   ],
   "source": [
    "df_tweets.created_at.min(), df_tweets.created_at.max()"
   ]
  },
  {
   "cell_type": "code",
   "execution_count": 40,
   "metadata": {},
   "outputs": [],
   "source": [
    "import matplotlib.pyplot as plt\n",
    "%matplotlib inline"
   ]
  },
  {
   "cell_type": "code",
   "execution_count": 41,
   "metadata": {},
   "outputs": [
    {
     "data": {
      "image/png": "[encoded data removed]",
      "text/plain": [
       "<Figure size 432x288 with 1 Axes>"
      ]
     },
     "metadata": {
      "needs_background": "light"
     },
     "output_type": "display_data"
    }
   ],
   "source": [
    "df_tweets[\"Hour\"] = df_tweets.created_at.dt.hour\n",
    "df_tweets.Hour.value_counts().sort_index().plot()\n",
    "plt.show()"
   ]
  },
  {
   "cell_type": "code",
   "execution_count": null,
   "metadata": {},
   "outputs": [],
   "source": [
    "import pytz.timezone as tmz\n",
    "kolkata = tmz.timezone(\"Asia/Calcutta\")\n",
    "\n",
    "df_tweets.created_at.apply(lambda v: kolkata.localize"
   ]
  },
  {
   "cell_type": "code",
   "execution_count": 48,
   "metadata": {},
   "outputs": [
    {
     "data": {
      "text/plain": [
       "<matplotlib.image.AxesImage at 0x1c996fce908>"
      ]
     },
     "execution_count": 48,
     "metadata": {},
     "output_type": "execute_result"
    },
    {
     "data": {
      "image/png": "[encoded data removed]",
      "text/plain": [
       "<Figure size 432x288 with 1 Axes>"
      ]
     },
     "metadata": {
      "needs_background": "light"
     },
     "output_type": "display_data"
    }
   ],
   "source": [
    "from wordcloud import WordCloud\n",
    "doc = df_tweets.text.str.lower()\n",
    "doc = \" \".join(doc)\n",
    "\n",
    "wc = WordCloud(background_color=\"white\").generate(doc)\n",
    "plt.imshow(wc)"
   ]
  },
  {
   "cell_type": "markdown",
   "metadata": {},
   "source": [
    "#get the hash tags\n",
    "\n",
    "create a empty list called as hash tag\n",
    "loop through each tweets \n",
    "break each tweets in words by split string by space\n",
    "identify if a word start with #\n",
    "if so append the word to hashtag list\n",
    "convert it to series and value counts to get frequency odf each hash tag"
   ]
  },
  {
   "cell_type": "code",
   "execution_count": 61,
   "metadata": {},
   "outputs": [],
   "source": [
    "\n",
    "hash_tag = []\n",
    "for tweet in df_tweets.text:\n",
    "    words = tweet.split()\n",
    "    \n",
    "    tags = [tag for tag in words if tag.startswith(\"#\")]\n",
    "    hash_tag.extend(tags)"
   ]
  },
  {
   "cell_type": "code",
   "execution_count": 64,
   "metadata": {},
   "outputs": [
    {
     "data": {
      "text/plain": [
       "<matplotlib.axes._subplots.AxesSubplot at 0x1c9971147b8>"
      ]
     },
     "execution_count": 64,
     "metadata": {},
     "output_type": "execute_result"
    },
    {
     "data": {
      "image/png": "[encoded data removed]",
      "text/plain": [
       "<Figure size 432x288 with 1 Axes>"
      ]
     },
     "metadata": {
      "needs_background": "light"
     },
     "output_type": "display_data"
    }
   ],
   "source": [
    "hashtag = pd.Series(hash_tag)\n",
    "hashtag.value_counts().head().plot(kind=\"bar\")"
   ]
  },
  {
   "cell_type": "markdown",
   "metadata": {},
   "source": [
    "# how frequency of hash tag accross month"
   ]
  },
  {
   "cell_type": "code",
   "execution_count": null,
   "metadata": {},
   "outputs": [],
   "source": [
    "create a new column for month\n",
    "grouby month"
   ]
  },
  {
   "cell_type": "code",
   "execution_count": 75,
   "metadata": {},
   "outputs": [],
   "source": [
    "df_tweets[\"Month_Year\"] = df_tweets.created_at.dt.strftime(\"%Y-%m\")"
   ]
  },
  {
   "cell_type": "code",
   "execution_count": 70,
   "metadata": {},
   "outputs": [],
   "source": [
    "\n",
    "df_tweets[\"Mannkibaat\"] = df_tweets.text.apply(lambda  text: 1 if \"MannKiBaat\" in text else 0)\n"
   ]
  },
  {
   "cell_type": "code",
   "execution_count": 71,
   "metadata": {},
   "outputs": [
    {
     "data": {
      "text/plain": [
       "0    3169\n",
       "1      46\n",
       "Name: Mannkibaat, dtype: int64"
      ]
     },
     "execution_count": 71,
     "metadata": {},
     "output_type": "execute_result"
    }
   ],
   "source": [
    "df_tweets.Mannkibaat.value_counts()"
   ]
  },
  {
   "cell_type": "code",
   "execution_count": 76,
   "metadata": {},
   "outputs": [
    {
     "data": {
      "text/html": [
       "<div>\n",
       "<style scoped>\n",
       "    .dataframe tbody tr th:only-of-type {\n",
       "        vertical-align: middle;\n",
       "    }\n",
       "\n",
       "    .dataframe tbody tr th {\n",
       "        vertical-align: top;\n",
       "    }\n",
       "\n",
       "    .dataframe thead th {\n",
       "        text-align: right;\n",
       "    }\n",
       "</style>\n",
       "<table border=\"1\" class=\"dataframe\">\n",
       "  <thead>\n",
       "    <tr style=\"text-align: right;\">\n",
       "      <th></th>\n",
       "      <th>Month_Year</th>\n",
       "      <th>Mannkibaat</th>\n",
       "    </tr>\n",
       "  </thead>\n",
       "  <tbody>\n",
       "    <tr>\n",
       "      <th>0</th>\n",
       "      <td>2019-04</td>\n",
       "      <td>0</td>\n",
       "    </tr>\n",
       "    <tr>\n",
       "      <th>1</th>\n",
       "      <td>2019-04</td>\n",
       "      <td>0</td>\n",
       "    </tr>\n",
       "    <tr>\n",
       "      <th>2</th>\n",
       "      <td>2019-04</td>\n",
       "      <td>0</td>\n",
       "    </tr>\n",
       "    <tr>\n",
       "      <th>3</th>\n",
       "      <td>2019-04</td>\n",
       "      <td>0</td>\n",
       "    </tr>\n",
       "    <tr>\n",
       "      <th>4</th>\n",
       "      <td>2019-04</td>\n",
       "      <td>0</td>\n",
       "    </tr>\n",
       "  </tbody>\n",
       "</table>\n",
       "</div>"
      ],
      "text/plain": [
       "  Month_Year  Mannkibaat\n",
       "0    2019-04           0\n",
       "1    2019-04           0\n",
       "2    2019-04           0\n",
       "3    2019-04           0\n",
       "4    2019-04           0"
      ]
     },
     "execution_count": 76,
     "metadata": {},
     "output_type": "execute_result"
    }
   ],
   "source": [
    "df_tweets[[\"Month_Year\",\"Mannkibaat\"]].head()"
   ]
  },
  {
   "cell_type": "code",
   "execution_count": 79,
   "metadata": {},
   "outputs": [
    {
     "data": {
      "text/plain": [
       "<matplotlib.axes._subplots.AxesSubplot at 0x1c99818bef0>"
      ]
     },
     "execution_count": 79,
     "metadata": {},
     "output_type": "execute_result"
    },
    {
     "data": {
      "image/png": "[encoded data removed]",
      "text/plain": [
       "<Figure size 432x288 with 1 Axes>"
      ]
     },
     "metadata": {
      "needs_background": "light"
     },
     "output_type": "display_data"
    }
   ],
   "source": [
    "df_tweets.groupby(\"Month_Year\")[\"Mannkibaat\"].sum().plot(kind=\"bar\")"
   ]
  },
  {
   "cell_type": "markdown",
   "metadata": {},
   "source": [
    "# -----------"
   ]
  },
  {
   "cell_type": "code",
   "execution_count": 81,
   "metadata": {},
   "outputs": [],
   "source": [
    "df_tweets[\"Day\"] = df_tweets.created_at.dt.day\n",
    "df_tweets[\"weekday\"] = df_tweets.created_at.dt.day_name()"
   ]
  },
  {
   "cell_type": "code",
   "execution_count": 83,
   "metadata": {},
   "outputs": [
    {
     "data": {
      "text/html": [
       "<div>\n",
       "<style scoped>\n",
       "    .dataframe tbody tr th:only-of-type {\n",
       "        vertical-align: middle;\n",
       "    }\n",
       "\n",
       "    .dataframe tbody tr th {\n",
       "        vertical-align: top;\n",
       "    }\n",
       "\n",
       "    .dataframe thead th {\n",
       "        text-align: right;\n",
       "    }\n",
       "</style>\n",
       "<table border=\"1\" class=\"dataframe\">\n",
       "  <thead>\n",
       "    <tr style=\"text-align: right;\">\n",
       "      <th></th>\n",
       "      <th>Month_Year</th>\n",
       "      <th>Day</th>\n",
       "      <th>count</th>\n",
       "    </tr>\n",
       "  </thead>\n",
       "  <tbody>\n",
       "    <tr>\n",
       "      <th>0</th>\n",
       "      <td>2018-06</td>\n",
       "      <td>21</td>\n",
       "      <td>34</td>\n",
       "    </tr>\n",
       "    <tr>\n",
       "      <th>1</th>\n",
       "      <td>2018-06</td>\n",
       "      <td>22</td>\n",
       "      <td>3</td>\n",
       "    </tr>\n",
       "    <tr>\n",
       "      <th>2</th>\n",
       "      <td>2018-06</td>\n",
       "      <td>23</td>\n",
       "      <td>11</td>\n",
       "    </tr>\n",
       "    <tr>\n",
       "      <th>3</th>\n",
       "      <td>2018-06</td>\n",
       "      <td>24</td>\n",
       "      <td>10</td>\n",
       "    </tr>\n",
       "    <tr>\n",
       "      <th>4</th>\n",
       "      <td>2018-06</td>\n",
       "      <td>25</td>\n",
       "      <td>3</td>\n",
       "    </tr>\n",
       "  </tbody>\n",
       "</table>\n",
       "</div>"
      ],
      "text/plain": [
       "  Month_Year  Day  count\n",
       "0    2018-06   21     34\n",
       "1    2018-06   22      3\n",
       "2    2018-06   23     11\n",
       "3    2018-06   24     10\n",
       "4    2018-06   25      3"
      ]
     },
     "execution_count": 83,
     "metadata": {},
     "output_type": "execute_result"
    }
   ],
   "source": [
    "summary =df_tweets.groupby([\"Month_Year\", \"Day\"]).size().reset_index()\n",
    "summary = summary.rename(columns={0:\"count\"})\n",
    "summary.head()"
   ]
  },
  {
   "cell_type": "code",
   "execution_count": 85,
   "metadata": {},
   "outputs": [
    {
     "data": {
      "text/html": [
       "<div>\n",
       "<style scoped>\n",
       "    .dataframe tbody tr th:only-of-type {\n",
       "        vertical-align: middle;\n",
       "    }\n",
       "\n",
       "    .dataframe tbody tr th {\n",
       "        vertical-align: top;\n",
       "    }\n",
       "\n",
       "    .dataframe thead th {\n",
       "        text-align: right;\n",
       "    }\n",
       "</style>\n",
       "<table border=\"1\" class=\"dataframe\">\n",
       "  <thead>\n",
       "    <tr style=\"text-align: right;\">\n",
       "      <th>Day</th>\n",
       "      <th>1</th>\n",
       "      <th>2</th>\n",
       "      <th>3</th>\n",
       "      <th>4</th>\n",
       "      <th>5</th>\n",
       "      <th>6</th>\n",
       "      <th>7</th>\n",
       "      <th>8</th>\n",
       "      <th>9</th>\n",
       "      <th>10</th>\n",
       "      <th>...</th>\n",
       "      <th>22</th>\n",
       "      <th>23</th>\n",
       "      <th>24</th>\n",
       "      <th>25</th>\n",
       "      <th>26</th>\n",
       "      <th>27</th>\n",
       "      <th>28</th>\n",
       "      <th>29</th>\n",
       "      <th>30</th>\n",
       "      <th>31</th>\n",
       "    </tr>\n",
       "    <tr>\n",
       "      <th>Month_Year</th>\n",
       "      <th></th>\n",
       "      <th></th>\n",
       "      <th></th>\n",
       "      <th></th>\n",
       "      <th></th>\n",
       "      <th></th>\n",
       "      <th></th>\n",
       "      <th></th>\n",
       "      <th></th>\n",
       "      <th></th>\n",
       "      <th></th>\n",
       "      <th></th>\n",
       "      <th></th>\n",
       "      <th></th>\n",
       "      <th></th>\n",
       "      <th></th>\n",
       "      <th></th>\n",
       "      <th></th>\n",
       "      <th></th>\n",
       "      <th></th>\n",
       "      <th></th>\n",
       "    </tr>\n",
       "  </thead>\n",
       "  <tbody>\n",
       "    <tr>\n",
       "      <th>2018-06</th>\n",
       "      <td>NaN</td>\n",
       "      <td>NaN</td>\n",
       "      <td>NaN</td>\n",
       "      <td>NaN</td>\n",
       "      <td>NaN</td>\n",
       "      <td>NaN</td>\n",
       "      <td>NaN</td>\n",
       "      <td>NaN</td>\n",
       "      <td>NaN</td>\n",
       "      <td>NaN</td>\n",
       "      <td>...</td>\n",
       "      <td>3.0</td>\n",
       "      <td>11.0</td>\n",
       "      <td>10.0</td>\n",
       "      <td>3.0</td>\n",
       "      <td>19.0</td>\n",
       "      <td>8.0</td>\n",
       "      <td>9.0</td>\n",
       "      <td>7.0</td>\n",
       "      <td>4.0</td>\n",
       "      <td>NaN</td>\n",
       "    </tr>\n",
       "    <tr>\n",
       "      <th>2018-07</th>\n",
       "      <td>9.0</td>\n",
       "      <td>3.0</td>\n",
       "      <td>2.0</td>\n",
       "      <td>9.0</td>\n",
       "      <td>2.0</td>\n",
       "      <td>5.0</td>\n",
       "      <td>6.0</td>\n",
       "      <td>2.0</td>\n",
       "      <td>8.0</td>\n",
       "      <td>8.0</td>\n",
       "      <td>...</td>\n",
       "      <td>7.0</td>\n",
       "      <td>7.0</td>\n",
       "      <td>10.0</td>\n",
       "      <td>8.0</td>\n",
       "      <td>10.0</td>\n",
       "      <td>7.0</td>\n",
       "      <td>5.0</td>\n",
       "      <td>18.0</td>\n",
       "      <td>5.0</td>\n",
       "      <td>2.0</td>\n",
       "    </tr>\n",
       "    <tr>\n",
       "      <th>2018-08</th>\n",
       "      <td>5.0</td>\n",
       "      <td>6.0</td>\n",
       "      <td>8.0</td>\n",
       "      <td>1.0</td>\n",
       "      <td>2.0</td>\n",
       "      <td>5.0</td>\n",
       "      <td>13.0</td>\n",
       "      <td>2.0</td>\n",
       "      <td>8.0</td>\n",
       "      <td>8.0</td>\n",
       "      <td>...</td>\n",
       "      <td>7.0</td>\n",
       "      <td>13.0</td>\n",
       "      <td>7.0</td>\n",
       "      <td>6.0</td>\n",
       "      <td>19.0</td>\n",
       "      <td>9.0</td>\n",
       "      <td>10.0</td>\n",
       "      <td>14.0</td>\n",
       "      <td>10.0</td>\n",
       "      <td>19.0</td>\n",
       "    </tr>\n",
       "    <tr>\n",
       "      <th>2018-09</th>\n",
       "      <td>13.0</td>\n",
       "      <td>6.0</td>\n",
       "      <td>7.0</td>\n",
       "      <td>49.0</td>\n",
       "      <td>25.0</td>\n",
       "      <td>3.0</td>\n",
       "      <td>5.0</td>\n",
       "      <td>2.0</td>\n",
       "      <td>1.0</td>\n",
       "      <td>7.0</td>\n",
       "      <td>...</td>\n",
       "      <td>11.0</td>\n",
       "      <td>8.0</td>\n",
       "      <td>2.0</td>\n",
       "      <td>16.0</td>\n",
       "      <td>6.0</td>\n",
       "      <td>22.0</td>\n",
       "      <td>8.0</td>\n",
       "      <td>13.0</td>\n",
       "      <td>20.0</td>\n",
       "      <td>NaN</td>\n",
       "    </tr>\n",
       "    <tr>\n",
       "      <th>2018-10</th>\n",
       "      <td>4.0</td>\n",
       "      <td>40.0</td>\n",
       "      <td>10.0</td>\n",
       "      <td>13.0</td>\n",
       "      <td>8.0</td>\n",
       "      <td>14.0</td>\n",
       "      <td>7.0</td>\n",
       "      <td>3.0</td>\n",
       "      <td>8.0</td>\n",
       "      <td>9.0</td>\n",
       "      <td>...</td>\n",
       "      <td>11.0</td>\n",
       "      <td>14.0</td>\n",
       "      <td>16.0</td>\n",
       "      <td>7.0</td>\n",
       "      <td>10.0</td>\n",
       "      <td>11.0</td>\n",
       "      <td>13.0</td>\n",
       "      <td>11.0</td>\n",
       "      <td>14.0</td>\n",
       "      <td>27.0</td>\n",
       "    </tr>\n",
       "    <tr>\n",
       "      <th>2018-11</th>\n",
       "      <td>11.0</td>\n",
       "      <td>15.0</td>\n",
       "      <td>7.0</td>\n",
       "      <td>7.0</td>\n",
       "      <td>14.0</td>\n",
       "      <td>10.0</td>\n",
       "      <td>9.0</td>\n",
       "      <td>6.0</td>\n",
       "      <td>10.0</td>\n",
       "      <td>7.0</td>\n",
       "      <td>...</td>\n",
       "      <td>6.0</td>\n",
       "      <td>12.0</td>\n",
       "      <td>16.0</td>\n",
       "      <td>26.0</td>\n",
       "      <td>21.0</td>\n",
       "      <td>19.0</td>\n",
       "      <td>13.0</td>\n",
       "      <td>5.0</td>\n",
       "      <td>14.0</td>\n",
       "      <td>NaN</td>\n",
       "    </tr>\n",
       "    <tr>\n",
       "      <th>2018-12</th>\n",
       "      <td>23.0</td>\n",
       "      <td>3.0</td>\n",
       "      <td>17.0</td>\n",
       "      <td>13.0</td>\n",
       "      <td>11.0</td>\n",
       "      <td>2.0</td>\n",
       "      <td>7.0</td>\n",
       "      <td>1.0</td>\n",
       "      <td>7.0</td>\n",
       "      <td>7.0</td>\n",
       "      <td>...</td>\n",
       "      <td>8.0</td>\n",
       "      <td>15.0</td>\n",
       "      <td>15.0</td>\n",
       "      <td>13.0</td>\n",
       "      <td>5.0</td>\n",
       "      <td>6.0</td>\n",
       "      <td>10.0</td>\n",
       "      <td>11.0</td>\n",
       "      <td>22.0</td>\n",
       "      <td>10.0</td>\n",
       "    </tr>\n",
       "    <tr>\n",
       "      <th>2019-01</th>\n",
       "      <td>4.0</td>\n",
       "      <td>9.0</td>\n",
       "      <td>13.0</td>\n",
       "      <td>13.0</td>\n",
       "      <td>12.0</td>\n",
       "      <td>5.0</td>\n",
       "      <td>1.0</td>\n",
       "      <td>14.0</td>\n",
       "      <td>13.0</td>\n",
       "      <td>3.0</td>\n",
       "      <td>...</td>\n",
       "      <td>8.0</td>\n",
       "      <td>13.0</td>\n",
       "      <td>31.0</td>\n",
       "      <td>15.0</td>\n",
       "      <td>8.0</td>\n",
       "      <td>15.0</td>\n",
       "      <td>15.0</td>\n",
       "      <td>17.0</td>\n",
       "      <td>13.0</td>\n",
       "      <td>2.0</td>\n",
       "    </tr>\n",
       "    <tr>\n",
       "      <th>2019-02</th>\n",
       "      <td>3.0</td>\n",
       "      <td>12.0</td>\n",
       "      <td>16.0</td>\n",
       "      <td>3.0</td>\n",
       "      <td>2.0</td>\n",
       "      <td>1.0</td>\n",
       "      <td>8.0</td>\n",
       "      <td>15.0</td>\n",
       "      <td>17.0</td>\n",
       "      <td>19.0</td>\n",
       "      <td>...</td>\n",
       "      <td>13.0</td>\n",
       "      <td>13.0</td>\n",
       "      <td>22.0</td>\n",
       "      <td>14.0</td>\n",
       "      <td>7.0</td>\n",
       "      <td>1.0</td>\n",
       "      <td>1.0</td>\n",
       "      <td>NaN</td>\n",
       "      <td>NaN</td>\n",
       "      <td>NaN</td>\n",
       "    </tr>\n",
       "    <tr>\n",
       "      <th>2019-03</th>\n",
       "      <td>4.0</td>\n",
       "      <td>7.0</td>\n",
       "      <td>23.0</td>\n",
       "      <td>12.0</td>\n",
       "      <td>11.0</td>\n",
       "      <td>18.0</td>\n",
       "      <td>12.0</td>\n",
       "      <td>22.0</td>\n",
       "      <td>10.0</td>\n",
       "      <td>12.0</td>\n",
       "      <td>...</td>\n",
       "      <td>7.0</td>\n",
       "      <td>4.0</td>\n",
       "      <td>26.0</td>\n",
       "      <td>5.0</td>\n",
       "      <td>NaN</td>\n",
       "      <td>11.0</td>\n",
       "      <td>10.0</td>\n",
       "      <td>25.0</td>\n",
       "      <td>19.0</td>\n",
       "      <td>11.0</td>\n",
       "    </tr>\n",
       "    <tr>\n",
       "      <th>2019-04</th>\n",
       "      <td>6.0</td>\n",
       "      <td>NaN</td>\n",
       "      <td>NaN</td>\n",
       "      <td>NaN</td>\n",
       "      <td>NaN</td>\n",
       "      <td>NaN</td>\n",
       "      <td>NaN</td>\n",
       "      <td>NaN</td>\n",
       "      <td>NaN</td>\n",
       "      <td>NaN</td>\n",
       "      <td>...</td>\n",
       "      <td>NaN</td>\n",
       "      <td>NaN</td>\n",
       "      <td>NaN</td>\n",
       "      <td>NaN</td>\n",
       "      <td>NaN</td>\n",
       "      <td>NaN</td>\n",
       "      <td>NaN</td>\n",
       "      <td>NaN</td>\n",
       "      <td>NaN</td>\n",
       "      <td>NaN</td>\n",
       "    </tr>\n",
       "  </tbody>\n",
       "</table>\n",
       "<p>11 rows × 31 columns</p>\n",
       "</div>"
      ],
      "text/plain": [
       "Day           1     2     3     4     5     6     7     8     9     10  ...   \\\n",
       "Month_Year                                                              ...    \n",
       "2018-06      NaN   NaN   NaN   NaN   NaN   NaN   NaN   NaN   NaN   NaN  ...    \n",
       "2018-07      9.0   3.0   2.0   9.0   2.0   5.0   6.0   2.0   8.0   8.0  ...    \n",
       "2018-08      5.0   6.0   8.0   1.0   2.0   5.0  13.0   2.0   8.0   8.0  ...    \n",
       "2018-09     13.0   6.0   7.0  49.0  25.0   3.0   5.0   2.0   1.0   7.0  ...    \n",
       "2018-10      4.0  40.0  10.0  13.0   8.0  14.0   7.0   3.0   8.0   9.0  ...    \n",
       "2018-11     11.0  15.0   7.0   7.0  14.0  10.0   9.0   6.0  10.0   7.0  ...    \n",
       "2018-12     23.0   3.0  17.0  13.0  11.0   2.0   7.0   1.0   7.0   7.0  ...    \n",
       "2019-01      4.0   9.0  13.0  13.0  12.0   5.0   1.0  14.0  13.0   3.0  ...    \n",
       "2019-02      3.0  12.0  16.0   3.0   2.0   1.0   8.0  15.0  17.0  19.0  ...    \n",
       "2019-03      4.0   7.0  23.0  12.0  11.0  18.0  12.0  22.0  10.0  12.0  ...    \n",
       "2019-04      6.0   NaN   NaN   NaN   NaN   NaN   NaN   NaN   NaN   NaN  ...    \n",
       "\n",
       "Day           22    23    24    25    26    27    28    29    30    31  \n",
       "Month_Year                                                              \n",
       "2018-06      3.0  11.0  10.0   3.0  19.0   8.0   9.0   7.0   4.0   NaN  \n",
       "2018-07      7.0   7.0  10.0   8.0  10.0   7.0   5.0  18.0   5.0   2.0  \n",
       "2018-08      7.0  13.0   7.0   6.0  19.0   9.0  10.0  14.0  10.0  19.0  \n",
       "2018-09     11.0   8.0   2.0  16.0   6.0  22.0   8.0  13.0  20.0   NaN  \n",
       "2018-10     11.0  14.0  16.0   7.0  10.0  11.0  13.0  11.0  14.0  27.0  \n",
       "2018-11      6.0  12.0  16.0  26.0  21.0  19.0  13.0   5.0  14.0   NaN  \n",
       "2018-12      8.0  15.0  15.0  13.0   5.0   6.0  10.0  11.0  22.0  10.0  \n",
       "2019-01      8.0  13.0  31.0  15.0   8.0  15.0  15.0  17.0  13.0   2.0  \n",
       "2019-02     13.0  13.0  22.0  14.0   7.0   1.0   1.0   NaN   NaN   NaN  \n",
       "2019-03      7.0   4.0  26.0   5.0   NaN  11.0  10.0  25.0  19.0  11.0  \n",
       "2019-04      NaN   NaN   NaN   NaN   NaN   NaN   NaN   NaN   NaN   NaN  \n",
       "\n",
       "[11 rows x 31 columns]"
      ]
     },
     "execution_count": 85,
     "metadata": {},
     "output_type": "execute_result"
    }
   ],
   "source": [
    "summary_pivot = summary.pivot(\"Month_Year\",\"Day\",\"count\")\n",
    "summary_pivot"
   ]
  },
  {
   "cell_type": "code",
   "execution_count": 88,
   "metadata": {},
   "outputs": [
    {
     "data": {
      "text/plain": [
       "<matplotlib.axes._subplots.AxesSubplot at 0x1c9a1305278>"
      ]
     },
     "execution_count": 88,
     "metadata": {},
     "output_type": "execute_result"
    },
    {
     "data": {
      "image/png": "[encoded data removed]",
      "text/plain": [
       "<Figure size 432x288 with 2 Axes>"
      ]
     },
     "metadata": {
      "needs_background": "light"
     },
     "output_type": "display_data"
    }
   ],
   "source": [
    "import seaborn as sns\n",
    "sns.heatmap(summary_pivot, cmap=\"RdYlGn_r\")"
   ]
  },
  {
   "cell_type": "markdown",
   "metadata": {},
   "source": [
    "## Twitter Scraping for a hashtag/search term"
   ]
  },
  {
   "cell_type": "code",
   "execution_count": 90,
   "metadata": {},
   "outputs": [
    {
     "data": {
      "text/plain": [
       "89"
      ]
     },
     "execution_count": 90,
     "metadata": {},
     "output_type": "execute_result"
    }
   ],
   "source": [
    "tweets = api.search(\"#ModiMatBanao\",count=200)\n",
    "len(tweets)"
   ]
  },
  {
   "cell_type": "code",
   "execution_count": 91,
   "metadata": {},
   "outputs": [
    {
     "data": {
      "text/plain": [
       "{'created_at': 'Mon Apr 01 10:48:13 +0000 2019',\n",
       " 'id': 1112667980704313346,\n",
       " 'id_str': '1112667980704313346',\n",
       " 'text': \"RT @NCPspeaks: This time don't forget to vote against 'BURE DIN'.. \\n\\n#KamalKaPhoolBanayeFool #Modimatbanao #NCP2019 #LoksabhaElections2019…\",\n",
       " 'truncated': False,\n",
       " 'entities': {'hashtags': [{'text': 'KamalKaPhoolBanayeFool',\n",
       "    'indices': [69, 92]},\n",
       "   {'text': 'Modimatbanao', 'indices': [93, 106]},\n",
       "   {'text': 'NCP2019', 'indices': [107, 115]},\n",
       "   {'text': 'LoksabhaElections2019', 'indices': [116, 138]}],\n",
       "  'symbols': [],\n",
       "  'user_mentions': [{'screen_name': 'NCPspeaks',\n",
       "    'name': 'NCP',\n",
       "    'id': 1670467506,\n",
       "    'id_str': '1670467506',\n",
       "    'indices': [3, 13]}],\n",
       "  'urls': []},\n",
       " 'metadata': {'iso_language_code': 'en', 'result_type': 'recent'},\n",
       " 'source': '<a href=\"http://twitter.com/download/android\" rel=\"nofollow\">Twitter for Android</a>',\n",
       " 'in_reply_to_status_id': None,\n",
       " 'in_reply_to_status_id_str': None,\n",
       " 'in_reply_to_user_id': None,\n",
       " 'in_reply_to_user_id_str': None,\n",
       " 'in_reply_to_screen_name': None,\n",
       " 'user': {'id': 714436198622707713,\n",
       "  'id_str': '714436198622707713',\n",
       "  'name': 'NDH',\n",
       "  'screen_name': 'HavaldarND',\n",
       "  'location': 'मुंबई, भारत',\n",
       "  'description': '',\n",
       "  'url': None,\n",
       "  'entities': {'description': {'urls': []}},\n",
       "  'protected': False,\n",
       "  'followers_count': 38,\n",
       "  'friends_count': 109,\n",
       "  'listed_count': 0,\n",
       "  'created_at': 'Mon Mar 28 12:57:18 +0000 2016',\n",
       "  'favourites_count': 5513,\n",
       "  'utc_offset': None,\n",
       "  'time_zone': None,\n",
       "  'geo_enabled': True,\n",
       "  'verified': False,\n",
       "  'statuses_count': 5177,\n",
       "  'lang': 'en',\n",
       "  'contributors_enabled': False,\n",
       "  'is_translator': False,\n",
       "  'is_translation_enabled': False,\n",
       "  'profile_background_color': 'F5F8FA',\n",
       "  'profile_background_image_url': None,\n",
       "  'profile_background_image_url_https': None,\n",
       "  'profile_background_tile': False,\n",
       "  'profile_image_url': 'http://pbs.twimg.com/profile_images/1098224359888642048/nS4oNcyB_normal.jpg',\n",
       "  'profile_image_url_https': 'https://pbs.twimg.com/profile_images/1098224359888642048/nS4oNcyB_normal.jpg',\n",
       "  'profile_link_color': '1DA1F2',\n",
       "  'profile_sidebar_border_color': 'C0DEED',\n",
       "  'profile_sidebar_fill_color': 'DDEEF6',\n",
       "  'profile_text_color': '333333',\n",
       "  'profile_use_background_image': True,\n",
       "  'has_extended_profile': False,\n",
       "  'default_profile': True,\n",
       "  'default_profile_image': False,\n",
       "  'following': False,\n",
       "  'follow_request_sent': False,\n",
       "  'notifications': False,\n",
       "  'translator_type': 'none'},\n",
       " 'geo': None,\n",
       " 'coordinates': None,\n",
       " 'place': None,\n",
       " 'contributors': None,\n",
       " 'retweeted_status': {'created_at': 'Mon Apr 01 07:37:59 +0000 2019',\n",
       "  'id': 1112620104708050944,\n",
       "  'id_str': '1112620104708050944',\n",
       "  'text': \"This time don't forget to vote against 'BURE DIN'.. \\n\\n#KamalKaPhoolBanayeFool #Modimatbanao #NCP2019… https://t.co/wR5BIDCw3p\",\n",
       "  'truncated': True,\n",
       "  'entities': {'hashtags': [{'text': 'KamalKaPhoolBanayeFool',\n",
       "     'indices': [54, 77]},\n",
       "    {'text': 'Modimatbanao', 'indices': [78, 91]},\n",
       "    {'text': 'NCP2019', 'indices': [92, 100]}],\n",
       "   'symbols': [],\n",
       "   'user_mentions': [],\n",
       "   'urls': [{'url': 'https://t.co/wR5BIDCw3p',\n",
       "     'expanded_url': 'https://twitter.com/i/web/status/1112620104708050944',\n",
       "     'display_url': 'twitter.com/i/web/status/1…',\n",
       "     'indices': [102, 125]}]},\n",
       "  'metadata': {'iso_language_code': 'en', 'result_type': 'recent'},\n",
       "  'source': '<a href=\"https://about.twitter.com/products/tweetdeck\" rel=\"nofollow\">TweetDeck</a>',\n",
       "  'in_reply_to_status_id': None,\n",
       "  'in_reply_to_status_id_str': None,\n",
       "  'in_reply_to_user_id': None,\n",
       "  'in_reply_to_user_id_str': None,\n",
       "  'in_reply_to_screen_name': None,\n",
       "  'user': {'id': 1670467506,\n",
       "   'id_str': '1670467506',\n",
       "   'name': 'NCP',\n",
       "   'screen_name': 'NCPspeaks',\n",
       "   'location': 'India',\n",
       "   'description': \"Official twitter account for Nationalist Congress Party-NCP,Our main motive is to maintain the unity and integrity of India and always be a people's party.\",\n",
       "   'url': 'http://t.co/ZKXZ9RETtM',\n",
       "   'entities': {'url': {'urls': [{'url': 'http://t.co/ZKXZ9RETtM',\n",
       "       'expanded_url': 'http://www.ncp.org.in',\n",
       "       'display_url': 'ncp.org.in',\n",
       "       'indices': [0, 22]}]},\n",
       "    'description': {'urls': []}},\n",
       "   'protected': False,\n",
       "   'followers_count': 274813,\n",
       "   'friends_count': 62,\n",
       "   'listed_count': 183,\n",
       "   'created_at': 'Wed Aug 14 13:22:53 +0000 2013',\n",
       "   'favourites_count': 436,\n",
       "   'utc_offset': None,\n",
       "   'time_zone': None,\n",
       "   'geo_enabled': True,\n",
       "   'verified': True,\n",
       "   'statuses_count': 27431,\n",
       "   'lang': 'en',\n",
       "   'contributors_enabled': False,\n",
       "   'is_translator': False,\n",
       "   'is_translation_enabled': False,\n",
       "   'profile_background_color': 'FFFFFF',\n",
       "   'profile_background_image_url': 'http://abs.twimg.com/images/themes/theme1/bg.png',\n",
       "   'profile_background_image_url_https': 'https://abs.twimg.com/images/themes/theme1/bg.png',\n",
       "   'profile_background_tile': False,\n",
       "   'profile_image_url': 'http://pbs.twimg.com/profile_images/834655121095012352/bBPCEtek_normal.jpg',\n",
       "   'profile_image_url_https': 'https://pbs.twimg.com/profile_images/834655121095012352/bBPCEtek_normal.jpg',\n",
       "   'profile_banner_url': 'https://pbs.twimg.com/profile_banners/1670467506/1553940376',\n",
       "   'profile_link_color': 'FF8605',\n",
       "   'profile_sidebar_border_color': '000000',\n",
       "   'profile_sidebar_fill_color': 'DDEEF6',\n",
       "   'profile_text_color': '333333',\n",
       "   'profile_use_background_image': False,\n",
       "   'has_extended_profile': False,\n",
       "   'default_profile': False,\n",
       "   'default_profile_image': False,\n",
       "   'following': False,\n",
       "   'follow_request_sent': False,\n",
       "   'notifications': False,\n",
       "   'translator_type': 'none'},\n",
       "  'geo': None,\n",
       "  'coordinates': None,\n",
       "  'place': None,\n",
       "  'contributors': None,\n",
       "  'is_quote_status': False,\n",
       "  'retweet_count': 13,\n",
       "  'favorite_count': 34,\n",
       "  'favorited': False,\n",
       "  'retweeted': False,\n",
       "  'possibly_sensitive': False,\n",
       "  'lang': 'en'},\n",
       " 'is_quote_status': False,\n",
       " 'retweet_count': 13,\n",
       " 'favorite_count': 0,\n",
       " 'favorited': False,\n",
       " 'retweeted': False,\n",
       " 'lang': 'en'}"
      ]
     },
     "execution_count": 91,
     "metadata": {},
     "output_type": "execute_result"
    }
   ],
   "source": [
    "tweets[0]._json"
   ]
  },
  {
   "cell_type": "code",
   "execution_count": 96,
   "metadata": {},
   "outputs": [
    {
     "name": "stdout",
     "output_type": "stream",
     "text": [
      "मुंबई, भारत # NDH # HavaldarND\n",
      "India # Ajay Pandey # Ajay97470427\n",
      "मुंबई, भारत # NDH # HavaldarND\n",
      "Kolkata, India # Pravishek Singh # pravishek\n",
      "Chandigarh # Rajat Battu # rajatbattu\n",
      "India # Hussain A W # hussain1585\n",
      "India # Manish Kumar # MANISHK82994121\n",
      "India # Dr. priyaranjan # Dr_priyaranjan_\n",
      "Gujarat, Bombay # 🇮🇳 Murtuza (INC) ☪🕉✝✡ में चौकीदार नही हु # murtuzaspeaks\n",
      "Dar es Salaam, Tanzania # Anish Jacob Vadakkedath # ajvassure7\n",
      " # Dr. vaishali Desai # VaishaliTater\n",
      " # Abi P kkar # abiPkkAR\n",
      "Panditwari, Dehradun # Amit godiyal # amitonlyandonly\n",
      "Chhattisgarh, India # Abhay Chouhan # AbhayCh35934556\n",
      " # Somesh Singh Chauhan # someshsinghIYC\n",
      " # Binal Chaudhary # chaudhary_binal\n",
      "कालीघाट, कोलकाता # sanjaybhandia # sanju64\n",
      "Neverland # GST Practitioner # GSTPractice\n",
      " # Read my bio-Angry young man # khr6655\n",
      "Hisar, India # Vikram Dangi Majra # VikramDangi10\n",
      "India # Ajit, an Indian # Ajit99701175\n",
      "India # Ch Abdul Qayoom Kalas # Hind_sar_zameen\n",
      " # Berojgar Shekhar Rajpoot tet super tet pass # Shekhar07617769\n",
      "latur # Bhandishtha Agnihotri # bhandishtha\n",
      "Mirzapur, India # Phoolchand Tripathi # MunnaBhaiyya\n",
      "Mumbai # Rhyme & Reason # Krishntripathi\n",
      "Bhopal, India # Pradeep Chourasiya # MPC_Brother\n",
      "Panditwari, Dehradun # Amit godiyal # amitonlyandonly\n",
      " # I Support #NyayForIndia # NEERAJ677744\n",
      "भारत # Mili # mili_m3011\n",
      "New Delhi # Amit Mishra # Amitjanhit\n",
      "Kolkata, India # Biplab Kalita # BKlta\n",
      " # Rincle Raval # RavalRincle\n",
      " # yashraj singh # yashraj64544211\n",
      "Uttar Pradesh, India # A.R.K. # ASg1956\n",
      "kolkata # Manish Usha Mishra # hearthacker41\n",
      "New delhi. India # rahul khandelwal 🇮🇳         (chowkidar chor hai) # Irahul_khandal\n",
      "Gorakhpur, India # बेरोजगार Raghvendra Rara # Raghvendra8588\n",
      " # भारत का नंबर 1 बेरोजगार🥇🥇 # dineshnagda5\n",
      "Punjab, India # #NYAYforIndia /Arika kanwar # arikakanwar011\n",
      "Gujarat, India # Apolotical # divyeshnimavat\n",
      "Bangalore # Naveed AHMED # naveed111\n",
      " # AAFAQUE KHAN # AAFAQUEGOHNA1\n",
      " # Ranjeet Singh Sisodiya # Ranjeet52388190\n",
      "Mumbai, India # Ali Syed # IdeatoAngel\n",
      "New Delhi, India # Mahender Sharma # SeemaSh90569523\n",
      "धनबाद, भारत # Prakash singh # SINGHPKS1\n",
      "India # Pankaj # ThatGuyPankaj\n",
      "Punjab, India # #NYAYforIndia /Arika kanwar # arikakanwar011\n",
      "Mumbai # Chowkidaar Nikamma Hai # sandipshettyyer\n",
      "Gujarat, India # Arya Agrawal # AryaAgrawal13\n",
      " # Truthorfekusjumla # exposfekusjumla\n",
      "Gujarat, India # Apolotical # divyeshnimavat\n",
      "Jilin, People's Republic of Ch # Dr Mukesh Rajpoot # dilse198\n",
      "Ahmedabad, Gujarat, India # Naishadh Vyas # naishadhvyas\n",
      "Avisame cuando llegues tu casa # Debraj Roy # debraj_speaks\n",
      "Kolkata, India # Biplab Kalita # BKlta\n",
      "danipur # vishal lochab INC # lochabvishal\n",
      "India # Na'uf # NaufInd\n",
      "Punjab, India # #NYAYforIndia /Arika kanwar # arikakanwar011\n",
      "India # Pankaj # ThatGuyPankaj\n",
      "वाराणसी, भारत # Varanasi Youth Congress (UPE) # YouthUpe\n",
      "mumbai # Bhagyashi Agarkar # BhagyashiA\n",
      "Allahabad, India # Kajal Chauhan # KajalChauhan_\n",
      "Gorakhpur, India # RoflJayantpathak # jayantpathak311\n",
      "India # radio mirchi # JioShirin\n",
      "Haryana, India # Chiranjeev Rao # Chiranjeev_INC\n",
      " # Read my bio-Angry young man # khr6655\n",
      "Ahmadabad City, India # Aniket Mishra # Anibunny007\n",
      "Gujarat, India # Apolotical # divyeshnimavat\n",
      " # Divya Maurya # DivyaMaurya18\n",
      "Chhattisgarh, India # Anju Solanki # AnjuSolanki12\n",
      "Gujarat, India # AIPC Gujarat # AipcGujarat\n",
      " # Read my bio-Angry young man # khr6655\n",
      " # AAFAQUE KHAN # AAFAQUEGOHNA1\n",
      "Gorakhpur, India # RoflJayantpathak # jayantpathak311\n",
      " # algogeek # algogeek1\n",
      "India # Arbind # arbindg\n",
      "India # Pankaj # ThatGuyPankaj\n",
      "Bombay, India # NostradamusSez💖AIPC - INC✋ # nostradamuspeak\n",
      "Lucknow, India # Team Priyanka Gandhi Vadra # INCPriyankaGV\n",
      "Fatehpur,Uttar Pradesh, India  # Khan Tauseef # khantauseefINC\n",
      " # deepkmishra # deepakmishrait\n",
      " # Akshat Sharma # Aksh70000\n",
      " Gujarat, india # ♡ prince ♡ # Prakashdream143\n",
      " # ajax: Chowkidar Chor Hai # political_ajax\n",
      "India # Arbind # arbindg\n",
      "India # Arbind # arbindg\n",
      "India # Arbind # arbindg\n"
     ]
    }
   ],
   "source": [
    "for tw in tweets:\n",
    "    print(tw.user.location,\"#\",tw.user.name,\"#\",tw.user.screen_name)"
   ]
  },
  {
   "cell_type": "code",
   "execution_count": 98,
   "metadata": {},
   "outputs": [
    {
     "name": "stdout",
     "output_type": "stream",
     "text": [
      "109 # \n",
      "476 # \n",
      "109 # \n",
      "358 # \n",
      "49 # Attitude:Be +iv. Life:Do not take seriously.Politics :Dirty game! Just Avoid.India :-Best Grown Democracy.\n",
      "Works :-Sales Manager in Chandigarh.\n",
      "1782 # BATMAN Fan with JOKER fanatics,\n",
      "💻Software engg💻\n",
      "Still figuring out the correct self description,\n",
      "the sarcastic one though\n",
      "Like to ☕🏞🛌🛣🚗\n",
      "92 # शेर को जगाना और हमें सुलाना किसी के बस  के बात नहीं\n",
      "\n",
      "क्यूंकि\n",
      "\n",
      "हम ज़हाँ खड़े होते है वहाँ #\n",
      "\n",
      "हमारे  वतन आज भी आग लगाते है !\n",
      "71 # Gold medalist , Social justice , Learn from yesterday , live for today, Hope for 2mrw .\n",
      "6378 # @Sudheenkulkarni @rahulEaswar @alfonslopeztena @sadhavi @BruceVH @lalitnagarmla @_garrywalia Blkd by @asadowaisi @kapilmishra_IND @smitaprakash\n",
      "205 # Insurance is life! \n",
      "Insurance – The art of making the impossible, possible!!!\n",
      "(Professional Insurer, personal tweets! Retweets are not endorsements!)\n",
      "1060 # Anti stupid!!\n",
      "689 # Author,   philosopher and researcher about the power of religion.\n",
      "1223 # महानगर उपाध्यक्ष ऐवम कैंट विधानसभा प्रभारी(IT प्रकोष्ठ) INC\n",
      "90 # Born to express, not to impress.😎😎\n",
      "355 # \n",
      "108 # \n",
      "383 # \n",
      "54 # The goods and services tax (GST) is a value-added tax levied on most goods and services sold for domestic consumption.\n",
      "864 # Pls @altnews @thewire_in @newsclickin sach dikhane wali in news agencies ko donate kare 200/500/1000, wrna ye band hojayege. Fir sach kaun batayega. pls support\n",
      "587 # ना मेरी कोई जाति ना मेरा कोई धर्म मै तो स्वतंत्र भारत का एक आम नागरिक हूँ और मुझे गर्व होता भारतीय होने पर है\n",
      "235 # Architect, Designer,\n",
      "376 # A proud Hindustani,peace lover, Dreaming of a new India where tolerance and caring towards every religion exist communal, riots, corruption, poverty free\n",
      "196 # Be Happy\n",
      "94 # Love Shopping👘👗 | Daddies Princess👸 | 🎂10 March\n",
      "15 # MIRZAPUR k Prince\n",
      "291 # Sports , Politics , Country , Development,Technology, Spiritual , ..everything a common man is interested in..\n",
      "727 # नरेला महासचिव आई.टी.सेल सोशल मीडिया जिला कार्यकारिणी भोपाल (Congress)\n",
      "1223 # महानगर उपाध्यक्ष ऐवम कैंट विधानसभा प्रभारी(IT प्रकोष्ठ) INC\n",
      "573 # \n",
      "1797 # Fan of Superwomen, Professional Marketer and Entrepreneur. Feminist. Join My (FREE) Career Counselling Newsletter: https://t.co/mQ4BKf5NdN\n",
      "593 # Joined #ArvindKejriwal as RTI activist in 2008.\n",
      "41 # \n",
      "151 # \n",
      "156 # \n",
      "924 # Love All living creatures, Humanity, Inclusive Growth ~ All citizens live a peaceful n prosperous life\n",
      "Hate Communalism, CronyCapitalism, Rapists n Perverts.\n",
      "2500 # maried.indian mango man \n",
      "I M CONGRESS\n",
      "1363 # #nyayforindia ...| libran | Honest | Music lover | Passionate | crazy | Creator | Extreme thinker | dreamer | traveler |\n",
      "146 # MBA student\n",
      "128 # 🤝 ना छोड़ना साथ मेरा,ज़िन्दगी में कभी।🤝\n",
      "170 # Vice Chairman @punjabpcc social media cell & state secretary @Haryana pardesh mahila congress\n",
      "\n",
      "#SocialActivist\n",
      "666 # Lawyer....RTs not endorsement. All views r personal.\n",
      "247 # Senior Manager - REFM Mavenir     India . Charity supporter , Engineering SME corporate real estate specialist and. Philanthropist..\n",
      "599 # I T CELL काग्रेस विधानसभा अध्यक्ष केवलारी 116\n",
      "13 # \n",
      "112 # #Ideasforhumanity The dream: To be an innocent and free human. Aspiring Philanthropist. Working towards a purpose. The Health Care\n",
      "703 # Tan Bhi congress man Bhi congress..😊\n",
      "423 # \n",
      "389 # Criticism for a better world. | Student | Atheist | Freethinker | Trendwatcher | Politically Aware | Interested in Reading, Blogging, World Affairs, and Sports.\n",
      "170 # Vice Chairman @punjabpcc social media cell & state secretary @Haryana pardesh mahila congress\n",
      "\n",
      "#SocialActivist\n",
      "533 # #WhoKilledJudgeLoya? Vanakkam Puducherry! Internet Marketing, Digital coolie, loves funny blogs, serials & movies. Political change = #iSupportHonestPolitics\n",
      "92 # \n",
      "106 # RT are not endorsement\n",
      "666 # Lawyer....RTs not endorsement. All views r personal.\n",
      "241 # Haematologist  in yanbian university hospital & research center .\n",
      "650 # Self-Employed\n",
      "1522 # #Millennial | Apostle of #Development, #PublicHealth, #SDGs ,#UHC & #AMR | #socent freak | Avid Reader | #Wanderer l RTs ≠ Endorsement\n",
      "| Instagram : debraj.roy2\n",
      "41 # \n",
      "458 # nsui social media co_ordinater ambala\n",
      "729 # Indian | Share ideas |Political enthusiast | Mutual Respect | Harmony | Travel |\n",
      "170 # Vice Chairman @punjabpcc social media cell & state secretary @Haryana pardesh mahila congress\n",
      "\n",
      "#SocialActivist\n",
      "389 # Criticism for a better world. | Student | Atheist | Freethinker | Trendwatcher | Politically Aware | Interested in Reading, Blogging, World Affairs, and Sports.\n",
      "180 # \n",
      "116 # Born in Mumbai\n",
      "Love to Travel and Foodies\n",
      "Wish me on 25 September\n",
      "8027 # जीवन अम्बेडकरवादी है और दिल कांग्रेसी..✋#_Follow_Back\n",
      "338 # Jayant pathak\n",
      "564 # bajate Raho..\n",
      "62 # National Secretary @IYC | Member AICC | State General Secretary @INCHaryana | Ex-State President @Haryana_YC | Ex-State VP @NSUI Haryana\n",
      "864 # Pls @altnews @thewire_in @newsclickin sach dikhane wali in news agencies ko donate kare 200/500/1000, wrna ye band hojayege. Fir sach kaun batayega. pls support\n",
      "172 # यांत्रिक अभियंता, the usual frustrated engineer\n",
      "666 # Lawyer....RTs not endorsement. All views r personal.\n",
      "204 # \n",
      "78 # Love Aircrafts & Birds, Rail Buff. Interest in Cultures, Politics & History,Religious🙏😘❤️💌\n",
      "21 # Official handle of All India Professionals' Congress - Gujarat Chapter | President @kailashkgadhvi\n",
      "864 # Pls @altnews @thewire_in @newsclickin sach dikhane wali in news agencies ko donate kare 200/500/1000, wrna ye band hojayege. Fir sach kaun batayega. pls support\n",
      "599 # I T CELL काग्रेस विधानसभा अध्यक्ष केवलारी 116\n",
      "338 # Jayant pathak\n",
      "38 # For traders DISCLAIMER We are not SEBI Registered Views shared here are for study purpose. Consult your advisor, before Trading & Investing.\n",
      "116 # \n",
      "389 # Criticism for a better world. | Student | Atheist | Freethinker | Trendwatcher | Politically Aware | Interested in Reading, Blogging, World Affairs, and Sports.\n",
      "4410 # I go against the grain, ask uncomfortable questions. Hate herd-mentality. Believe in fairness, love & universal brotherhood.\n",
      "Fellowship AIPC @ProfCong INC Vlntr\n",
      "16 # UnOfficial Twitter Page Of Respected Priyanka Gandhi Team.General Sect- @INCindia\n",
      "530 # @INCIndia\n",
      "749 # \n",
      "621 # Activist | Learner | Indian 🇮🇳 | Pratapgarh,UP |\n",
      "Dedicated to Civil Services! 😀\n",
      "1082 # I have attitude in my blood and it says B+++++++++\n",
      "166 # My twits are political and against BJP thoughts and policies and targeted to Chowkidaar Jhumlas like 14lakhs pakodas\n",
      "116 # \n",
      "116 # \n",
      "116 # \n"
     ]
    }
   ],
   "source": [
    "for tw in tweets:\n",
    "    print(tw.user.friends_count, \"#\",tw.user.description)"
   ]
  },
  {
   "cell_type": "code",
   "execution_count": 111,
   "metadata": {},
   "outputs": [
    {
     "name": "stdout",
     "output_type": "stream",
     "text": [
      "मुंबई, भारत # NDH # HavaldarND\n",
      "India # Ajay Pandey # Ajay97470427\n",
      "मुंबई, भारत # NDH # HavaldarND\n",
      "Kolkata, India # Pravishek Singh # pravishek\n",
      "Chandigarh # Rajat Battu # rajatbattu\n",
      "India # Hussain A W # hussain1585\n",
      "India # Manish Kumar # MANISHK82994121\n",
      "India # Dr. priyaranjan # Dr_priyaranjan_\n",
      "Gujarat, Bombay # 🇮🇳 Murtuza (INC) ☪🕉✝✡ में चौकीदार नही हु # murtuzaspeaks\n",
      "Dar es Salaam, Tanzania # Anish Jacob Vadakkedath # ajvassure7\n",
      " # Dr. vaishali Desai # VaishaliTater\n",
      " # Abi P kkar # abiPkkAR\n",
      "Panditwari, Dehradun # Amit godiyal # amitonlyandonly\n",
      "Chhattisgarh, India # Abhay Chouhan # AbhayCh35934556\n",
      " # Somesh Singh Chauhan # someshsinghIYC\n",
      " # Binal Chaudhary # chaudhary_binal\n",
      "कालीघाट, कोलकाता # sanjaybhandia # sanju64\n",
      "Neverland # GST Practitioner # GSTPractice\n",
      " # Read my bio-Angry young man # khr6655\n",
      "Hisar, India # Vikram Dangi Majra # VikramDangi10\n",
      "India # Ajit, an Indian # Ajit99701175\n",
      "India # Ch Abdul Qayoom Kalas # Hind_sar_zameen\n",
      " # Berojgar Shekhar Rajpoot tet super tet pass # Shekhar07617769\n",
      "latur # Bhandishtha Agnihotri # bhandishtha\n",
      "Mirzapur, India # Phoolchand Tripathi # MunnaBhaiyya\n",
      "Mumbai # Rhyme & Reason # Krishntripathi\n",
      "Bhopal, India # Pradeep Chourasiya # MPC_Brother\n",
      "Panditwari, Dehradun # Amit godiyal # amitonlyandonly\n",
      " # I Support #NyayForIndia # NEERAJ677744\n",
      "भारत # Mili # mili_m3011\n",
      "New Delhi # Amit Mishra # Amitjanhit\n",
      "Kolkata, India # Biplab Kalita # BKlta\n",
      " # Rincle Raval # RavalRincle\n",
      " # yashraj singh # yashraj64544211\n",
      "Uttar Pradesh, India # A.R.K. # ASg1956\n",
      "kolkata # Manish Usha Mishra # hearthacker41\n",
      "New delhi. India # rahul khandelwal 🇮🇳         (chowkidar chor hai) # Irahul_khandal\n",
      "Gorakhpur, India # बेरोजगार Raghvendra Rara # Raghvendra8588\n",
      " # भारत का नंबर 1 बेरोजगार🥇🥇 # dineshnagda5\n",
      "Punjab, India # #NYAYforIndia /Arika kanwar # arikakanwar011\n",
      "Gujarat, India # Apolotical # divyeshnimavat\n",
      "Bangalore # Naveed AHMED # naveed111\n",
      " # AAFAQUE KHAN # AAFAQUEGOHNA1\n",
      " # Ranjeet Singh Sisodiya # Ranjeet52388190\n",
      "Mumbai, India # Ali Syed # IdeatoAngel\n",
      "New Delhi, India # Mahender Sharma # SeemaSh90569523\n",
      "धनबाद, भारत # Prakash singh # SINGHPKS1\n",
      "India # Pankaj # ThatGuyPankaj\n",
      "Punjab, India # #NYAYforIndia /Arika kanwar # arikakanwar011\n",
      "Mumbai # Chowkidaar Nikamma Hai # sandipshettyyer\n",
      "Gujarat, India # Arya Agrawal # AryaAgrawal13\n",
      " # Truthorfekusjumla # exposfekusjumla\n",
      "Gujarat, India # Apolotical # divyeshnimavat\n",
      "Jilin, People's Republic of Ch # Dr Mukesh Rajpoot # dilse198\n",
      "Ahmedabad, Gujarat, India # Naishadh Vyas # naishadhvyas\n",
      "Avisame cuando llegues tu casa # Debraj Roy # debraj_speaks\n",
      "Kolkata, India # Biplab Kalita # BKlta\n",
      "danipur # vishal lochab INC # lochabvishal\n",
      "India # Na'uf # NaufInd\n",
      "Punjab, India # #NYAYforIndia /Arika kanwar # arikakanwar011\n",
      "India # Pankaj # ThatGuyPankaj\n",
      "वाराणसी, भारत # Varanasi Youth Congress (UPE) # YouthUpe\n",
      "mumbai # Bhagyashi Agarkar # BhagyashiA\n",
      "Allahabad, India # Kajal Chauhan # KajalChauhan_\n",
      "Gorakhpur, India # RoflJayantpathak # jayantpathak311\n",
      "India # radio mirchi # JioShirin\n",
      "Haryana, India # Chiranjeev Rao # Chiranjeev_INC\n",
      " # Read my bio-Angry young man # khr6655\n",
      "Ahmadabad City, India # Aniket Mishra # Anibunny007\n",
      "Gujarat, India # Apolotical # divyeshnimavat\n",
      " # Divya Maurya # DivyaMaurya18\n",
      "Chhattisgarh, India # Anju Solanki # AnjuSolanki12\n",
      "Gujarat, India # AIPC Gujarat # AipcGujarat\n",
      " # Read my bio-Angry young man # khr6655\n",
      " # AAFAQUE KHAN # AAFAQUEGOHNA1\n",
      "Gorakhpur, India # RoflJayantpathak # jayantpathak311\n",
      " # algogeek # algogeek1\n",
      "India # Arbind # arbindg\n",
      "India # Pankaj # ThatGuyPankaj\n",
      "Bombay, India # NostradamusSez💖AIPC - INC✋ # nostradamuspeak\n",
      "Lucknow, India # Team Priyanka Gandhi Vadra # INCPriyankaGV\n",
      "Fatehpur,Uttar Pradesh, India  # Khan Tauseef # khantauseefINC\n",
      " # deepkmishra # deepakmishrait\n",
      " # Akshat Sharma # Aksh70000\n",
      " Gujarat, india # ♡ prince ♡ # Prakashdream143\n",
      " # ajax: Chowkidar Chor Hai # political_ajax\n",
      "India # Arbind # arbindg\n",
      "India # Arbind # arbindg\n",
      "India # Arbind # arbindg\n"
     ]
    }
   ],
   "source": [
    "tweet_df = pd.DataFrame()\n",
    "for tw in tweets:\n",
    "    curr_tweet = {\"display_\"}\n",
    "    print(tw.user.location,\"#\",tw.user.name,\"#\",tw.user.screen_name)"
   ]
  },
  {
   "cell_type": "code",
   "execution_count": 100,
   "metadata": {},
   "outputs": [],
   "source": [
    "df_tweet = pd.DataFrame()\n",
    "for tw in tweets:\n",
    "    curr_tweet = {\"display_name\":tw.user.name,\"location\":tw.user.location,\"handler_name\":tw.user.screen_name,\n",
    "                 \"created_at\":tw.created_at,\"followers\":tw.user.followers_count,\"friends\":tw.user.friends_count,\n",
    "                 \"user_desc\":tw.user.description,\"user_location\":tw.user.location,\"likes\":tw.favorite_count,\n",
    "                 \"retweets\":tw.retweet_count}\n",
    "    df_tweet = df_tweet.append(curr_tweet,ignore_index=True)"
   ]
  },
  {
   "cell_type": "code",
   "execution_count": 101,
   "metadata": {},
   "outputs": [
    {
     "data": {
      "text/html": [
       "<div>\n",
       "<style scoped>\n",
       "    .dataframe tbody tr th:only-of-type {\n",
       "        vertical-align: middle;\n",
       "    }\n",
       "\n",
       "    .dataframe tbody tr th {\n",
       "        vertical-align: top;\n",
       "    }\n",
       "\n",
       "    .dataframe thead th {\n",
       "        text-align: right;\n",
       "    }\n",
       "</style>\n",
       "<table border=\"1\" class=\"dataframe\">\n",
       "  <thead>\n",
       "    <tr style=\"text-align: right;\">\n",
       "      <th></th>\n",
       "      <th>created_at</th>\n",
       "      <th>display_name</th>\n",
       "      <th>followers</th>\n",
       "      <th>friends</th>\n",
       "      <th>handler_name</th>\n",
       "      <th>likes</th>\n",
       "      <th>location</th>\n",
       "      <th>retweets</th>\n",
       "      <th>user_desc</th>\n",
       "      <th>user_location</th>\n",
       "    </tr>\n",
       "  </thead>\n",
       "  <tbody>\n",
       "    <tr>\n",
       "      <th>0</th>\n",
       "      <td>2019-04-01 10:48:13</td>\n",
       "      <td>NDH</td>\n",
       "      <td>38.0</td>\n",
       "      <td>109.0</td>\n",
       "      <td>HavaldarND</td>\n",
       "      <td>0.0</td>\n",
       "      <td>मुंबई, भारत</td>\n",
       "      <td>13.0</td>\n",
       "      <td></td>\n",
       "      <td>मुंबई, भारत</td>\n",
       "    </tr>\n",
       "    <tr>\n",
       "      <th>1</th>\n",
       "      <td>2019-04-01 10:48:13</td>\n",
       "      <td>Ajay Pandey</td>\n",
       "      <td>65.0</td>\n",
       "      <td>476.0</td>\n",
       "      <td>Ajay97470427</td>\n",
       "      <td>0.0</td>\n",
       "      <td>India</td>\n",
       "      <td>72.0</td>\n",
       "      <td></td>\n",
       "      <td>India</td>\n",
       "    </tr>\n",
       "    <tr>\n",
       "      <th>2</th>\n",
       "      <td>2019-04-01 10:48:12</td>\n",
       "      <td>NDH</td>\n",
       "      <td>38.0</td>\n",
       "      <td>109.0</td>\n",
       "      <td>HavaldarND</td>\n",
       "      <td>0.0</td>\n",
       "      <td>मुंबई, भारत</td>\n",
       "      <td>16.0</td>\n",
       "      <td></td>\n",
       "      <td>मुंबई, भारत</td>\n",
       "    </tr>\n",
       "    <tr>\n",
       "      <th>3</th>\n",
       "      <td>2019-04-01 10:48:11</td>\n",
       "      <td>Pravishek Singh</td>\n",
       "      <td>106.0</td>\n",
       "      <td>358.0</td>\n",
       "      <td>pravishek</td>\n",
       "      <td>0.0</td>\n",
       "      <td>Kolkata, India</td>\n",
       "      <td>580.0</td>\n",
       "      <td></td>\n",
       "      <td>Kolkata, India</td>\n",
       "    </tr>\n",
       "    <tr>\n",
       "      <th>4</th>\n",
       "      <td>2019-04-01 10:48:11</td>\n",
       "      <td>Rajat Battu</td>\n",
       "      <td>154.0</td>\n",
       "      <td>49.0</td>\n",
       "      <td>rajatbattu</td>\n",
       "      <td>0.0</td>\n",
       "      <td>Chandigarh</td>\n",
       "      <td>52.0</td>\n",
       "      <td>Attitude:Be +iv. Life:Do not take seriously.Po...</td>\n",
       "      <td>Chandigarh</td>\n",
       "    </tr>\n",
       "  </tbody>\n",
       "</table>\n",
       "</div>"
      ],
      "text/plain": [
       "           created_at     display_name  followers  friends  handler_name  \\\n",
       "0 2019-04-01 10:48:13              NDH       38.0    109.0    HavaldarND   \n",
       "1 2019-04-01 10:48:13      Ajay Pandey       65.0    476.0  Ajay97470427   \n",
       "2 2019-04-01 10:48:12              NDH       38.0    109.0    HavaldarND   \n",
       "3 2019-04-01 10:48:11  Pravishek Singh      106.0    358.0     pravishek   \n",
       "4 2019-04-01 10:48:11      Rajat Battu      154.0     49.0    rajatbattu   \n",
       "\n",
       "   likes        location  retweets  \\\n",
       "0    0.0     मुंबई, भारत      13.0   \n",
       "1    0.0           India      72.0   \n",
       "2    0.0     मुंबई, भारत      16.0   \n",
       "3    0.0  Kolkata, India     580.0   \n",
       "4    0.0      Chandigarh      52.0   \n",
       "\n",
       "                                           user_desc   user_location  \n",
       "0                                                        मुंबई, भारत  \n",
       "1                                                              India  \n",
       "2                                                        मुंबई, भारत  \n",
       "3                                                     Kolkata, India  \n",
       "4  Attitude:Be +iv. Life:Do not take seriously.Po...      Chandigarh  "
      ]
     },
     "execution_count": 101,
     "metadata": {},
     "output_type": "execute_result"
    }
   ],
   "source": [
    "df_tweet.head()"
   ]
  },
  {
   "cell_type": "code",
   "execution_count": 102,
   "metadata": {},
   "outputs": [
    {
     "data": {
      "text/plain": [
       "(89, 10)"
      ]
     },
     "execution_count": 102,
     "metadata": {},
     "output_type": "execute_result"
    }
   ],
   "source": [
    "df_tweet.shape"
   ]
  },
  {
   "cell_type": "markdown",
   "metadata": {},
   "source": [
    "# Tweeter cursor concept till the time end"
   ]
  },
  {
   "cell_type": "code",
   "execution_count": 115,
   "metadata": {},
   "outputs": [
    {
     "ename": "TweepError",
     "evalue": "Failed to send request: HTTPSConnectionPool(host='api.twitter.com', port=443): Max retries exceeded with url: /1.1/search/tweets.json?q=%23ModiMatBanao (Caused by NewConnectionError('<urllib3.connection.VerifiedHTTPSConnection object at 0x000001C9A470F0F0>: Failed to establish a new connection: [WinError 10061] No connection could be made because the target machine actively refused it'))",
     "output_type": "error",
     "traceback": [
      "\u001b[1;31m---------------------------------------------------------------------------\u001b[0m",
      "\u001b[1;31mConnectionRefusedError\u001b[0m                    Traceback (most recent call last)",
      "\u001b[1;32mC:\\ProgramData\\Anaconda3\\lib\\site-packages\\urllib3\\connection.py\u001b[0m in \u001b[0;36m_new_conn\u001b[1;34m(self)\u001b[0m\n\u001b[0;32m    158\u001b[0m             conn = connection.create_connection(\n\u001b[1;32m--> 159\u001b[1;33m                 (self._dns_host, self.port), self.timeout, **extra_kw)\n\u001b[0m\u001b[0;32m    160\u001b[0m \u001b[1;33m\u001b[0m\u001b[0m\n",
      "\u001b[1;32mC:\\ProgramData\\Anaconda3\\lib\\site-packages\\urllib3\\util\\connection.py\u001b[0m in \u001b[0;36mcreate_connection\u001b[1;34m(address, timeout, source_address, socket_options)\u001b[0m\n\u001b[0;32m     79\u001b[0m     \u001b[1;32mif\u001b[0m \u001b[0merr\u001b[0m \u001b[1;32mis\u001b[0m \u001b[1;32mnot\u001b[0m \u001b[1;32mNone\u001b[0m\u001b[1;33m:\u001b[0m\u001b[1;33m\u001b[0m\u001b[1;33m\u001b[0m\u001b[0m\n\u001b[1;32m---> 80\u001b[1;33m         \u001b[1;32mraise\u001b[0m \u001b[0merr\u001b[0m\u001b[1;33m\u001b[0m\u001b[1;33m\u001b[0m\u001b[0m\n\u001b[0m\u001b[0;32m     81\u001b[0m \u001b[1;33m\u001b[0m\u001b[0m\n",
      "\u001b[1;32mC:\\ProgramData\\Anaconda3\\lib\\site-packages\\urllib3\\util\\connection.py\u001b[0m in \u001b[0;36mcreate_connection\u001b[1;34m(address, timeout, source_address, socket_options)\u001b[0m\n\u001b[0;32m     69\u001b[0m                 \u001b[0msock\u001b[0m\u001b[1;33m.\u001b[0m\u001b[0mbind\u001b[0m\u001b[1;33m(\u001b[0m\u001b[0msource_address\u001b[0m\u001b[1;33m)\u001b[0m\u001b[1;33m\u001b[0m\u001b[1;33m\u001b[0m\u001b[0m\n\u001b[1;32m---> 70\u001b[1;33m             \u001b[0msock\u001b[0m\u001b[1;33m.\u001b[0m\u001b[0mconnect\u001b[0m\u001b[1;33m(\u001b[0m\u001b[0msa\u001b[0m\u001b[1;33m)\u001b[0m\u001b[1;33m\u001b[0m\u001b[1;33m\u001b[0m\u001b[0m\n\u001b[0m\u001b[0;32m     71\u001b[0m             \u001b[1;32mreturn\u001b[0m \u001b[0msock\u001b[0m\u001b[1;33m\u001b[0m\u001b[1;33m\u001b[0m\u001b[0m\n",
      "\u001b[1;31mConnectionRefusedError\u001b[0m: [WinError 10061] No connection could be made because the target machine actively refused it",
      "\nDuring handling of the above exception, another exception occurred:\n",
      "\u001b[1;31mNewConnectionError\u001b[0m                        Traceback (most recent call last)",
      "\u001b[1;32mC:\\ProgramData\\Anaconda3\\lib\\site-packages\\urllib3\\connectionpool.py\u001b[0m in \u001b[0;36murlopen\u001b[1;34m(self, method, url, body, headers, retries, redirect, assert_same_host, timeout, pool_timeout, release_conn, chunked, body_pos, **response_kw)\u001b[0m\n\u001b[0;32m    599\u001b[0m                                                   \u001b[0mbody\u001b[0m\u001b[1;33m=\u001b[0m\u001b[0mbody\u001b[0m\u001b[1;33m,\u001b[0m \u001b[0mheaders\u001b[0m\u001b[1;33m=\u001b[0m\u001b[0mheaders\u001b[0m\u001b[1;33m,\u001b[0m\u001b[1;33m\u001b[0m\u001b[1;33m\u001b[0m\u001b[0m\n\u001b[1;32m--> 600\u001b[1;33m                                                   chunked=chunked)\n\u001b[0m\u001b[0;32m    601\u001b[0m \u001b[1;33m\u001b[0m\u001b[0m\n",
      "\u001b[1;32mC:\\ProgramData\\Anaconda3\\lib\\site-packages\\urllib3\\connectionpool.py\u001b[0m in \u001b[0;36m_make_request\u001b[1;34m(self, conn, method, url, timeout, chunked, **httplib_request_kw)\u001b[0m\n\u001b[0;32m    342\u001b[0m         \u001b[1;32mtry\u001b[0m\u001b[1;33m:\u001b[0m\u001b[1;33m\u001b[0m\u001b[1;33m\u001b[0m\u001b[0m\n\u001b[1;32m--> 343\u001b[1;33m             \u001b[0mself\u001b[0m\u001b[1;33m.\u001b[0m\u001b[0m_validate_conn\u001b[0m\u001b[1;33m(\u001b[0m\u001b[0mconn\u001b[0m\u001b[1;33m)\u001b[0m\u001b[1;33m\u001b[0m\u001b[1;33m\u001b[0m\u001b[0m\n\u001b[0m\u001b[0;32m    344\u001b[0m         \u001b[1;32mexcept\u001b[0m \u001b[1;33m(\u001b[0m\u001b[0mSocketTimeout\u001b[0m\u001b[1;33m,\u001b[0m \u001b[0mBaseSSLError\u001b[0m\u001b[1;33m)\u001b[0m \u001b[1;32mas\u001b[0m \u001b[0me\u001b[0m\u001b[1;33m:\u001b[0m\u001b[1;33m\u001b[0m\u001b[1;33m\u001b[0m\u001b[0m\n",
      "\u001b[1;32mC:\\ProgramData\\Anaconda3\\lib\\site-packages\\urllib3\\connectionpool.py\u001b[0m in \u001b[0;36m_validate_conn\u001b[1;34m(self, conn)\u001b[0m\n\u001b[0;32m    838\u001b[0m         \u001b[1;32mif\u001b[0m \u001b[1;32mnot\u001b[0m \u001b[0mgetattr\u001b[0m\u001b[1;33m(\u001b[0m\u001b[0mconn\u001b[0m\u001b[1;33m,\u001b[0m \u001b[1;34m'sock'\u001b[0m\u001b[1;33m,\u001b[0m \u001b[1;32mNone\u001b[0m\u001b[1;33m)\u001b[0m\u001b[1;33m:\u001b[0m  \u001b[1;31m# AppEngine might not have  `.sock`\u001b[0m\u001b[1;33m\u001b[0m\u001b[1;33m\u001b[0m\u001b[0m\n\u001b[1;32m--> 839\u001b[1;33m             \u001b[0mconn\u001b[0m\u001b[1;33m.\u001b[0m\u001b[0mconnect\u001b[0m\u001b[1;33m(\u001b[0m\u001b[1;33m)\u001b[0m\u001b[1;33m\u001b[0m\u001b[1;33m\u001b[0m\u001b[0m\n\u001b[0m\u001b[0;32m    840\u001b[0m \u001b[1;33m\u001b[0m\u001b[0m\n",
      "\u001b[1;32mC:\\ProgramData\\Anaconda3\\lib\\site-packages\\urllib3\\connection.py\u001b[0m in \u001b[0;36mconnect\u001b[1;34m(self)\u001b[0m\n\u001b[0;32m    300\u001b[0m         \u001b[1;31m# Add certificate verification\u001b[0m\u001b[1;33m\u001b[0m\u001b[1;33m\u001b[0m\u001b[1;33m\u001b[0m\u001b[0m\n\u001b[1;32m--> 301\u001b[1;33m         \u001b[0mconn\u001b[0m \u001b[1;33m=\u001b[0m \u001b[0mself\u001b[0m\u001b[1;33m.\u001b[0m\u001b[0m_new_conn\u001b[0m\u001b[1;33m(\u001b[0m\u001b[1;33m)\u001b[0m\u001b[1;33m\u001b[0m\u001b[1;33m\u001b[0m\u001b[0m\n\u001b[0m\u001b[0;32m    302\u001b[0m         \u001b[0mhostname\u001b[0m \u001b[1;33m=\u001b[0m \u001b[0mself\u001b[0m\u001b[1;33m.\u001b[0m\u001b[0mhost\u001b[0m\u001b[1;33m\u001b[0m\u001b[1;33m\u001b[0m\u001b[0m\n",
      "\u001b[1;32mC:\\ProgramData\\Anaconda3\\lib\\site-packages\\urllib3\\connection.py\u001b[0m in \u001b[0;36m_new_conn\u001b[1;34m(self)\u001b[0m\n\u001b[0;32m    167\u001b[0m             raise NewConnectionError(\n\u001b[1;32m--> 168\u001b[1;33m                 self, \"Failed to establish a new connection: %s\" % e)\n\u001b[0m\u001b[0;32m    169\u001b[0m \u001b[1;33m\u001b[0m\u001b[0m\n",
      "\u001b[1;31mNewConnectionError\u001b[0m: <urllib3.connection.VerifiedHTTPSConnection object at 0x000001C9A470F0F0>: Failed to establish a new connection: [WinError 10061] No connection could be made because the target machine actively refused it",
      "\nDuring handling of the above exception, another exception occurred:\n",
      "\u001b[1;31mMaxRetryError\u001b[0m                             Traceback (most recent call last)",
      "\u001b[1;32mC:\\ProgramData\\Anaconda3\\lib\\site-packages\\requests\\adapters.py\u001b[0m in \u001b[0;36msend\u001b[1;34m(self, request, stream, timeout, verify, cert, proxies)\u001b[0m\n\u001b[0;32m    448\u001b[0m                     \u001b[0mretries\u001b[0m\u001b[1;33m=\u001b[0m\u001b[0mself\u001b[0m\u001b[1;33m.\u001b[0m\u001b[0mmax_retries\u001b[0m\u001b[1;33m,\u001b[0m\u001b[1;33m\u001b[0m\u001b[1;33m\u001b[0m\u001b[0m\n\u001b[1;32m--> 449\u001b[1;33m                     \u001b[0mtimeout\u001b[0m\u001b[1;33m=\u001b[0m\u001b[0mtimeout\u001b[0m\u001b[1;33m\u001b[0m\u001b[1;33m\u001b[0m\u001b[0m\n\u001b[0m\u001b[0;32m    450\u001b[0m                 )\n",
      "\u001b[1;32mC:\\ProgramData\\Anaconda3\\lib\\site-packages\\urllib3\\connectionpool.py\u001b[0m in \u001b[0;36murlopen\u001b[1;34m(self, method, url, body, headers, retries, redirect, assert_same_host, timeout, pool_timeout, release_conn, chunked, body_pos, **response_kw)\u001b[0m\n\u001b[0;32m    637\u001b[0m             retries = retries.increment(method, url, error=e, _pool=self,\n\u001b[1;32m--> 638\u001b[1;33m                                         _stacktrace=sys.exc_info()[2])\n\u001b[0m\u001b[0;32m    639\u001b[0m             \u001b[0mretries\u001b[0m\u001b[1;33m.\u001b[0m\u001b[0msleep\u001b[0m\u001b[1;33m(\u001b[0m\u001b[1;33m)\u001b[0m\u001b[1;33m\u001b[0m\u001b[1;33m\u001b[0m\u001b[0m\n",
      "\u001b[1;32mC:\\ProgramData\\Anaconda3\\lib\\site-packages\\urllib3\\util\\retry.py\u001b[0m in \u001b[0;36mincrement\u001b[1;34m(self, method, url, response, error, _pool, _stacktrace)\u001b[0m\n\u001b[0;32m    397\u001b[0m         \u001b[1;32mif\u001b[0m \u001b[0mnew_retry\u001b[0m\u001b[1;33m.\u001b[0m\u001b[0mis_exhausted\u001b[0m\u001b[1;33m(\u001b[0m\u001b[1;33m)\u001b[0m\u001b[1;33m:\u001b[0m\u001b[1;33m\u001b[0m\u001b[1;33m\u001b[0m\u001b[0m\n\u001b[1;32m--> 398\u001b[1;33m             \u001b[1;32mraise\u001b[0m \u001b[0mMaxRetryError\u001b[0m\u001b[1;33m(\u001b[0m\u001b[0m_pool\u001b[0m\u001b[1;33m,\u001b[0m \u001b[0murl\u001b[0m\u001b[1;33m,\u001b[0m \u001b[0merror\u001b[0m \u001b[1;32mor\u001b[0m \u001b[0mResponseError\u001b[0m\u001b[1;33m(\u001b[0m\u001b[0mcause\u001b[0m\u001b[1;33m)\u001b[0m\u001b[1;33m)\u001b[0m\u001b[1;33m\u001b[0m\u001b[1;33m\u001b[0m\u001b[0m\n\u001b[0m\u001b[0;32m    399\u001b[0m \u001b[1;33m\u001b[0m\u001b[0m\n",
      "\u001b[1;31mMaxRetryError\u001b[0m: HTTPSConnectionPool(host='api.twitter.com', port=443): Max retries exceeded with url: /1.1/search/tweets.json?q=%23ModiMatBanao (Caused by NewConnectionError('<urllib3.connection.VerifiedHTTPSConnection object at 0x000001C9A470F0F0>: Failed to establish a new connection: [WinError 10061] No connection could be made because the target machine actively refused it'))",
      "\nDuring handling of the above exception, another exception occurred:\n",
      "\u001b[1;31mConnectionError\u001b[0m                           Traceback (most recent call last)",
      "\u001b[1;32mC:\\ProgramData\\Anaconda3\\lib\\site-packages\\tweepy\\binder.py\u001b[0m in \u001b[0;36mexecute\u001b[1;34m(self)\u001b[0m\n\u001b[0;32m    189\u001b[0m                                                 \u001b[0mauth\u001b[0m\u001b[1;33m=\u001b[0m\u001b[0mauth\u001b[0m\u001b[1;33m,\u001b[0m\u001b[1;33m\u001b[0m\u001b[1;33m\u001b[0m\u001b[0m\n\u001b[1;32m--> 190\u001b[1;33m                                                 proxies=self.api.proxy)\n\u001b[0m\u001b[0;32m    191\u001b[0m                 \u001b[1;32mexcept\u001b[0m \u001b[0mException\u001b[0m \u001b[1;32mas\u001b[0m \u001b[0me\u001b[0m\u001b[1;33m:\u001b[0m\u001b[1;33m\u001b[0m\u001b[1;33m\u001b[0m\u001b[0m\n",
      "\u001b[1;32mC:\\ProgramData\\Anaconda3\\lib\\site-packages\\requests\\sessions.py\u001b[0m in \u001b[0;36mrequest\u001b[1;34m(self, method, url, params, data, headers, cookies, files, auth, timeout, allow_redirects, proxies, hooks, stream, verify, cert, json)\u001b[0m\n\u001b[0;32m    532\u001b[0m         \u001b[0msend_kwargs\u001b[0m\u001b[1;33m.\u001b[0m\u001b[0mupdate\u001b[0m\u001b[1;33m(\u001b[0m\u001b[0msettings\u001b[0m\u001b[1;33m)\u001b[0m\u001b[1;33m\u001b[0m\u001b[1;33m\u001b[0m\u001b[0m\n\u001b[1;32m--> 533\u001b[1;33m         \u001b[0mresp\u001b[0m \u001b[1;33m=\u001b[0m \u001b[0mself\u001b[0m\u001b[1;33m.\u001b[0m\u001b[0msend\u001b[0m\u001b[1;33m(\u001b[0m\u001b[0mprep\u001b[0m\u001b[1;33m,\u001b[0m \u001b[1;33m**\u001b[0m\u001b[0msend_kwargs\u001b[0m\u001b[1;33m)\u001b[0m\u001b[1;33m\u001b[0m\u001b[1;33m\u001b[0m\u001b[0m\n\u001b[0m\u001b[0;32m    534\u001b[0m \u001b[1;33m\u001b[0m\u001b[0m\n",
      "\u001b[1;32mC:\\ProgramData\\Anaconda3\\lib\\site-packages\\requests\\sessions.py\u001b[0m in \u001b[0;36msend\u001b[1;34m(self, request, **kwargs)\u001b[0m\n\u001b[0;32m    645\u001b[0m         \u001b[1;31m# Send the request\u001b[0m\u001b[1;33m\u001b[0m\u001b[1;33m\u001b[0m\u001b[1;33m\u001b[0m\u001b[0m\n\u001b[1;32m--> 646\u001b[1;33m         \u001b[0mr\u001b[0m \u001b[1;33m=\u001b[0m \u001b[0madapter\u001b[0m\u001b[1;33m.\u001b[0m\u001b[0msend\u001b[0m\u001b[1;33m(\u001b[0m\u001b[0mrequest\u001b[0m\u001b[1;33m,\u001b[0m \u001b[1;33m**\u001b[0m\u001b[0mkwargs\u001b[0m\u001b[1;33m)\u001b[0m\u001b[1;33m\u001b[0m\u001b[1;33m\u001b[0m\u001b[0m\n\u001b[0m\u001b[0;32m    647\u001b[0m \u001b[1;33m\u001b[0m\u001b[0m\n",
      "\u001b[1;32mC:\\ProgramData\\Anaconda3\\lib\\site-packages\\requests\\adapters.py\u001b[0m in \u001b[0;36msend\u001b[1;34m(self, request, stream, timeout, verify, cert, proxies)\u001b[0m\n\u001b[0;32m    515\u001b[0m \u001b[1;33m\u001b[0m\u001b[0m\n\u001b[1;32m--> 516\u001b[1;33m             \u001b[1;32mraise\u001b[0m \u001b[0mConnectionError\u001b[0m\u001b[1;33m(\u001b[0m\u001b[0me\u001b[0m\u001b[1;33m,\u001b[0m \u001b[0mrequest\u001b[0m\u001b[1;33m=\u001b[0m\u001b[0mrequest\u001b[0m\u001b[1;33m)\u001b[0m\u001b[1;33m\u001b[0m\u001b[1;33m\u001b[0m\u001b[0m\n\u001b[0m\u001b[0;32m    517\u001b[0m \u001b[1;33m\u001b[0m\u001b[0m\n",
      "\u001b[1;31mConnectionError\u001b[0m: HTTPSConnectionPool(host='api.twitter.com', port=443): Max retries exceeded with url: /1.1/search/tweets.json?q=%23ModiMatBanao (Caused by NewConnectionError('<urllib3.connection.VerifiedHTTPSConnection object at 0x000001C9A470F0F0>: Failed to establish a new connection: [WinError 10061] No connection could be made because the target machine actively refused it'))",
      "\nDuring handling of the above exception, another exception occurred:\n",
      "\u001b[1;31mTweepError\u001b[0m                                Traceback (most recent call last)",
      "\u001b[1;32m<ipython-input-115-54dcdd12e213>\u001b[0m in \u001b[0;36m<module>\u001b[1;34m\u001b[0m\n\u001b[0;32m      1\u001b[0m \u001b[0mdf_tweets\u001b[0m \u001b[1;33m=\u001b[0m \u001b[0mpd\u001b[0m\u001b[1;33m.\u001b[0m\u001b[0mDataFrame\u001b[0m\u001b[1;33m(\u001b[0m\u001b[1;33m)\u001b[0m\u001b[1;33m\u001b[0m\u001b[1;33m\u001b[0m\u001b[0m\n\u001b[1;32m----> 2\u001b[1;33m \u001b[1;32mfor\u001b[0m \u001b[0mtw\u001b[0m \u001b[1;32min\u001b[0m \u001b[0mtweepy\u001b[0m\u001b[1;33m.\u001b[0m\u001b[0mCursor\u001b[0m\u001b[1;33m(\u001b[0m\u001b[0mapi\u001b[0m\u001b[1;33m.\u001b[0m\u001b[0msearch\u001b[0m\u001b[1;33m,\u001b[0m \u001b[1;34m\"#ModiMatBanao\"\u001b[0m\u001b[1;33m)\u001b[0m\u001b[1;33m.\u001b[0m\u001b[0mitems\u001b[0m\u001b[1;33m(\u001b[0m\u001b[1;33m)\u001b[0m\u001b[1;33m:\u001b[0m\u001b[1;33m\u001b[0m\u001b[1;33m\u001b[0m\u001b[0m\n\u001b[0m\u001b[0;32m      3\u001b[0m     curr_tweet = {\"display_name\":tw.user.name,\"location\":tw.user.location,\"handler_name\":tw.user.screen_name,\n\u001b[0;32m      4\u001b[0m                  \u001b[1;34m\"created_at\"\u001b[0m\u001b[1;33m:\u001b[0m\u001b[0mtw\u001b[0m\u001b[1;33m.\u001b[0m\u001b[0mcreated_at\u001b[0m\u001b[1;33m,\u001b[0m\u001b[1;34m\"followers\"\u001b[0m\u001b[1;33m:\u001b[0m\u001b[0mtw\u001b[0m\u001b[1;33m.\u001b[0m\u001b[0muser\u001b[0m\u001b[1;33m.\u001b[0m\u001b[0mfollowers_count\u001b[0m\u001b[1;33m,\u001b[0m\u001b[1;34m\"friends\"\u001b[0m\u001b[1;33m:\u001b[0m\u001b[0mtw\u001b[0m\u001b[1;33m.\u001b[0m\u001b[0muser\u001b[0m\u001b[1;33m.\u001b[0m\u001b[0mfriends_count\u001b[0m\u001b[1;33m,\u001b[0m\u001b[1;33m\u001b[0m\u001b[1;33m\u001b[0m\u001b[0m\n\u001b[0;32m      5\u001b[0m                  \u001b[1;34m\"user_desc\"\u001b[0m\u001b[1;33m:\u001b[0m\u001b[0mtw\u001b[0m\u001b[1;33m.\u001b[0m\u001b[0muser\u001b[0m\u001b[1;33m.\u001b[0m\u001b[0mdescription\u001b[0m\u001b[1;33m,\u001b[0m\u001b[1;34m\"user_location\"\u001b[0m\u001b[1;33m:\u001b[0m\u001b[0mtw\u001b[0m\u001b[1;33m.\u001b[0m\u001b[0muser\u001b[0m\u001b[1;33m.\u001b[0m\u001b[0mlocation\u001b[0m\u001b[1;33m,\u001b[0m\u001b[1;34m\"likes\"\u001b[0m\u001b[1;33m:\u001b[0m\u001b[0mtw\u001b[0m\u001b[1;33m.\u001b[0m\u001b[0mfavorite_count\u001b[0m\u001b[1;33m,\u001b[0m\u001b[1;33m\u001b[0m\u001b[1;33m\u001b[0m\u001b[0m\n",
      "\u001b[1;32mC:\\ProgramData\\Anaconda3\\lib\\site-packages\\tweepy\\cursor.py\u001b[0m in \u001b[0;36m__next__\u001b[1;34m(self)\u001b[0m\n\u001b[0;32m     47\u001b[0m \u001b[1;33m\u001b[0m\u001b[0m\n\u001b[0;32m     48\u001b[0m     \u001b[1;32mdef\u001b[0m \u001b[0m__next__\u001b[0m\u001b[1;33m(\u001b[0m\u001b[0mself\u001b[0m\u001b[1;33m)\u001b[0m\u001b[1;33m:\u001b[0m\u001b[1;33m\u001b[0m\u001b[1;33m\u001b[0m\u001b[0m\n\u001b[1;32m---> 49\u001b[1;33m         \u001b[1;32mreturn\u001b[0m \u001b[0mself\u001b[0m\u001b[1;33m.\u001b[0m\u001b[0mnext\u001b[0m\u001b[1;33m(\u001b[0m\u001b[1;33m)\u001b[0m\u001b[1;33m\u001b[0m\u001b[1;33m\u001b[0m\u001b[0m\n\u001b[0m\u001b[0;32m     50\u001b[0m \u001b[1;33m\u001b[0m\u001b[0m\n\u001b[0;32m     51\u001b[0m     \u001b[1;32mdef\u001b[0m \u001b[0mnext\u001b[0m\u001b[1;33m(\u001b[0m\u001b[0mself\u001b[0m\u001b[1;33m)\u001b[0m\u001b[1;33m:\u001b[0m\u001b[1;33m\u001b[0m\u001b[1;33m\u001b[0m\u001b[0m\n",
      "\u001b[1;32mC:\\ProgramData\\Anaconda3\\lib\\site-packages\\tweepy\\cursor.py\u001b[0m in \u001b[0;36mnext\u001b[1;34m(self)\u001b[0m\n\u001b[0;32m    195\u001b[0m         \u001b[1;32mif\u001b[0m \u001b[0mself\u001b[0m\u001b[1;33m.\u001b[0m\u001b[0mcurrent_page\u001b[0m \u001b[1;32mis\u001b[0m \u001b[1;32mNone\u001b[0m \u001b[1;32mor\u001b[0m \u001b[0mself\u001b[0m\u001b[1;33m.\u001b[0m\u001b[0mpage_index\u001b[0m \u001b[1;33m==\u001b[0m \u001b[0mlen\u001b[0m\u001b[1;33m(\u001b[0m\u001b[0mself\u001b[0m\u001b[1;33m.\u001b[0m\u001b[0mcurrent_page\u001b[0m\u001b[1;33m)\u001b[0m \u001b[1;33m-\u001b[0m \u001b[1;36m1\u001b[0m\u001b[1;33m:\u001b[0m\u001b[1;33m\u001b[0m\u001b[1;33m\u001b[0m\u001b[0m\n\u001b[0;32m    196\u001b[0m             \u001b[1;31m# Reached end of current page, get the next page...\u001b[0m\u001b[1;33m\u001b[0m\u001b[1;33m\u001b[0m\u001b[1;33m\u001b[0m\u001b[0m\n\u001b[1;32m--> 197\u001b[1;33m             \u001b[0mself\u001b[0m\u001b[1;33m.\u001b[0m\u001b[0mcurrent_page\u001b[0m \u001b[1;33m=\u001b[0m \u001b[0mself\u001b[0m\u001b[1;33m.\u001b[0m\u001b[0mpage_iterator\u001b[0m\u001b[1;33m.\u001b[0m\u001b[0mnext\u001b[0m\u001b[1;33m(\u001b[0m\u001b[1;33m)\u001b[0m\u001b[1;33m\u001b[0m\u001b[1;33m\u001b[0m\u001b[0m\n\u001b[0m\u001b[0;32m    198\u001b[0m             \u001b[0mself\u001b[0m\u001b[1;33m.\u001b[0m\u001b[0mpage_index\u001b[0m \u001b[1;33m=\u001b[0m \u001b[1;33m-\u001b[0m\u001b[1;36m1\u001b[0m\u001b[1;33m\u001b[0m\u001b[1;33m\u001b[0m\u001b[0m\n\u001b[0;32m    199\u001b[0m         \u001b[0mself\u001b[0m\u001b[1;33m.\u001b[0m\u001b[0mpage_index\u001b[0m \u001b[1;33m+=\u001b[0m \u001b[1;36m1\u001b[0m\u001b[1;33m\u001b[0m\u001b[1;33m\u001b[0m\u001b[0m\n",
      "\u001b[1;32mC:\\ProgramData\\Anaconda3\\lib\\site-packages\\tweepy\\cursor.py\u001b[0m in \u001b[0;36mnext\u001b[1;34m(self)\u001b[0m\n\u001b[0;32m    106\u001b[0m \u001b[1;33m\u001b[0m\u001b[0m\n\u001b[0;32m    107\u001b[0m         \u001b[1;32mif\u001b[0m \u001b[0mself\u001b[0m\u001b[1;33m.\u001b[0m\u001b[0mindex\u001b[0m \u001b[1;33m>=\u001b[0m \u001b[0mlen\u001b[0m\u001b[1;33m(\u001b[0m\u001b[0mself\u001b[0m\u001b[1;33m.\u001b[0m\u001b[0mresults\u001b[0m\u001b[1;33m)\u001b[0m \u001b[1;33m-\u001b[0m \u001b[1;36m1\u001b[0m\u001b[1;33m:\u001b[0m\u001b[1;33m\u001b[0m\u001b[1;33m\u001b[0m\u001b[0m\n\u001b[1;32m--> 108\u001b[1;33m             \u001b[0mdata\u001b[0m \u001b[1;33m=\u001b[0m \u001b[0mself\u001b[0m\u001b[1;33m.\u001b[0m\u001b[0mmethod\u001b[0m\u001b[1;33m(\u001b[0m\u001b[0mmax_id\u001b[0m\u001b[1;33m=\u001b[0m\u001b[0mself\u001b[0m\u001b[1;33m.\u001b[0m\u001b[0mmax_id\u001b[0m\u001b[1;33m,\u001b[0m \u001b[0mparser\u001b[0m\u001b[1;33m=\u001b[0m\u001b[0mRawParser\u001b[0m\u001b[1;33m(\u001b[0m\u001b[1;33m)\u001b[0m\u001b[1;33m,\u001b[0m \u001b[1;33m*\u001b[0m\u001b[0mself\u001b[0m\u001b[1;33m.\u001b[0m\u001b[0margs\u001b[0m\u001b[1;33m,\u001b[0m \u001b[1;33m**\u001b[0m\u001b[0mself\u001b[0m\u001b[1;33m.\u001b[0m\u001b[0mkargs\u001b[0m\u001b[1;33m)\u001b[0m\u001b[1;33m\u001b[0m\u001b[1;33m\u001b[0m\u001b[0m\n\u001b[0m\u001b[0;32m    109\u001b[0m \u001b[1;33m\u001b[0m\u001b[0m\n\u001b[0;32m    110\u001b[0m             \u001b[1;32mif\u001b[0m \u001b[0mhasattr\u001b[0m\u001b[1;33m(\u001b[0m\u001b[0mself\u001b[0m\u001b[1;33m.\u001b[0m\u001b[0mmethod\u001b[0m\u001b[1;33m,\u001b[0m \u001b[1;34m'__self__'\u001b[0m\u001b[1;33m)\u001b[0m\u001b[1;33m:\u001b[0m\u001b[1;33m\u001b[0m\u001b[1;33m\u001b[0m\u001b[0m\n",
      "\u001b[1;32mC:\\ProgramData\\Anaconda3\\lib\\site-packages\\tweepy\\binder.py\u001b[0m in \u001b[0;36m_call\u001b[1;34m(*args, **kwargs)\u001b[0m\n\u001b[0;32m    248\u001b[0m             \u001b[1;32mreturn\u001b[0m \u001b[0mmethod\u001b[0m\u001b[1;33m\u001b[0m\u001b[1;33m\u001b[0m\u001b[0m\n\u001b[0;32m    249\u001b[0m         \u001b[1;32melse\u001b[0m\u001b[1;33m:\u001b[0m\u001b[1;33m\u001b[0m\u001b[1;33m\u001b[0m\u001b[0m\n\u001b[1;32m--> 250\u001b[1;33m             \u001b[1;32mreturn\u001b[0m \u001b[0mmethod\u001b[0m\u001b[1;33m.\u001b[0m\u001b[0mexecute\u001b[0m\u001b[1;33m(\u001b[0m\u001b[1;33m)\u001b[0m\u001b[1;33m\u001b[0m\u001b[1;33m\u001b[0m\u001b[0m\n\u001b[0m\u001b[0;32m    251\u001b[0m \u001b[1;33m\u001b[0m\u001b[0m\n\u001b[0;32m    252\u001b[0m     \u001b[1;31m# Set pagination mode\u001b[0m\u001b[1;33m\u001b[0m\u001b[1;33m\u001b[0m\u001b[1;33m\u001b[0m\u001b[0m\n",
      "\u001b[1;32mC:\\ProgramData\\Anaconda3\\lib\\site-packages\\tweepy\\binder.py\u001b[0m in \u001b[0;36mexecute\u001b[1;34m(self)\u001b[0m\n\u001b[0;32m    190\u001b[0m                                                 proxies=self.api.proxy)\n\u001b[0;32m    191\u001b[0m                 \u001b[1;32mexcept\u001b[0m \u001b[0mException\u001b[0m \u001b[1;32mas\u001b[0m \u001b[0me\u001b[0m\u001b[1;33m:\u001b[0m\u001b[1;33m\u001b[0m\u001b[1;33m\u001b[0m\u001b[0m\n\u001b[1;32m--> 192\u001b[1;33m                     \u001b[0msix\u001b[0m\u001b[1;33m.\u001b[0m\u001b[0mreraise\u001b[0m\u001b[1;33m(\u001b[0m\u001b[0mTweepError\u001b[0m\u001b[1;33m,\u001b[0m \u001b[0mTweepError\u001b[0m\u001b[1;33m(\u001b[0m\u001b[1;34m'Failed to send request: %s'\u001b[0m \u001b[1;33m%\u001b[0m \u001b[0me\u001b[0m\u001b[1;33m)\u001b[0m\u001b[1;33m,\u001b[0m \u001b[0msys\u001b[0m\u001b[1;33m.\u001b[0m\u001b[0mexc_info\u001b[0m\u001b[1;33m(\u001b[0m\u001b[1;33m)\u001b[0m\u001b[1;33m[\u001b[0m\u001b[1;36m2\u001b[0m\u001b[1;33m]\u001b[0m\u001b[1;33m)\u001b[0m\u001b[1;33m\u001b[0m\u001b[1;33m\u001b[0m\u001b[0m\n\u001b[0m\u001b[0;32m    193\u001b[0m \u001b[1;33m\u001b[0m\u001b[0m\n\u001b[0;32m    194\u001b[0m                 \u001b[0mrem_calls\u001b[0m \u001b[1;33m=\u001b[0m \u001b[0mresp\u001b[0m\u001b[1;33m.\u001b[0m\u001b[0mheaders\u001b[0m\u001b[1;33m.\u001b[0m\u001b[0mget\u001b[0m\u001b[1;33m(\u001b[0m\u001b[1;34m'x-rate-limit-remaining'\u001b[0m\u001b[1;33m)\u001b[0m\u001b[1;33m\u001b[0m\u001b[1;33m\u001b[0m\u001b[0m\n",
      "\u001b[1;32mC:\\ProgramData\\Anaconda3\\lib\\site-packages\\six.py\u001b[0m in \u001b[0;36mreraise\u001b[1;34m(tp, value, tb)\u001b[0m\n\u001b[0;32m    690\u001b[0m                 \u001b[0mvalue\u001b[0m \u001b[1;33m=\u001b[0m \u001b[0mtp\u001b[0m\u001b[1;33m(\u001b[0m\u001b[1;33m)\u001b[0m\u001b[1;33m\u001b[0m\u001b[1;33m\u001b[0m\u001b[0m\n\u001b[0;32m    691\u001b[0m             \u001b[1;32mif\u001b[0m \u001b[0mvalue\u001b[0m\u001b[1;33m.\u001b[0m\u001b[0m__traceback__\u001b[0m \u001b[1;32mis\u001b[0m \u001b[1;32mnot\u001b[0m \u001b[0mtb\u001b[0m\u001b[1;33m:\u001b[0m\u001b[1;33m\u001b[0m\u001b[1;33m\u001b[0m\u001b[0m\n\u001b[1;32m--> 692\u001b[1;33m                 \u001b[1;32mraise\u001b[0m \u001b[0mvalue\u001b[0m\u001b[1;33m.\u001b[0m\u001b[0mwith_traceback\u001b[0m\u001b[1;33m(\u001b[0m\u001b[0mtb\u001b[0m\u001b[1;33m)\u001b[0m\u001b[1;33m\u001b[0m\u001b[1;33m\u001b[0m\u001b[0m\n\u001b[0m\u001b[0;32m    693\u001b[0m             \u001b[1;32mraise\u001b[0m \u001b[0mvalue\u001b[0m\u001b[1;33m\u001b[0m\u001b[1;33m\u001b[0m\u001b[0m\n\u001b[0;32m    694\u001b[0m         \u001b[1;32mfinally\u001b[0m\u001b[1;33m:\u001b[0m\u001b[1;33m\u001b[0m\u001b[1;33m\u001b[0m\u001b[0m\n",
      "\u001b[1;32mC:\\ProgramData\\Anaconda3\\lib\\site-packages\\tweepy\\binder.py\u001b[0m in \u001b[0;36mexecute\u001b[1;34m(self)\u001b[0m\n\u001b[0;32m    188\u001b[0m                                                 \u001b[0mtimeout\u001b[0m\u001b[1;33m=\u001b[0m\u001b[0mself\u001b[0m\u001b[1;33m.\u001b[0m\u001b[0mapi\u001b[0m\u001b[1;33m.\u001b[0m\u001b[0mtimeout\u001b[0m\u001b[1;33m,\u001b[0m\u001b[1;33m\u001b[0m\u001b[1;33m\u001b[0m\u001b[0m\n\u001b[0;32m    189\u001b[0m                                                 \u001b[0mauth\u001b[0m\u001b[1;33m=\u001b[0m\u001b[0mauth\u001b[0m\u001b[1;33m,\u001b[0m\u001b[1;33m\u001b[0m\u001b[1;33m\u001b[0m\u001b[0m\n\u001b[1;32m--> 190\u001b[1;33m                                                 proxies=self.api.proxy)\n\u001b[0m\u001b[0;32m    191\u001b[0m                 \u001b[1;32mexcept\u001b[0m \u001b[0mException\u001b[0m \u001b[1;32mas\u001b[0m \u001b[0me\u001b[0m\u001b[1;33m:\u001b[0m\u001b[1;33m\u001b[0m\u001b[1;33m\u001b[0m\u001b[0m\n\u001b[0;32m    192\u001b[0m                     \u001b[0msix\u001b[0m\u001b[1;33m.\u001b[0m\u001b[0mreraise\u001b[0m\u001b[1;33m(\u001b[0m\u001b[0mTweepError\u001b[0m\u001b[1;33m,\u001b[0m \u001b[0mTweepError\u001b[0m\u001b[1;33m(\u001b[0m\u001b[1;34m'Failed to send request: %s'\u001b[0m \u001b[1;33m%\u001b[0m \u001b[0me\u001b[0m\u001b[1;33m)\u001b[0m\u001b[1;33m,\u001b[0m \u001b[0msys\u001b[0m\u001b[1;33m.\u001b[0m\u001b[0mexc_info\u001b[0m\u001b[1;33m(\u001b[0m\u001b[1;33m)\u001b[0m\u001b[1;33m[\u001b[0m\u001b[1;36m2\u001b[0m\u001b[1;33m]\u001b[0m\u001b[1;33m)\u001b[0m\u001b[1;33m\u001b[0m\u001b[1;33m\u001b[0m\u001b[0m\n",
      "\u001b[1;32mC:\\ProgramData\\Anaconda3\\lib\\site-packages\\requests\\sessions.py\u001b[0m in \u001b[0;36mrequest\u001b[1;34m(self, method, url, params, data, headers, cookies, files, auth, timeout, allow_redirects, proxies, hooks, stream, verify, cert, json)\u001b[0m\n\u001b[0;32m    531\u001b[0m         }\n\u001b[0;32m    532\u001b[0m         \u001b[0msend_kwargs\u001b[0m\u001b[1;33m.\u001b[0m\u001b[0mupdate\u001b[0m\u001b[1;33m(\u001b[0m\u001b[0msettings\u001b[0m\u001b[1;33m)\u001b[0m\u001b[1;33m\u001b[0m\u001b[1;33m\u001b[0m\u001b[0m\n\u001b[1;32m--> 533\u001b[1;33m         \u001b[0mresp\u001b[0m \u001b[1;33m=\u001b[0m \u001b[0mself\u001b[0m\u001b[1;33m.\u001b[0m\u001b[0msend\u001b[0m\u001b[1;33m(\u001b[0m\u001b[0mprep\u001b[0m\u001b[1;33m,\u001b[0m \u001b[1;33m**\u001b[0m\u001b[0msend_kwargs\u001b[0m\u001b[1;33m)\u001b[0m\u001b[1;33m\u001b[0m\u001b[1;33m\u001b[0m\u001b[0m\n\u001b[0m\u001b[0;32m    534\u001b[0m \u001b[1;33m\u001b[0m\u001b[0m\n\u001b[0;32m    535\u001b[0m         \u001b[1;32mreturn\u001b[0m \u001b[0mresp\u001b[0m\u001b[1;33m\u001b[0m\u001b[1;33m\u001b[0m\u001b[0m\n",
      "\u001b[1;32mC:\\ProgramData\\Anaconda3\\lib\\site-packages\\requests\\sessions.py\u001b[0m in \u001b[0;36msend\u001b[1;34m(self, request, **kwargs)\u001b[0m\n\u001b[0;32m    644\u001b[0m \u001b[1;33m\u001b[0m\u001b[0m\n\u001b[0;32m    645\u001b[0m         \u001b[1;31m# Send the request\u001b[0m\u001b[1;33m\u001b[0m\u001b[1;33m\u001b[0m\u001b[1;33m\u001b[0m\u001b[0m\n\u001b[1;32m--> 646\u001b[1;33m         \u001b[0mr\u001b[0m \u001b[1;33m=\u001b[0m \u001b[0madapter\u001b[0m\u001b[1;33m.\u001b[0m\u001b[0msend\u001b[0m\u001b[1;33m(\u001b[0m\u001b[0mrequest\u001b[0m\u001b[1;33m,\u001b[0m \u001b[1;33m**\u001b[0m\u001b[0mkwargs\u001b[0m\u001b[1;33m)\u001b[0m\u001b[1;33m\u001b[0m\u001b[1;33m\u001b[0m\u001b[0m\n\u001b[0m\u001b[0;32m    647\u001b[0m \u001b[1;33m\u001b[0m\u001b[0m\n\u001b[0;32m    648\u001b[0m         \u001b[1;31m# Total elapsed time of the request (approximately)\u001b[0m\u001b[1;33m\u001b[0m\u001b[1;33m\u001b[0m\u001b[1;33m\u001b[0m\u001b[0m\n",
      "\u001b[1;32mC:\\ProgramData\\Anaconda3\\lib\\site-packages\\requests\\adapters.py\u001b[0m in \u001b[0;36msend\u001b[1;34m(self, request, stream, timeout, verify, cert, proxies)\u001b[0m\n\u001b[0;32m    514\u001b[0m                 \u001b[1;32mraise\u001b[0m \u001b[0mSSLError\u001b[0m\u001b[1;33m(\u001b[0m\u001b[0me\u001b[0m\u001b[1;33m,\u001b[0m \u001b[0mrequest\u001b[0m\u001b[1;33m=\u001b[0m\u001b[0mrequest\u001b[0m\u001b[1;33m)\u001b[0m\u001b[1;33m\u001b[0m\u001b[1;33m\u001b[0m\u001b[0m\n\u001b[0;32m    515\u001b[0m \u001b[1;33m\u001b[0m\u001b[0m\n\u001b[1;32m--> 516\u001b[1;33m             \u001b[1;32mraise\u001b[0m \u001b[0mConnectionError\u001b[0m\u001b[1;33m(\u001b[0m\u001b[0me\u001b[0m\u001b[1;33m,\u001b[0m \u001b[0mrequest\u001b[0m\u001b[1;33m=\u001b[0m\u001b[0mrequest\u001b[0m\u001b[1;33m)\u001b[0m\u001b[1;33m\u001b[0m\u001b[1;33m\u001b[0m\u001b[0m\n\u001b[0m\u001b[0;32m    517\u001b[0m \u001b[1;33m\u001b[0m\u001b[0m\n\u001b[0;32m    518\u001b[0m         \u001b[1;32mexcept\u001b[0m \u001b[0mClosedPoolError\u001b[0m \u001b[1;32mas\u001b[0m \u001b[0me\u001b[0m\u001b[1;33m:\u001b[0m\u001b[1;33m\u001b[0m\u001b[1;33m\u001b[0m\u001b[0m\n",
      "\u001b[1;31mTweepError\u001b[0m: Failed to send request: HTTPSConnectionPool(host='api.twitter.com', port=443): Max retries exceeded with url: /1.1/search/tweets.json?q=%23ModiMatBanao (Caused by NewConnectionError('<urllib3.connection.VerifiedHTTPSConnection object at 0x000001C9A470F0F0>: Failed to establish a new connection: [WinError 10061] No connection could be made because the target machine actively refused it'))"
     ]
    }
   ],
   "source": [
    "df_tweets = pd.DataFrame()\n",
    "for tw in tweepy.Cursor(api.search, \"#ModiMatBanao\").items():\n",
    "    curr_tweet = {\"display_name\":tw.user.name,\"location\":tw.user.location,\"handler_name\":tw.user.screen_name,\n",
    "                 \"created_at\":tw.created_at,\"followers\":tw.user.followers_count,\"friends\":tw.user.friends_count,\n",
    "                 \"user_desc\":tw.user.description,\"user_location\":tw.user.location,\"likes\":tw.favorite_count,\n",
    "                 \"retweets\":tw.retweet_count}\n",
    "    df_tweets = df_tweets.append(curr_tweet,ignore_index=True)"
   ]
  },
  {
   "cell_type": "code",
   "execution_count": 116,
   "metadata": {},
   "outputs": [
    {
     "data": {
      "text/plain": [
       "(0, 0)"
      ]
     },
     "execution_count": 116,
     "metadata": {},
     "output_type": "execute_result"
    }
   ],
   "source": [
    "df_tweets.shape"
   ]
  },
  {
   "cell_type": "code",
   "execution_count": 107,
   "metadata": {},
   "outputs": [
    {
     "data": {
      "text/plain": [
       "                                  21\n",
       "India                             15\n",
       "Gujarat, India                     5\n",
       "Gorakhpur, India                   3\n",
       "Kolkata, India                     3\n",
       "Punjab, India                      3\n",
       "मुंबई, भारत                        2\n",
       "Chhattisgarh, India                2\n",
       "Panditwari, Dehradun               2\n",
       "Mumbai                             2\n",
       "latur                              1\n",
       "कालीघाट, कोलकाता                   1\n",
       "Fatehpur,Uttar Pradesh, India      1\n",
       "New Delhi, India                   1\n",
       "Ahmedabad, Gujarat, India          1\n",
       "mumbai                             1\n",
       "Haryana, India                     1\n",
       "Gujarat, Bombay                    1\n",
       "Neverland                          1\n",
       "New Delhi                          1\n",
       "धनबाद, भारत                        1\n",
       " Gujarat, india                    1\n",
       "Allahabad, India                   1\n",
       "Jilin, People's Republic of Ch     1\n",
       "Bhopal, India                      1\n",
       "Hisar, India                       1\n",
       "Lucknow, India                     1\n",
       "New delhi. India                   1\n",
       "Bombay, India                      1\n",
       "Mumbai, India                      1\n",
       "Chandigarh                         1\n",
       "kolkata                            1\n",
       "Dar es Salaam, Tanzania            1\n",
       "Mirzapur, India                    1\n",
       "Ahmadabad City, India              1\n",
       "वाराणसी, भारत                      1\n",
       "Bangalore                          1\n",
       "Avisame cuando llegues tu casa     1\n",
       "danipur                            1\n",
       "भारत                               1\n",
       "Uttar Pradesh, India               1\n",
       "Name: user_location, dtype: int64"
      ]
     },
     "execution_count": 107,
     "metadata": {},
     "output_type": "execute_result"
    }
   ],
   "source": [
    "df_tweet.user_location.value_counts()"
   ]
  },
  {
   "cell_type": "markdown",
   "metadata": {},
   "source": [
    "# ---------------------------------"
   ]
  },
  {
   "cell_type": "code",
   "execution_count": 18,
   "metadata": {},
   "outputs": [],
   "source": [
    "consumer_key = \"SXhLp1YQtRNEwI2DOtoQ1GOPS\"\n",
    "consumer_secret = \"y7LryBjL9w3k3uQg5NPvKQ4Te6L1Di0prb2URGSro3Zimfm7Fx\"\n",
    "\n",
    "access_token = \"991382693945360386-HiKKrfdpUJAoRfuKs5EEeKsvihbhknh\"\n",
    "access_secret = \"yBRNfIyoYUU8FXhdntg5BiuioRso340eAJ89xMRCqv56P\""
   ]
  },
  {
   "cell_type": "code",
   "execution_count": 19,
   "metadata": {},
   "outputs": [],
   "source": [
    "auth = tweepy.OAuthHandler(consumer_key, consumer_secret)\n",
    "auth.set_access_token(access_token, access_secret)\n",
    "\n",
    "api = tweepy.API(auth)"
   ]
  },
  {
   "cell_type": "code",
   "execution_count": 21,
   "metadata": {},
   "outputs": [
    {
     "data": {
      "text/plain": [
       "200"
      ]
     },
     "execution_count": 21,
     "metadata": {},
     "output_type": "execute_result"
    }
   ],
   "source": [
    "modi_tweets = api.user_timeline(\"akshaykumar\", page=1, count=200)\n",
    "len(modi_tweets)"
   ]
  },
  {
   "cell_type": "code",
   "execution_count": 22,
   "metadata": {},
   "outputs": [
    {
     "data": {
      "text/plain": [
       "Status(_api=<tweepy.api.API object at 0x0000021CD84DD6A0>, _json={'created_at': 'Mon Apr 01 06:06:55 +0000 2019', 'id': 1112597189610491904, 'id_str': '1112597189610491904', 'text': 'Changes like these make you feel it’s all worthwhile 🙏🏻 https://t.co/6H6NdPSAUk', 'truncated': False, 'entities': {'hashtags': [], 'symbols': [], 'user_mentions': [], 'urls': [{'url': 'https://t.co/6H6NdPSAUk', 'expanded_url': 'https://twitter.com/nigam15073/status/1112575845606936576', 'display_url': 'twitter.com/nigam15073/sta…', 'indices': [56, 79]}]}, 'source': '<a href=\"http://twitter.com/download/iphone\" rel=\"nofollow\">Twitter for iPhone</a>', 'in_reply_to_status_id': None, 'in_reply_to_status_id_str': None, 'in_reply_to_user_id': None, 'in_reply_to_user_id_str': None, 'in_reply_to_screen_name': None, 'user': {'id': 31348594, 'id_str': '31348594', 'name': 'Akshay Kumar', 'screen_name': 'akshaykumar', 'location': '', 'description': '', 'url': 'https://t.co/nVpOquvNp0', 'entities': {'url': {'urls': [{'url': 'https://t.co/nVpOquvNp0', 'expanded_url': 'http://www.facebook.com/akshaykumarofficial', 'display_url': 'facebook.com/akshaykumaroff…', 'indices': [0, 23]}]}, 'description': {'urls': []}}, 'protected': False, 'followers_count': 30161903, 'friends_count': 24, 'listed_count': 15068, 'created_at': 'Wed Apr 15 05:23:19 +0000 2009', 'favourites_count': 1316, 'utc_offset': None, 'time_zone': None, 'geo_enabled': False, 'verified': True, 'statuses_count': 39367, 'lang': 'en', 'contributors_enabled': False, 'is_translator': False, 'is_translation_enabled': False, 'profile_background_color': '9AE4E8', 'profile_background_image_url': 'http://abs.twimg.com/images/themes/theme1/bg.png', 'profile_background_image_url_https': 'https://abs.twimg.com/images/themes/theme1/bg.png', 'profile_background_tile': False, 'profile_image_url': 'http://pbs.twimg.com/profile_images/1085067824840822785/ychTUtB8_normal.jpg', 'profile_image_url_https': 'https://pbs.twimg.com/profile_images/1085067824840822785/ychTUtB8_normal.jpg', 'profile_link_color': '0084B4', 'profile_sidebar_border_color': '121212', 'profile_sidebar_fill_color': 'B3B3B3', 'profile_text_color': '333333', 'profile_use_background_image': True, 'has_extended_profile': False, 'default_profile': False, 'default_profile_image': False, 'following': True, 'follow_request_sent': False, 'notifications': False, 'translator_type': 'none'}, 'geo': None, 'coordinates': None, 'place': None, 'contributors': None, 'is_quote_status': True, 'quoted_status_id': 1112575845606936576, 'quoted_status_id_str': '1112575845606936576', 'quoted_status': {'created_at': 'Mon Apr 01 04:42:06 +0000 2019', 'id': 1112575845606936576, 'id_str': '1112575845606936576', 'text': 'Thank you @akshaykumar sir for inspiring our nation by a film 🎥 I just watch this picture and feel proud 🙏 thank yo… https://t.co/gDQ4pYI4rN', 'truncated': True, 'entities': {'hashtags': [], 'symbols': [], 'user_mentions': [{'screen_name': 'akshaykumar', 'name': 'Akshay Kumar', 'id': 31348594, 'id_str': '31348594', 'indices': [10, 22]}], 'urls': [{'url': 'https://t.co/gDQ4pYI4rN', 'expanded_url': 'https://twitter.com/i/web/status/1112575845606936576', 'display_url': 'twitter.com/i/web/status/1…', 'indices': [117, 140]}]}, 'source': '<a href=\"http://twitter.com/download/iphone\" rel=\"nofollow\">Twitter for iPhone</a>', 'in_reply_to_status_id': None, 'in_reply_to_status_id_str': None, 'in_reply_to_user_id': None, 'in_reply_to_user_id_str': None, 'in_reply_to_screen_name': None, 'user': {'id': 3115156098, 'id_str': '3115156098', 'name': 'Praveen Nigam', 'screen_name': 'nigam15073', 'location': 'New Delhi, Delhi', 'description': 'Proud Indian #bornbanarasi', 'url': None, 'entities': {'description': {'urls': []}}, 'protected': False, 'followers_count': 49, 'friends_count': 283, 'listed_count': 0, 'created_at': 'Sun Mar 29 11:33:54 +0000 2015', 'favourites_count': 5427, 'utc_offset': None, 'time_zone': None, 'geo_enabled': False, 'verified': False, 'statuses_count': 748, 'lang': 'en', 'contributors_enabled': False, 'is_translator': False, 'is_translation_enabled': False, 'profile_background_color': 'C0DEED', 'profile_background_image_url': 'http://abs.twimg.com/images/themes/theme1/bg.png', 'profile_background_image_url_https': 'https://abs.twimg.com/images/themes/theme1/bg.png', 'profile_background_tile': False, 'profile_image_url': 'http://pbs.twimg.com/profile_images/974762720431149056/NHc1oVel_normal.jpg', 'profile_image_url_https': 'https://pbs.twimg.com/profile_images/974762720431149056/NHc1oVel_normal.jpg', 'profile_banner_url': 'https://pbs.twimg.com/profile_banners/3115156098/1505372259', 'profile_link_color': '1DA1F2', 'profile_sidebar_border_color': 'C0DEED', 'profile_sidebar_fill_color': 'DDEEF6', 'profile_text_color': '333333', 'profile_use_background_image': True, 'has_extended_profile': True, 'default_profile': True, 'default_profile_image': False, 'following': False, 'follow_request_sent': False, 'notifications': False, 'translator_type': 'none'}, 'geo': None, 'coordinates': None, 'place': None, 'contributors': None, 'is_quote_status': False, 'retweet_count': 236, 'favorite_count': 2527, 'favorited': False, 'retweeted': False, 'possibly_sensitive': False, 'lang': 'en'}, 'retweet_count': 604, 'favorite_count': 6568, 'favorited': False, 'retweeted': False, 'possibly_sensitive': False, 'lang': 'en'}, created_at=datetime.datetime(2019, 4, 1, 6, 6, 55), id=1112597189610491904, id_str='1112597189610491904', text='Changes like these make you feel it’s all worthwhile 🙏🏻 https://t.co/6H6NdPSAUk', truncated=False, entities={'hashtags': [], 'symbols': [], 'user_mentions': [], 'urls': [{'url': 'https://t.co/6H6NdPSAUk', 'expanded_url': 'https://twitter.com/nigam15073/status/1112575845606936576', 'display_url': 'twitter.com/nigam15073/sta…', 'indices': [56, 79]}]}, source='Twitter for iPhone', source_url='http://twitter.com/download/iphone', in_reply_to_status_id=None, in_reply_to_status_id_str=None, in_reply_to_user_id=None, in_reply_to_user_id_str=None, in_reply_to_screen_name=None, author=User(_api=<tweepy.api.API object at 0x0000021CD84DD6A0>, _json={'id': 31348594, 'id_str': '31348594', 'name': 'Akshay Kumar', 'screen_name': 'akshaykumar', 'location': '', 'description': '', 'url': 'https://t.co/nVpOquvNp0', 'entities': {'url': {'urls': [{'url': 'https://t.co/nVpOquvNp0', 'expanded_url': 'http://www.facebook.com/akshaykumarofficial', 'display_url': 'facebook.com/akshaykumaroff…', 'indices': [0, 23]}]}, 'description': {'urls': []}}, 'protected': False, 'followers_count': 30161903, 'friends_count': 24, 'listed_count': 15068, 'created_at': 'Wed Apr 15 05:23:19 +0000 2009', 'favourites_count': 1316, 'utc_offset': None, 'time_zone': None, 'geo_enabled': False, 'verified': True, 'statuses_count': 39367, 'lang': 'en', 'contributors_enabled': False, 'is_translator': False, 'is_translation_enabled': False, 'profile_background_color': '9AE4E8', 'profile_background_image_url': 'http://abs.twimg.com/images/themes/theme1/bg.png', 'profile_background_image_url_https': 'https://abs.twimg.com/images/themes/theme1/bg.png', 'profile_background_tile': False, 'profile_image_url': 'http://pbs.twimg.com/profile_images/1085067824840822785/ychTUtB8_normal.jpg', 'profile_image_url_https': 'https://pbs.twimg.com/profile_images/1085067824840822785/ychTUtB8_normal.jpg', 'profile_link_color': '0084B4', 'profile_sidebar_border_color': '121212', 'profile_sidebar_fill_color': 'B3B3B3', 'profile_text_color': '333333', 'profile_use_background_image': True, 'has_extended_profile': False, 'default_profile': False, 'default_profile_image': False, 'following': True, 'follow_request_sent': False, 'notifications': False, 'translator_type': 'none'}, id=31348594, id_str='31348594', name='Akshay Kumar', screen_name='akshaykumar', location='', description='', url='https://t.co/nVpOquvNp0', entities={'url': {'urls': [{'url': 'https://t.co/nVpOquvNp0', 'expanded_url': 'http://www.facebook.com/akshaykumarofficial', 'display_url': 'facebook.com/akshaykumaroff…', 'indices': [0, 23]}]}, 'description': {'urls': []}}, protected=False, followers_count=30161903, friends_count=24, listed_count=15068, created_at=datetime.datetime(2009, 4, 15, 5, 23, 19), favourites_count=1316, utc_offset=None, time_zone=None, geo_enabled=False, verified=True, statuses_count=39367, lang='en', contributors_enabled=False, is_translator=False, is_translation_enabled=False, profile_background_color='9AE4E8', profile_background_image_url='http://abs.twimg.com/images/themes/theme1/bg.png', profile_background_image_url_https='https://abs.twimg.com/images/themes/theme1/bg.png', profile_background_tile=False, profile_image_url='http://pbs.twimg.com/profile_images/1085067824840822785/ychTUtB8_normal.jpg', profile_image_url_https='https://pbs.twimg.com/profile_images/1085067824840822785/ychTUtB8_normal.jpg', profile_link_color='0084B4', profile_sidebar_border_color='121212', profile_sidebar_fill_color='B3B3B3', profile_text_color='333333', profile_use_background_image=True, has_extended_profile=False, default_profile=False, default_profile_image=False, following=True, follow_request_sent=False, notifications=False, translator_type='none'), user=User(_api=<tweepy.api.API object at 0x0000021CD84DD6A0>, _json={'id': 31348594, 'id_str': '31348594', 'name': 'Akshay Kumar', 'screen_name': 'akshaykumar', 'location': '', 'description': '', 'url': 'https://t.co/nVpOquvNp0', 'entities': {'url': {'urls': [{'url': 'https://t.co/nVpOquvNp0', 'expanded_url': 'http://www.facebook.com/akshaykumarofficial', 'display_url': 'facebook.com/akshaykumaroff…', 'indices': [0, 23]}]}, 'description': {'urls': []}}, 'protected': False, 'followers_count': 30161903, 'friends_count': 24, 'listed_count': 15068, 'created_at': 'Wed Apr 15 05:23:19 +0000 2009', 'favourites_count': 1316, 'utc_offset': None, 'time_zone': None, 'geo_enabled': False, 'verified': True, 'statuses_count': 39367, 'lang': 'en', 'contributors_enabled': False, 'is_translator': False, 'is_translation_enabled': False, 'profile_background_color': '9AE4E8', 'profile_background_image_url': 'http://abs.twimg.com/images/themes/theme1/bg.png', 'profile_background_image_url_https': 'https://abs.twimg.com/images/themes/theme1/bg.png', 'profile_background_tile': False, 'profile_image_url': 'http://pbs.twimg.com/profile_images/1085067824840822785/ychTUtB8_normal.jpg', 'profile_image_url_https': 'https://pbs.twimg.com/profile_images/1085067824840822785/ychTUtB8_normal.jpg', 'profile_link_color': '0084B4', 'profile_sidebar_border_color': '121212', 'profile_sidebar_fill_color': 'B3B3B3', 'profile_text_color': '333333', 'profile_use_background_image': True, 'has_extended_profile': False, 'default_profile': False, 'default_profile_image': False, 'following': True, 'follow_request_sent': False, 'notifications': False, 'translator_type': 'none'}, id=31348594, id_str='31348594', name='Akshay Kumar', screen_name='akshaykumar', location='', description='', url='https://t.co/nVpOquvNp0', entities={'url': {'urls': [{'url': 'https://t.co/nVpOquvNp0', 'expanded_url': 'http://www.facebook.com/akshaykumarofficial', 'display_url': 'facebook.com/akshaykumaroff…', 'indices': [0, 23]}]}, 'description': {'urls': []}}, protected=False, followers_count=30161903, friends_count=24, listed_count=15068, created_at=datetime.datetime(2009, 4, 15, 5, 23, 19), favourites_count=1316, utc_offset=None, time_zone=None, geo_enabled=False, verified=True, statuses_count=39367, lang='en', contributors_enabled=False, is_translator=False, is_translation_enabled=False, profile_background_color='9AE4E8', profile_background_image_url='http://abs.twimg.com/images/themes/theme1/bg.png', profile_background_image_url_https='https://abs.twimg.com/images/themes/theme1/bg.png', profile_background_tile=False, profile_image_url='http://pbs.twimg.com/profile_images/1085067824840822785/ychTUtB8_normal.jpg', profile_image_url_https='https://pbs.twimg.com/profile_images/1085067824840822785/ychTUtB8_normal.jpg', profile_link_color='0084B4', profile_sidebar_border_color='121212', profile_sidebar_fill_color='B3B3B3', profile_text_color='333333', profile_use_background_image=True, has_extended_profile=False, default_profile=False, default_profile_image=False, following=True, follow_request_sent=False, notifications=False, translator_type='none'), geo=None, coordinates=None, place=None, contributors=None, is_quote_status=True, quoted_status_id=1112575845606936576, quoted_status_id_str='1112575845606936576', quoted_status=Status(_api=<tweepy.api.API object at 0x0000021CD84DD6A0>, _json={'created_at': 'Mon Apr 01 04:42:06 +0000 2019', 'id': 1112575845606936576, 'id_str': '1112575845606936576', 'text': 'Thank you @akshaykumar sir for inspiring our nation by a film 🎥 I just watch this picture and feel proud 🙏 thank yo… https://t.co/gDQ4pYI4rN', 'truncated': True, 'entities': {'hashtags': [], 'symbols': [], 'user_mentions': [{'screen_name': 'akshaykumar', 'name': 'Akshay Kumar', 'id': 31348594, 'id_str': '31348594', 'indices': [10, 22]}], 'urls': [{'url': 'https://t.co/gDQ4pYI4rN', 'expanded_url': 'https://twitter.com/i/web/status/1112575845606936576', 'display_url': 'twitter.com/i/web/status/1…', 'indices': [117, 140]}]}, 'source': '<a href=\"http://twitter.com/download/iphone\" rel=\"nofollow\">Twitter for iPhone</a>', 'in_reply_to_status_id': None, 'in_reply_to_status_id_str': None, 'in_reply_to_user_id': None, 'in_reply_to_user_id_str': None, 'in_reply_to_screen_name': None, 'user': {'id': 3115156098, 'id_str': '3115156098', 'name': 'Praveen Nigam', 'screen_name': 'nigam15073', 'location': 'New Delhi, Delhi', 'description': 'Proud Indian #bornbanarasi', 'url': None, 'entities': {'description': {'urls': []}}, 'protected': False, 'followers_count': 49, 'friends_count': 283, 'listed_count': 0, 'created_at': 'Sun Mar 29 11:33:54 +0000 2015', 'favourites_count': 5427, 'utc_offset': None, 'time_zone': None, 'geo_enabled': False, 'verified': False, 'statuses_count': 748, 'lang': 'en', 'contributors_enabled': False, 'is_translator': False, 'is_translation_enabled': False, 'profile_background_color': 'C0DEED', 'profile_background_image_url': 'http://abs.twimg.com/images/themes/theme1/bg.png', 'profile_background_image_url_https': 'https://abs.twimg.com/images/themes/theme1/bg.png', 'profile_background_tile': False, 'profile_image_url': 'http://pbs.twimg.com/profile_images/974762720431149056/NHc1oVel_normal.jpg', 'profile_image_url_https': 'https://pbs.twimg.com/profile_images/974762720431149056/NHc1oVel_normal.jpg', 'profile_banner_url': 'https://pbs.twimg.com/profile_banners/3115156098/1505372259', 'profile_link_color': '1DA1F2', 'profile_sidebar_border_color': 'C0DEED', 'profile_sidebar_fill_color': 'DDEEF6', 'profile_text_color': '333333', 'profile_use_background_image': True, 'has_extended_profile': True, 'default_profile': True, 'default_profile_image': False, 'following': False, 'follow_request_sent': False, 'notifications': False, 'translator_type': 'none'}, 'geo': None, 'coordinates': None, 'place': None, 'contributors': None, 'is_quote_status': False, 'retweet_count': 236, 'favorite_count': 2527, 'favorited': False, 'retweeted': False, 'possibly_sensitive': False, 'lang': 'en'}, created_at=datetime.datetime(2019, 4, 1, 4, 42, 6), id=1112575845606936576, id_str='1112575845606936576', text='Thank you @akshaykumar sir for inspiring our nation by a film 🎥 I just watch this picture and feel proud 🙏 thank yo… https://t.co/gDQ4pYI4rN', truncated=True, entities={'hashtags': [], 'symbols': [], 'user_mentions': [{'screen_name': 'akshaykumar', 'name': 'Akshay Kumar', 'id': 31348594, 'id_str': '31348594', 'indices': [10, 22]}], 'urls': [{'url': 'https://t.co/gDQ4pYI4rN', 'expanded_url': 'https://twitter.com/i/web/status/1112575845606936576', 'display_url': 'twitter.com/i/web/status/1…', 'indices': [117, 140]}]}, source='Twitter for iPhone', source_url='http://twitter.com/download/iphone', in_reply_to_status_id=None, in_reply_to_status_id_str=None, in_reply_to_user_id=None, in_reply_to_user_id_str=None, in_reply_to_screen_name=None, author=User(_api=<tweepy.api.API object at 0x0000021CD84DD6A0>, _json={'id': 3115156098, 'id_str': '3115156098', 'name': 'Praveen Nigam', 'screen_name': 'nigam15073', 'location': 'New Delhi, Delhi', 'description': 'Proud Indian #bornbanarasi', 'url': None, 'entities': {'description': {'urls': []}}, 'protected': False, 'followers_count': 49, 'friends_count': 283, 'listed_count': 0, 'created_at': 'Sun Mar 29 11:33:54 +0000 2015', 'favourites_count': 5427, 'utc_offset': None, 'time_zone': None, 'geo_enabled': False, 'verified': False, 'statuses_count': 748, 'lang': 'en', 'contributors_enabled': False, 'is_translator': False, 'is_translation_enabled': False, 'profile_background_color': 'C0DEED', 'profile_background_image_url': 'http://abs.twimg.com/images/themes/theme1/bg.png', 'profile_background_image_url_https': 'https://abs.twimg.com/images/themes/theme1/bg.png', 'profile_background_tile': False, 'profile_image_url': 'http://pbs.twimg.com/profile_images/974762720431149056/NHc1oVel_normal.jpg', 'profile_image_url_https': 'https://pbs.twimg.com/profile_images/974762720431149056/NHc1oVel_normal.jpg', 'profile_banner_url': 'https://pbs.twimg.com/profile_banners/3115156098/1505372259', 'profile_link_color': '1DA1F2', 'profile_sidebar_border_color': 'C0DEED', 'profile_sidebar_fill_color': 'DDEEF6', 'profile_text_color': '333333', 'profile_use_background_image': True, 'has_extended_profile': True, 'default_profile': True, 'default_profile_image': False, 'following': False, 'follow_request_sent': False, 'notifications': False, 'translator_type': 'none'}, id=3115156098, id_str='3115156098', name='Praveen Nigam', screen_name='nigam15073', location='New Delhi, Delhi', description='Proud Indian #bornbanarasi', url=None, entities={'description': {'urls': []}}, protected=False, followers_count=49, friends_count=283, listed_count=0, created_at=datetime.datetime(2015, 3, 29, 11, 33, 54), favourites_count=5427, utc_offset=None, time_zone=None, geo_enabled=False, verified=False, statuses_count=748, lang='en', contributors_enabled=False, is_translator=False, is_translation_enabled=False, profile_background_color='C0DEED', profile_background_image_url='http://abs.twimg.com/images/themes/theme1/bg.png', profile_background_image_url_https='https://abs.twimg.com/images/themes/theme1/bg.png', profile_background_tile=False, profile_image_url='http://pbs.twimg.com/profile_images/974762720431149056/NHc1oVel_normal.jpg', profile_image_url_https='https://pbs.twimg.com/profile_images/974762720431149056/NHc1oVel_normal.jpg', profile_banner_url='https://pbs.twimg.com/profile_banners/3115156098/1505372259', profile_link_color='1DA1F2', profile_sidebar_border_color='C0DEED', profile_sidebar_fill_color='DDEEF6', profile_text_color='333333', profile_use_background_image=True, has_extended_profile=True, default_profile=True, default_profile_image=False, following=False, follow_request_sent=False, notifications=False, translator_type='none'), user=User(_api=<tweepy.api.API object at 0x0000021CD84DD6A0>, _json={'id': 3115156098, 'id_str': '3115156098', 'name': 'Praveen Nigam', 'screen_name': 'nigam15073', 'location': 'New Delhi, Delhi', 'description': 'Proud Indian #bornbanarasi', 'url': None, 'entities': {'description': {'urls': []}}, 'protected': False, 'followers_count': 49, 'friends_count': 283, 'listed_count': 0, 'created_at': 'Sun Mar 29 11:33:54 +0000 2015', 'favourites_count': 5427, 'utc_offset': None, 'time_zone': None, 'geo_enabled': False, 'verified': False, 'statuses_count': 748, 'lang': 'en', 'contributors_enabled': False, 'is_translator': False, 'is_translation_enabled': False, 'profile_background_color': 'C0DEED', 'profile_background_image_url': 'http://abs.twimg.com/images/themes/theme1/bg.png', 'profile_background_image_url_https': 'https://abs.twimg.com/images/themes/theme1/bg.png', 'profile_background_tile': False, 'profile_image_url': 'http://pbs.twimg.com/profile_images/974762720431149056/NHc1oVel_normal.jpg', 'profile_image_url_https': 'https://pbs.twimg.com/profile_images/974762720431149056/NHc1oVel_normal.jpg', 'profile_banner_url': 'https://pbs.twimg.com/profile_banners/3115156098/1505372259', 'profile_link_color': '1DA1F2', 'profile_sidebar_border_color': 'C0DEED', 'profile_sidebar_fill_color': 'DDEEF6', 'profile_text_color': '333333', 'profile_use_background_image': True, 'has_extended_profile': True, 'default_profile': True, 'default_profile_image': False, 'following': False, 'follow_request_sent': False, 'notifications': False, 'translator_type': 'none'}, id=3115156098, id_str='3115156098', name='Praveen Nigam', screen_name='nigam15073', location='New Delhi, Delhi', description='Proud Indian #bornbanarasi', url=None, entities={'description': {'urls': []}}, protected=False, followers_count=49, friends_count=283, listed_count=0, created_at=datetime.datetime(2015, 3, 29, 11, 33, 54), favourites_count=5427, utc_offset=None, time_zone=None, geo_enabled=False, verified=False, statuses_count=748, lang='en', contributors_enabled=False, is_translator=False, is_translation_enabled=False, profile_background_color='C0DEED', profile_background_image_url='http://abs.twimg.com/images/themes/theme1/bg.png', profile_background_image_url_https='https://abs.twimg.com/images/themes/theme1/bg.png', profile_background_tile=False, profile_image_url='http://pbs.twimg.com/profile_images/974762720431149056/NHc1oVel_normal.jpg', profile_image_url_https='https://pbs.twimg.com/profile_images/974762720431149056/NHc1oVel_normal.jpg', profile_banner_url='https://pbs.twimg.com/profile_banners/3115156098/1505372259', profile_link_color='1DA1F2', profile_sidebar_border_color='C0DEED', profile_sidebar_fill_color='DDEEF6', profile_text_color='333333', profile_use_background_image=True, has_extended_profile=True, default_profile=True, default_profile_image=False, following=False, follow_request_sent=False, notifications=False, translator_type='none'), geo=None, coordinates=None, place=None, contributors=None, is_quote_status=False, retweet_count=236, favorite_count=2527, favorited=False, retweeted=False, possibly_sensitive=False, lang='en'), retweet_count=604, favorite_count=6568, favorited=False, retweeted=False, possibly_sensitive=False, lang='en')"
      ]
     },
     "execution_count": 22,
     "metadata": {},
     "output_type": "execute_result"
    }
   ],
   "source": [
    "modi_tweets[0]."
   ]
  },
  {
   "cell_type": "code",
   "execution_count": 24,
   "metadata": {},
   "outputs": [],
   "source": [
    "import pandas as pd"
   ]
  },
  {
   "cell_type": "code",
   "execution_count": 25,
   "metadata": {},
   "outputs": [],
   "source": [
    "akshay_tweet = pd.DataFrame()\n",
    "\n",
    "for tweet in modi_tweets:\n",
    "    curr_tweet = {\"text\":tweet.text, \"likes\":tweet.favorite_count, \"retweets\":tweet.retweet_count,\n",
    "                 \"created_at\":tweet.created_at, \"source\":tweet.source}\n",
    "    akshay_tweet = akshay_tweet.append(curr_tweet, ignore_index=True)"
   ]
  },
  {
   "cell_type": "code",
   "execution_count": 27,
   "metadata": {},
   "outputs": [
    {
     "data": {
      "text/html": [
       "<div>\n",
       "<style scoped>\n",
       "    .dataframe tbody tr th:only-of-type {\n",
       "        vertical-align: middle;\n",
       "    }\n",
       "\n",
       "    .dataframe tbody tr th {\n",
       "        vertical-align: top;\n",
       "    }\n",
       "\n",
       "    .dataframe thead th {\n",
       "        text-align: right;\n",
       "    }\n",
       "</style>\n",
       "<table border=\"1\" class=\"dataframe\">\n",
       "  <thead>\n",
       "    <tr style=\"text-align: right;\">\n",
       "      <th></th>\n",
       "      <th>created_at</th>\n",
       "      <th>likes</th>\n",
       "      <th>retweets</th>\n",
       "      <th>source</th>\n",
       "      <th>text</th>\n",
       "    </tr>\n",
       "  </thead>\n",
       "  <tbody>\n",
       "    <tr>\n",
       "      <th>0</th>\n",
       "      <td>2019-04-01 06:06:55</td>\n",
       "      <td>6568.0</td>\n",
       "      <td>604.0</td>\n",
       "      <td>Twitter for iPhone</td>\n",
       "      <td>Changes like these make you feel it’s all wort...</td>\n",
       "    </tr>\n",
       "    <tr>\n",
       "      <th>1</th>\n",
       "      <td>2019-04-01 04:47:09</td>\n",
       "      <td>25969.0</td>\n",
       "      <td>2138.0</td>\n",
       "      <td>Twitter Media Studio</td>\n",
       "      <td>It’s always a good idea to start young, their ...</td>\n",
       "    </tr>\n",
       "    <tr>\n",
       "      <th>2</th>\n",
       "      <td>2019-03-30 10:38:17</td>\n",
       "      <td>16156.0</td>\n",
       "      <td>1565.0</td>\n",
       "      <td>Twitter for iPhone</td>\n",
       "      <td>I am a proud participant of Earth Hour, are yo...</td>\n",
       "    </tr>\n",
       "    <tr>\n",
       "      <th>3</th>\n",
       "      <td>2019-03-28 13:56:48</td>\n",
       "      <td>19464.0</td>\n",
       "      <td>1017.0</td>\n",
       "      <td>Twitter for iPhone</td>\n",
       "      <td>😁🙏🏻 https://t.co/08cg0LfEV7</td>\n",
       "    </tr>\n",
       "    <tr>\n",
       "      <th>4</th>\n",
       "      <td>2019-03-28 08:35:34</td>\n",
       "      <td>16153.0</td>\n",
       "      <td>1372.0</td>\n",
       "      <td>Twitter for iPhone</td>\n",
       "      <td>It's been overwhelming, this journey of #Kesar...</td>\n",
       "    </tr>\n",
       "  </tbody>\n",
       "</table>\n",
       "</div>"
      ],
      "text/plain": [
       "           created_at    likes  retweets                source  \\\n",
       "0 2019-04-01 06:06:55   6568.0     604.0    Twitter for iPhone   \n",
       "1 2019-04-01 04:47:09  25969.0    2138.0  Twitter Media Studio   \n",
       "2 2019-03-30 10:38:17  16156.0    1565.0    Twitter for iPhone   \n",
       "3 2019-03-28 13:56:48  19464.0    1017.0    Twitter for iPhone   \n",
       "4 2019-03-28 08:35:34  16153.0    1372.0    Twitter for iPhone   \n",
       "\n",
       "                                                text  \n",
       "0  Changes like these make you feel it’s all wort...  \n",
       "1  It’s always a good idea to start young, their ...  \n",
       "2  I am a proud participant of Earth Hour, are yo...  \n",
       "3                        😁🙏🏻 https://t.co/08cg0LfEV7  \n",
       "4  It's been overwhelming, this journey of #Kesar...  "
      ]
     },
     "execution_count": 27,
     "metadata": {},
     "output_type": "execute_result"
    }
   ],
   "source": [
    "akshay_tweet.head()"
   ]
  },
  {
   "cell_type": "code",
   "execution_count": 38,
   "metadata": {},
   "outputs": [
    {
     "data": {
      "text/plain": [
       "0      2019\n",
       "1      2019\n",
       "2      2019\n",
       "3      2019\n",
       "4      2019\n",
       "5      2019\n",
       "6      2019\n",
       "7      2019\n",
       "8      2019\n",
       "9      2019\n",
       "10     2019\n",
       "11     2019\n",
       "12     2019\n",
       "13     2019\n",
       "14     2019\n",
       "15     2019\n",
       "16     2019\n",
       "17     2019\n",
       "18     2019\n",
       "19     2019\n",
       "20     2019\n",
       "21     2019\n",
       "22     2019\n",
       "23     2019\n",
       "24     2019\n",
       "25     2019\n",
       "26     2019\n",
       "27     2019\n",
       "28     2019\n",
       "29     2019\n",
       "       ... \n",
       "170    2019\n",
       "171    2019\n",
       "172    2019\n",
       "173    2019\n",
       "174    2019\n",
       "175    2019\n",
       "176    2019\n",
       "177    2019\n",
       "178    2019\n",
       "179    2019\n",
       "180    2019\n",
       "181    2019\n",
       "182    2019\n",
       "183    2019\n",
       "184    2019\n",
       "185    2019\n",
       "186    2019\n",
       "187    2019\n",
       "188    2019\n",
       "189    2019\n",
       "190    2019\n",
       "191    2018\n",
       "192    2018\n",
       "193    2018\n",
       "194    2018\n",
       "195    2018\n",
       "196    2018\n",
       "197    2018\n",
       "198    2018\n",
       "199    2018\n",
       "Name: created_at, Length: 200, dtype: int64"
      ]
     },
     "execution_count": 38,
     "metadata": {},
     "output_type": "execute_result"
    }
   ],
   "source": [
    "akshay_tweet.created_at.dt."
   ]
  },
  {
   "cell_type": "code",
   "execution_count": null,
   "metadata": {},
   "outputs": [],
   "source": []
  }
 ],
 "metadata": {
  "kernelspec": {
   "display_name": "Python 3",
   "language": "python",
   "name": "python3"
  },
  "language_info": {
   "codemirror_mode": {
    "name": "ipython",
    "version": 3
   },
   "file_extension": ".py",
   "mimetype": "text/x-python",
   "name": "python",
   "nbconvert_exporter": "python",
   "pygments_lexer": "ipython3",
   "version": "3.7.1"
  }
 },
 "nbformat": 4,
 "nbformat_minor": 2
}
