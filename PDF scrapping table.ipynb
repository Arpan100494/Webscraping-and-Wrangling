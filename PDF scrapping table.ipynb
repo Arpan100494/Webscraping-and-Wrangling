{
 "cells": [
  {
   "cell_type": "markdown",
   "metadata": {},
   "source": [
    "PDF scrapping : Extract the Pages with Tables using PyPDF2 and PDFTables"
   ]
  },
  {
   "cell_type": "code",
   "execution_count": null,
   "metadata": {},
   "outputs": [],
   "source": [
    "import PyPDF2\n",
    "\n",
    "PDFfilename = r\"C:\\Users\\amitc\\Desktop\\c2010br-04.pdf\" \n",
    "\n",
    "# Creating a PdfFileReader object\n",
    " \n",
    "pfr = PyPDF2.PdfFileReader(open(PDFfilename, \"rb\")) "
   ]
  },
  {
   "cell_type": "code",
   "execution_count": null,
   "metadata": {},
   "outputs": [],
   "source": [
    "# Seprating the page of PDF file \n",
    "\n",
    "#  #extract pg 2\n",
    "\n",
    "pg3 = pfr.getPage(2)\n",
    "\n",
    "#create PdfFileWriter object\n",
    "\n",
    "writer = PyPDF2.PdfFileWriter() \n",
    " \n",
    "#add pages\n",
    "writer.addPage(pg3)\n",
    " \n",
    "#filename of your PDF/directory where you want your new PDF to be\n",
    "NewPDFfilename = r\"C:\\Users\\amitc\\Desktop\\tables.pdf\" \n",
    " \n",
    "#create new PDF\n",
    "\n",
    "with open(NewPDFfilename, \"wb\") as outputStream: \n",
    "    writer.write(outputStream) #write pages to new PDF"
   ]
  },
  {
   "cell_type": "code",
   "execution_count": null,
   "metadata": {},
   "outputs": [],
   "source": [
    "# Now importing the table from new PDF file as DF\n",
    "\n",
    "import pandas as pd\n",
    "import tabula\n",
    "\n",
    "file = r\"C:\\Users\\amitc\\Desktop\\tables.pdf\"\n",
    "\n",
    "df = tabula.read_pdf(file, pages = '1', multiple_tables = True)\n",
    "\n",
    "print(df)\n",
    "\n",
    "\n",
    "\n"
   ]
  },
  {
   "cell_type": "code",
   "execution_count": null,
   "metadata": {},
   "outputs": [],
   "source": [
    "!pip uninstall tabula\n",
    "\n"
   ]
  }
 ],
 "metadata": {
  "kernelspec": {
   "display_name": "Python 3",
   "language": "python",
   "name": "python3"
  },
  "language_info": {
   "codemirror_mode": {
    "name": "ipython",
    "version": 3
   },
   "file_extension": ".py",
   "mimetype": "text/x-python",
   "name": "python",
   "nbconvert_exporter": "python",
   "pygments_lexer": "ipython3",
   "version": "3.7.1"
  }
 },
 "nbformat": 4,
 "nbformat_minor": 2
}
