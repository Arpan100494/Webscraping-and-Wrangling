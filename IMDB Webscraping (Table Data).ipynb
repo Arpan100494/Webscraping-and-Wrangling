{
 "cells": [
  {
   "cell_type": "markdown",
   "metadata": {},
   "source": [
    "# extract table data"
   ]
  },
  {
   "cell_type": "code",
   "execution_count": 15,
   "metadata": {},
   "outputs": [],
   "source": [
    "import pandas as pd\n",
    "import numpy as np\n",
    "from selenium import webdriver"
   ]
  },
  {
   "cell_type": "code",
   "execution_count": 48,
   "metadata": {},
   "outputs": [],
   "source": [
    "browser = webdriver.Chrome(\"chromedriver.exe\")"
   ]
  },
  {
   "cell_type": "code",
   "execution_count": 49,
   "metadata": {},
   "outputs": [],
   "source": [
    "url = \"https://www.imdb.com/india/top-rated-indian-movies/?ref_=nv_mv_250_in\"\n",
    "browser.get(url)"
   ]
  },
  {
   "cell_type": "code",
   "execution_count": 50,
   "metadata": {},
   "outputs": [
    {
     "data": {
      "text/plain": [
       "2"
      ]
     },
     "execution_count": 50,
     "metadata": {},
     "output_type": "execute_result"
    }
   ],
   "source": [
    "table = pd.read_html(url)\n",
    "len(table)"
   ]
  },
  {
   "cell_type": "code",
   "execution_count": 23,
   "metadata": {},
   "outputs": [
    {
     "data": {
      "text/html": [
       "<div>\n",
       "<style scoped>\n",
       "    .dataframe tbody tr th:only-of-type {\n",
       "        vertical-align: middle;\n",
       "    }\n",
       "\n",
       "    .dataframe tbody tr th {\n",
       "        vertical-align: top;\n",
       "    }\n",
       "\n",
       "    .dataframe thead th {\n",
       "        text-align: right;\n",
       "    }\n",
       "</style>\n",
       "<table border=\"1\" class=\"dataframe\">\n",
       "  <thead>\n",
       "    <tr style=\"text-align: right;\">\n",
       "      <th></th>\n",
       "      <th>Unnamed: 0</th>\n",
       "      <th>Rank &amp; Title</th>\n",
       "      <th>IMDb Rating</th>\n",
       "      <th>Your Rating</th>\n",
       "      <th>Unnamed: 4</th>\n",
       "    </tr>\n",
       "  </thead>\n",
       "  <tbody>\n",
       "    <tr>\n",
       "      <th>0</th>\n",
       "      <td>NaN</td>\n",
       "      <td>1.  Anand  (1971)</td>\n",
       "      <td>8.7</td>\n",
       "      <td>12345678910 NOT YET RELEASED  Seen</td>\n",
       "      <td>NaN</td>\n",
       "    </tr>\n",
       "    <tr>\n",
       "      <th>1</th>\n",
       "      <td>NaN</td>\n",
       "      <td>2.  Drishyam  (2013)</td>\n",
       "      <td>8.6</td>\n",
       "      <td>12345678910 NOT YET RELEASED  Seen</td>\n",
       "      <td>NaN</td>\n",
       "    </tr>\n",
       "    <tr>\n",
       "      <th>2</th>\n",
       "      <td>NaN</td>\n",
       "      <td>3.  Nayakan  (1987)</td>\n",
       "      <td>8.6</td>\n",
       "      <td>12345678910 NOT YET RELEASED  Seen</td>\n",
       "      <td>NaN</td>\n",
       "    </tr>\n",
       "    <tr>\n",
       "      <th>3</th>\n",
       "      <td>NaN</td>\n",
       "      <td>4.  Anbe Sivam  (2003)</td>\n",
       "      <td>8.5</td>\n",
       "      <td>12345678910 NOT YET RELEASED  Seen</td>\n",
       "      <td>NaN</td>\n",
       "    </tr>\n",
       "    <tr>\n",
       "      <th>4</th>\n",
       "      <td>NaN</td>\n",
       "      <td>5.  Gol Maal  (1979)</td>\n",
       "      <td>8.5</td>\n",
       "      <td>12345678910 NOT YET RELEASED  Seen</td>\n",
       "      <td>NaN</td>\n",
       "    </tr>\n",
       "  </tbody>\n",
       "</table>\n",
       "</div>"
      ],
      "text/plain": [
       "   Unnamed: 0            Rank & Title  IMDb Rating  \\\n",
       "0         NaN       1.  Anand  (1971)          8.7   \n",
       "1         NaN    2.  Drishyam  (2013)          8.6   \n",
       "2         NaN     3.  Nayakan  (1987)          8.6   \n",
       "3         NaN  4.  Anbe Sivam  (2003)          8.5   \n",
       "4         NaN    5.  Gol Maal  (1979)          8.5   \n",
       "\n",
       "                          Your Rating  Unnamed: 4  \n",
       "0  12345678910 NOT YET RELEASED  Seen         NaN  \n",
       "1  12345678910 NOT YET RELEASED  Seen         NaN  \n",
       "2  12345678910 NOT YET RELEASED  Seen         NaN  \n",
       "3  12345678910 NOT YET RELEASED  Seen         NaN  \n",
       "4  12345678910 NOT YET RELEASED  Seen         NaN  "
      ]
     },
     "execution_count": 23,
     "metadata": {},
     "output_type": "execute_result"
    }
   ],
   "source": [
    "movies = table[0]\n",
    "movies.head()"
   ]
  },
  {
   "cell_type": "code",
   "execution_count": 25,
   "metadata": {},
   "outputs": [],
   "source": [
    "#movies.drop(['Unnamed: 0','Unnamed: 4'],axis=1,inplace=True)#removing first and last columns"
   ]
  },
  {
   "cell_type": "code",
   "execution_count": 26,
   "metadata": {},
   "outputs": [
    {
     "data": {
      "text/html": [
       "<div>\n",
       "<style scoped>\n",
       "    .dataframe tbody tr th:only-of-type {\n",
       "        vertical-align: middle;\n",
       "    }\n",
       "\n",
       "    .dataframe tbody tr th {\n",
       "        vertical-align: top;\n",
       "    }\n",
       "\n",
       "    .dataframe thead th {\n",
       "        text-align: right;\n",
       "    }\n",
       "</style>\n",
       "<table border=\"1\" class=\"dataframe\">\n",
       "  <thead>\n",
       "    <tr style=\"text-align: right;\">\n",
       "      <th></th>\n",
       "      <th>Rank &amp; Title</th>\n",
       "      <th>IMDb Rating</th>\n",
       "      <th>Your Rating</th>\n",
       "    </tr>\n",
       "  </thead>\n",
       "  <tbody>\n",
       "    <tr>\n",
       "      <th>0</th>\n",
       "      <td>1.  Anand  (1971)</td>\n",
       "      <td>8.7</td>\n",
       "      <td>12345678910 NOT YET RELEASED  Seen</td>\n",
       "    </tr>\n",
       "    <tr>\n",
       "      <th>1</th>\n",
       "      <td>2.  Drishyam  (2013)</td>\n",
       "      <td>8.6</td>\n",
       "      <td>12345678910 NOT YET RELEASED  Seen</td>\n",
       "    </tr>\n",
       "    <tr>\n",
       "      <th>2</th>\n",
       "      <td>3.  Nayakan  (1987)</td>\n",
       "      <td>8.6</td>\n",
       "      <td>12345678910 NOT YET RELEASED  Seen</td>\n",
       "    </tr>\n",
       "    <tr>\n",
       "      <th>3</th>\n",
       "      <td>4.  Anbe Sivam  (2003)</td>\n",
       "      <td>8.5</td>\n",
       "      <td>12345678910 NOT YET RELEASED  Seen</td>\n",
       "    </tr>\n",
       "    <tr>\n",
       "      <th>4</th>\n",
       "      <td>5.  Gol Maal  (1979)</td>\n",
       "      <td>8.5</td>\n",
       "      <td>12345678910 NOT YET RELEASED  Seen</td>\n",
       "    </tr>\n",
       "  </tbody>\n",
       "</table>\n",
       "</div>"
      ],
      "text/plain": [
       "             Rank & Title  IMDb Rating                         Your Rating\n",
       "0       1.  Anand  (1971)          8.7  12345678910 NOT YET RELEASED  Seen\n",
       "1    2.  Drishyam  (2013)          8.6  12345678910 NOT YET RELEASED  Seen\n",
       "2     3.  Nayakan  (1987)          8.6  12345678910 NOT YET RELEASED  Seen\n",
       "3  4.  Anbe Sivam  (2003)          8.5  12345678910 NOT YET RELEASED  Seen\n",
       "4    5.  Gol Maal  (1979)          8.5  12345678910 NOT YET RELEASED  Seen"
      ]
     },
     "execution_count": 26,
     "metadata": {},
     "output_type": "execute_result"
    }
   ],
   "source": [
    "movies.head()"
   ]
  },
  {
   "cell_type": "markdown",
   "metadata": {},
   "source": [
    "# Method 2:using Selenium"
   ]
  },
  {
   "cell_type": "code",
   "execution_count": 51,
   "metadata": {},
   "outputs": [
    {
     "data": {
      "text/plain": [
       "<selenium.webdriver.remote.webelement.WebElement (session=\"bdfe7232bc383bd2e916f7980c6260ef\", element=\"0.8774644237397615-1\")>"
      ]
     },
     "execution_count": 51,
     "metadata": {},
     "output_type": "execute_result"
    }
   ],
   "source": [
    "#other ways to open the data\n",
    "table_tag = browser.find_element_by_css_selector('table.full-width[data-caller-name=\"imdb-featured-india\"]')\n",
    "table_tag"
   ]
  },
  {
   "cell_type": "code",
   "execution_count": 52,
   "metadata": {},
   "outputs": [
    {
     "data": {
      "text/plain": [
       "5"
      ]
     },
     "execution_count": 52,
     "metadata": {},
     "output_type": "execute_result"
    }
   ],
   "source": [
    "thead = table_tag.find_element_by_css_selector(\"thead\")\n",
    "tr = thead.find_element_by_css_selector(\"tr\")\n",
    "th_tags = tr.find_elements_by_css_selector(\"th\")\n",
    "len(th_tags)"
   ]
  },
  {
   "cell_type": "code",
   "execution_count": 53,
   "metadata": {},
   "outputs": [
    {
     "data": {
      "text/plain": [
       "['', 'Rank & Title', 'IMDb Rating', 'Your Rating', '']"
      ]
     },
     "execution_count": 53,
     "metadata": {},
     "output_type": "execute_result"
    }
   ],
   "source": [
    "col_names = [th.text for th in th_tags]\n",
    "col_names"
   ]
  },
  {
   "cell_type": "code",
   "execution_count": 30,
   "metadata": {},
   "outputs": [
    {
     "data": {
      "text/plain": [
       "5"
      ]
     },
     "execution_count": 30,
     "metadata": {},
     "output_type": "execute_result"
    }
   ],
   "source": [
    "#th_tag = table_tag.find_elements_by_css_selector(\"thead>tr>th\")\n",
    "#len(th_tag)"
   ]
  },
  {
   "cell_type": "code",
   "execution_count": null,
   "metadata": {},
   "outputs": [],
   "source": [
    "#thead-for columns\n",
    "#tbody contains text\n",
    "#within tbody there is tr tag which represent a row\n",
    "#th is table column"
   ]
  },
  {
   "cell_type": "markdown",
   "metadata": {},
   "source": [
    "# Getting Data"
   ]
  },
  {
   "cell_type": "code",
   "execution_count": 55,
   "metadata": {},
   "outputs": [
    {
     "data": {
      "text/plain": [
       "250"
      ]
     },
     "execution_count": 55,
     "metadata": {},
     "output_type": "execute_result"
    }
   ],
   "source": [
    "\n",
    "col_names[0]=\"Poster\"\n",
    "col_names[-1]=\"Watchlist\"\n",
    "imdb = pd.DataFrame(columns=col_names)\n",
    "tr_tags = table_tag.find_elements_by_css_selector(\"tbody>tr\")#total 250 rows are there\n",
    "len(tr_tags)"
   ]
  },
  {
   "cell_type": "code",
   "execution_count": 44,
   "metadata": {},
   "outputs": [],
   "source": [
    "\n",
    "for tr in tr_tags:\n",
    "    td_tags = tr.find_elements_by_css_selector(\"td\")\n",
    "    td_data = [td.text for td in td_tags]\n",
    "    row_series = pd.Series(td_data,index=col_names)\n",
    "    imdb = imdb.append(row_series,ignore_index=True)\n",
    "    "
   ]
  },
  {
   "cell_type": "code",
   "execution_count": 45,
   "metadata": {},
   "outputs": [
    {
     "data": {
      "text/html": [
       "<div>\n",
       "<style scoped>\n",
       "    .dataframe tbody tr th:only-of-type {\n",
       "        vertical-align: middle;\n",
       "    }\n",
       "\n",
       "    .dataframe tbody tr th {\n",
       "        vertical-align: top;\n",
       "    }\n",
       "\n",
       "    .dataframe thead th {\n",
       "        text-align: right;\n",
       "    }\n",
       "</style>\n",
       "<table border=\"1\" class=\"dataframe\">\n",
       "  <thead>\n",
       "    <tr style=\"text-align: right;\">\n",
       "      <th></th>\n",
       "      <th>Poster</th>\n",
       "      <th>Rank &amp; Title</th>\n",
       "      <th>IMDb Rating</th>\n",
       "      <th>Your Rating</th>\n",
       "      <th>Watchlist</th>\n",
       "    </tr>\n",
       "  </thead>\n",
       "  <tbody>\n",
       "    <tr>\n",
       "      <th>0</th>\n",
       "      <td></td>\n",
       "      <td>1. Anand (1971)</td>\n",
       "      <td>8.7</td>\n",
       "      <td></td>\n",
       "      <td></td>\n",
       "    </tr>\n",
       "    <tr>\n",
       "      <th>1</th>\n",
       "      <td></td>\n",
       "      <td>2. Drishyam (2013)</td>\n",
       "      <td>8.6</td>\n",
       "      <td></td>\n",
       "      <td></td>\n",
       "    </tr>\n",
       "    <tr>\n",
       "      <th>2</th>\n",
       "      <td></td>\n",
       "      <td>3. Nayakan (1987)</td>\n",
       "      <td>8.6</td>\n",
       "      <td></td>\n",
       "      <td></td>\n",
       "    </tr>\n",
       "    <tr>\n",
       "      <th>3</th>\n",
       "      <td></td>\n",
       "      <td>4. Anbe Sivam (2003)</td>\n",
       "      <td>8.5</td>\n",
       "      <td></td>\n",
       "      <td></td>\n",
       "    </tr>\n",
       "    <tr>\n",
       "      <th>4</th>\n",
       "      <td></td>\n",
       "      <td>5. Gol Maal (1979)</td>\n",
       "      <td>8.5</td>\n",
       "      <td></td>\n",
       "      <td></td>\n",
       "    </tr>\n",
       "  </tbody>\n",
       "</table>\n",
       "</div>"
      ],
      "text/plain": [
       "  Poster          Rank & Title IMDb Rating Your Rating Watchlist\n",
       "0              1. Anand (1971)         8.7                      \n",
       "1           2. Drishyam (2013)         8.6                      \n",
       "2            3. Nayakan (1987)         8.6                      \n",
       "3         4. Anbe Sivam (2003)         8.5                      \n",
       "4           5. Gol Maal (1979)         8.5                      "
      ]
     },
     "execution_count": 45,
     "metadata": {},
     "output_type": "execute_result"
    }
   ],
   "source": [
    "imdb.head()"
   ]
  },
  {
   "cell_type": "code",
   "execution_count": 41,
   "metadata": {},
   "outputs": [],
   "source": [
    "#`imdb.drop([\"Your Rating\",\"Watchlist\"],axis=1,inplace=True)"
   ]
  },
  {
   "cell_type": "code",
   "execution_count": 42,
   "metadata": {},
   "outputs": [
    {
     "data": {
      "text/html": [
       "<div>\n",
       "<style scoped>\n",
       "    .dataframe tbody tr th:only-of-type {\n",
       "        vertical-align: middle;\n",
       "    }\n",
       "\n",
       "    .dataframe tbody tr th {\n",
       "        vertical-align: top;\n",
       "    }\n",
       "\n",
       "    .dataframe thead th {\n",
       "        text-align: right;\n",
       "    }\n",
       "</style>\n",
       "<table border=\"1\" class=\"dataframe\">\n",
       "  <thead>\n",
       "    <tr style=\"text-align: right;\">\n",
       "      <th></th>\n",
       "      <th>Poster</th>\n",
       "      <th>Rank &amp; Title</th>\n",
       "      <th>IMDb Rating</th>\n",
       "    </tr>\n",
       "  </thead>\n",
       "  <tbody>\n",
       "    <tr>\n",
       "      <th>0</th>\n",
       "      <td></td>\n",
       "      <td>1. Anand (1971)</td>\n",
       "      <td>8.7</td>\n",
       "    </tr>\n",
       "    <tr>\n",
       "      <th>1</th>\n",
       "      <td></td>\n",
       "      <td>2. Drishyam (2013)</td>\n",
       "      <td>8.6</td>\n",
       "    </tr>\n",
       "    <tr>\n",
       "      <th>2</th>\n",
       "      <td></td>\n",
       "      <td>1. Anand (1971)</td>\n",
       "      <td>8.7</td>\n",
       "    </tr>\n",
       "    <tr>\n",
       "      <th>3</th>\n",
       "      <td></td>\n",
       "      <td>2. Drishyam (2013)</td>\n",
       "      <td>8.6</td>\n",
       "    </tr>\n",
       "    <tr>\n",
       "      <th>4</th>\n",
       "      <td></td>\n",
       "      <td>3. Nayakan (1987)</td>\n",
       "      <td>8.6</td>\n",
       "    </tr>\n",
       "  </tbody>\n",
       "</table>\n",
       "</div>"
      ],
      "text/plain": [
       "  Poster        Rank & Title IMDb Rating\n",
       "0            1. Anand (1971)         8.7\n",
       "1         2. Drishyam (2013)         8.6\n",
       "2            1. Anand (1971)         8.7\n",
       "3         2. Drishyam (2013)         8.6\n",
       "4          3. Nayakan (1987)         8.6"
      ]
     },
     "execution_count": 42,
     "metadata": {},
     "output_type": "execute_result"
    }
   ],
   "source": [
    "imdb.head()"
   ]
  },
  {
   "cell_type": "code",
   "execution_count": 56,
   "metadata": {},
   "outputs": [],
   "source": [
    "for tr in tr_tags:\n",
    "    td_tags = tr.find_elements_by_css_selector(\"td\")\n",
    "    td_data = [td.text for td in td_tags]\n",
    "    td_img_first = td_tags[0].find_element_by_css_selector(\"img\").get_attribute(\"src\")#getting the image url\n",
    "    td_data[0] = td_img_first\n",
    "    row_series = pd.Series(td_data,index=col_names)\n",
    "    imdb = imdb.append(row_series,ignore_index=True)\n",
    "    "
   ]
  },
  {
   "cell_type": "code",
   "execution_count": 57,
   "metadata": {},
   "outputs": [
    {
     "data": {
      "text/html": [
       "<div>\n",
       "<style scoped>\n",
       "    .dataframe tbody tr th:only-of-type {\n",
       "        vertical-align: middle;\n",
       "    }\n",
       "\n",
       "    .dataframe tbody tr th {\n",
       "        vertical-align: top;\n",
       "    }\n",
       "\n",
       "    .dataframe thead th {\n",
       "        text-align: right;\n",
       "    }\n",
       "</style>\n",
       "<table border=\"1\" class=\"dataframe\">\n",
       "  <thead>\n",
       "    <tr style=\"text-align: right;\">\n",
       "      <th></th>\n",
       "      <th>Poster</th>\n",
       "      <th>Rank &amp; Title</th>\n",
       "      <th>IMDb Rating</th>\n",
       "      <th>Your Rating</th>\n",
       "      <th>Watchlist</th>\n",
       "    </tr>\n",
       "  </thead>\n",
       "  <tbody>\n",
       "    <tr>\n",
       "      <th>0</th>\n",
       "      <td>https://m.media-amazon.com/images/M/MV5BNmZkMT...</td>\n",
       "      <td>1. Anand (1971)</td>\n",
       "      <td>8.7</td>\n",
       "      <td></td>\n",
       "      <td></td>\n",
       "    </tr>\n",
       "    <tr>\n",
       "      <th>1</th>\n",
       "      <td>https://m.media-amazon.com/images/M/MV5BYmY3Mz...</td>\n",
       "      <td>2. Drishyam (2013)</td>\n",
       "      <td>8.6</td>\n",
       "      <td></td>\n",
       "      <td></td>\n",
       "    </tr>\n",
       "    <tr>\n",
       "      <th>2</th>\n",
       "      <td>https://m.media-amazon.com/images/M/MV5BZDhkMT...</td>\n",
       "      <td>3. Nayakan (1987)</td>\n",
       "      <td>8.6</td>\n",
       "      <td></td>\n",
       "      <td></td>\n",
       "    </tr>\n",
       "    <tr>\n",
       "      <th>3</th>\n",
       "      <td>https://m.media-amazon.com/images/M/MV5BNWQxY2...</td>\n",
       "      <td>4. Anbe Sivam (2003)</td>\n",
       "      <td>8.5</td>\n",
       "      <td></td>\n",
       "      <td></td>\n",
       "    </tr>\n",
       "    <tr>\n",
       "      <th>4</th>\n",
       "      <td>https://m.media-amazon.com/images/M/MV5BMjA4OT...</td>\n",
       "      <td>5. Gol Maal (1979)</td>\n",
       "      <td>8.5</td>\n",
       "      <td></td>\n",
       "      <td></td>\n",
       "    </tr>\n",
       "  </tbody>\n",
       "</table>\n",
       "</div>"
      ],
      "text/plain": [
       "                                              Poster          Rank & Title  \\\n",
       "0  https://m.media-amazon.com/images/M/MV5BNmZkMT...       1. Anand (1971)   \n",
       "1  https://m.media-amazon.com/images/M/MV5BYmY3Mz...    2. Drishyam (2013)   \n",
       "2  https://m.media-amazon.com/images/M/MV5BZDhkMT...     3. Nayakan (1987)   \n",
       "3  https://m.media-amazon.com/images/M/MV5BNWQxY2...  4. Anbe Sivam (2003)   \n",
       "4  https://m.media-amazon.com/images/M/MV5BMjA4OT...    5. Gol Maal (1979)   \n",
       "\n",
       "  IMDb Rating Your Rating Watchlist  \n",
       "0         8.7                        \n",
       "1         8.6                        \n",
       "2         8.6                        \n",
       "3         8.5                        \n",
       "4         8.5                        "
      ]
     },
     "execution_count": 57,
     "metadata": {},
     "output_type": "execute_result"
    }
   ],
   "source": [
    "imdb.head()"
   ]
  },
  {
   "cell_type": "code",
   "execution_count": 64,
   "metadata": {},
   "outputs": [],
   "source": [
    "#download all images link\\\n",
    "import urllib\n",
    "img_link = imdb[\"Poster\"][0]\n",
    "img_title = imdb[\"Rank & Title\"][0]\n"
   ]
  },
  {
   "cell_type": "code",
   "execution_count": 67,
   "metadata": {},
   "outputs": [
    {
     "name": "stdout",
     "output_type": "stream",
     "text": [
      "https://m.media-amazon.com/images/M/MV5BNmZkMTMzNmEtMWU5NC00MjEzLWE5MzktYzRlMmQyMzk0YmM1XkEyXkFqcGdeQXVyNTA4NzY1MzY@._V1_UX45_CR0,0,45,67_AL_.jpg 1. Anand (1971)\n"
     ]
    },
    {
     "data": {
      "text/plain": [
       "('1. Anand (1971)', <http.client.HTTPMessage at 0x1e940f17a90>)"
      ]
     },
     "execution_count": 67,
     "metadata": {},
     "output_type": "execute_result"
    }
   ],
   "source": [
    "#x[x.rfind]\n",
    "print(img_link, img_title)\n",
    "urllib.request.urlretrieve(img_link,img_title)"
   ]
  },
  {
   "cell_type": "code",
   "execution_count": 68,
   "metadata": {},
   "outputs": [
    {
     "data": {
      "text/plain": [
       "'.jpg'"
      ]
     },
     "execution_count": 68,
     "metadata": {},
     "output_type": "execute_result"
    }
   ],
   "source": [
    "img_extn = img_link[img_link.rfind(\".\"):]\n",
    "img_extn"
   ]
  },
  {
   "cell_type": "code",
   "execution_count": 69,
   "metadata": {},
   "outputs": [
    {
     "data": {
      "text/plain": [
       "'1. Anand (1971).jpg'"
      ]
     },
     "execution_count": 69,
     "metadata": {},
     "output_type": "execute_result"
    }
   ],
   "source": [
    "img_name = img_title+img_extn\n",
    "img_name"
   ]
  },
  {
   "cell_type": "code",
   "execution_count": 74,
   "metadata": {},
   "outputs": [
    {
     "name": "stdout",
     "output_type": "stream",
     "text": [
      "https://m.media-amazon.com/images/M/MV5BNmZkMTMzNmEtMWU5NC00MjEzLWE5MzktYzRlMmQyMzk0YmM1XkEyXkFqcGdeQXVyNTA4NzY1MzY@._V1_UX45_CR0,0,45,67_AL_.jpg 1. Anand (1971).jpg\n"
     ]
    },
    {
     "data": {
      "text/plain": [
       "('1. Anand (1971).jpg', <http.client.HTTPMessage at 0x1e940f08358>)"
      ]
     },
     "execution_count": 74,
     "metadata": {},
     "output_type": "execute_result"
    }
   ],
   "source": [
    "import urllib\n",
    "img_link = imdb[\"Poster\"][0]\n",
    "img_title = imdb[\"Rank & Title\"][0]\n",
    "img_extn = img_link[img_link.rfind(\".\"):]\n",
    "img_name = img_title+img_extn\n",
    "\n",
    "print(img_link, img_name)\n",
    "urllib.request.urlretrieve(img_link,img_name)"
   ]
  },
  {
   "cell_type": "code",
   "execution_count": 78,
   "metadata": {},
   "outputs": [],
   "source": [
    "import os\n",
    "import glob"
   ]
  },
  {
   "cell_type": "code",
   "execution_count": null,
   "metadata": {},
   "outputs": [],
   "source": [
    "#for index,row in imdb.iterrows():\n",
    "#    print(row[\"Rank & Title\"],row[\"Poster\"])\n",
    "\n",
    "    img_link = imdb[\"Poster\"][0]\n",
    "    img_title = imdb[\"Rank & Title\"][0]\n",
    "    img_extn = img_link[img_link.rfind(\".\"):]#find last extension is .jpeg\n",
    "    \n",
    "    folder_name = \"movies_name\"\n",
    "    if not folder_name in glob.glob(\"*\"):\n",
    "        os.makedirs(folder_name)\n",
    "    img_name = folder_name+\"/\"+img_title+img_extn\n",
    "\n",
    "    print(img_link, img_name)\n",
    "    urllib.request.urlretrieve(img_link,img_name)"
   ]
  },
  {
   "cell_type": "code",
   "execution_count": 79,
   "metadata": {},
   "outputs": [],
   "source": [
    "import os\n",
    "import glob\n",
    "\n",
    "folder_name = \"movies_name\"\n",
    "if not folder_name in glob.glob(\"*\"):\n",
    "    os.makedirs(folder_name)\n",
    "for index,row in imdb.iterrows():\n",
    "    img_link = row[\"Poster\"]\n",
    "    img_title = row[\"Rank & Title\"]\n",
    "    img_extn = img_link[img_link.rfind(\".\"):]\n",
    "    img_name = folder_name+\"/\"+img_title+img_extn\n",
    "    urllib.request.urlretrieve(img_link,img_name)"
   ]
  },
  {
   "cell_type": "code",
   "execution_count": 81,
   "metadata": {},
   "outputs": [
    {
     "data": {
      "text/plain": [
       "['1. Anand (1971)',\n",
       " '1. Anand (1971).jpg',\n",
       " 'books.html',\n",
       " 'chromedriver.exe',\n",
       " 'Class-1(05-03-2019).ipynb',\n",
       " 'Class-2(06-03-2019).ipynb',\n",
       " 'Class-3(11-03-2019).ipynb',\n",
       " 'debug.log',\n",
       " 'index.html',\n",
       " 'index1.html',\n",
       " 'jobs_datascience.csv',\n",
       " 'movies_name',\n",
       " 'new_book.html',\n",
       " 'OYO.ipynb',\n",
       " 'treebo.ipynb',\n",
       " 'untitled.txt']"
      ]
     },
     "execution_count": 81,
     "metadata": {},
     "output_type": "execute_result"
    }
   ],
   "source": [
    "glob.glob(\"*\")"
   ]
  },
  {
   "cell_type": "code",
   "execution_count": 84,
   "metadata": {},
   "outputs": [
    {
     "data": {
      "text/plain": [
       "['movies_name\\\\1. Anand (1971).jpg',\n",
       " 'movies_name\\\\10. Andhadhun (2018).jpg',\n",
       " 'movies_name\\\\100. Manjhi',\n",
       " 'movies_name\\\\101. Ankhon Dekhi (2013).jpg',\n",
       " 'movies_name\\\\102. Pizza (2012).jpg',\n",
       " 'movies_name\\\\103. Jab We Met (2007).jpg',\n",
       " 'movies_name\\\\104. K.G.F',\n",
       " 'movies_name\\\\105. Padman (2018).jpg',\n",
       " 'movies_name\\\\106. Airlift (2016).jpg',\n",
       " 'movies_name\\\\107. Kal Ho Naa Ho (2003).jpg',\n",
       " 'movies_name\\\\108. Hey Ram (2000).jpg',\n",
       " 'movies_name\\\\109. Baby (2015).jpg',\n",
       " 'movies_name\\\\11. Dangal (2016).jpg',\n",
       " 'movies_name\\\\110. Rangasthalam (2018).jpg',\n",
       " 'movies_name\\\\111. Vaaranam Aayiram (2008).jpg',\n",
       " 'movies_name\\\\112. My Name Is Khan (2010).jpg',\n",
       " 'movies_name\\\\113. Secret Superstar (2017).jpg',\n",
       " 'movies_name\\\\114. Lakshya (2004).jpg',\n",
       " 'movies_name\\\\115. Baahubali',\n",
       " 'movies_name\\\\116. Border (1997).jpg',\n",
       " 'movies_name\\\\117. Ab Tak Chhappan (2004).jpg',\n",
       " 'movies_name\\\\118. Gangaajal (2003).jpg',\n",
       " 'movies_name\\\\119. Vettaiyaadu Vilaiyaadu (2006).jpg',\n",
       " 'movies_name\\\\12. Pather Panchali (1955).jpg',\n",
       " 'movies_name\\\\120. Johnny Gaddaar (2007).jpg',\n",
       " 'movies_name\\\\121. Manam (2014).jpg',\n",
       " 'movies_name\\\\122. English Vinglish (2012).jpg',\n",
       " 'movies_name\\\\123. Okkadu (2003).jpg',\n",
       " 'movies_name\\\\124. Ulidavaru Kandanthe (2014).jpg',\n",
       " 'movies_name\\\\125. Rock On!! (2008).jpg',\n",
       " 'movies_name\\\\126. The Lunchbox (2013).jpg',\n",
       " 'movies_name\\\\127. Don (1978).jpg',\n",
       " 'movies_name\\\\128. Mr. India (1987).jpg',\n",
       " 'movies_name\\\\129. Udta Punjab (2016).jpg',\n",
       " 'movies_name\\\\13. Taare Zameen Par (2007).jpg',\n",
       " 'movies_name\\\\130. Hindi Medium (2017).jpg',\n",
       " 'movies_name\\\\131. Nayak',\n",
       " 'movies_name\\\\132. Dasvidaniya (2008).jpg',\n",
       " 'movies_name\\\\133. Vicky Donor (2012).jpg',\n",
       " 'movies_name\\\\134. Oye Lucky! Lucky Oye! (2008).jpg',\n",
       " 'movies_name\\\\135. Raazi (2018).jpg',\n",
       " 'movies_name\\\\136. Mumbai Meri Jaan (2008).jpg',\n",
       " 'movies_name\\\\137. Guru (2007).jpg',\n",
       " 'movies_name\\\\138. Samsara (2001).jpg',\n",
       " 'movies_name\\\\139. Pokiri (2006).jpg',\n",
       " 'movies_name\\\\14. Aruvi (2016).jpg',\n",
       " 'movies_name\\\\140. Veer-Zaara (2004).jpg',\n",
       " 'movies_name\\\\141. Earth (1998).jpg',\n",
       " 'movies_name\\\\142. Charlie (2015).jpg',\n",
       " 'movies_name\\\\143. Aamir (2008).jpg',\n",
       " 'movies_name\\\\144. Kapoor & Sons (2016).jpg',\n",
       " 'movies_name\\\\145. RangiTaranga (2015).jpg',\n",
       " 'movies_name\\\\146. Agneepath (1990).jpg',\n",
       " 'movies_name\\\\147. Newton (2017).jpg',\n",
       " 'movies_name\\\\148. Eega (2012).jpg',\n",
       " 'movies_name\\\\149. Manorama Six Feet Under (2007).jpg',\n",
       " 'movies_name\\\\15. 3 Idiots (2009).jpg',\n",
       " 'movies_name\\\\150. Neerja (2016).jpg',\n",
       " 'movies_name\\\\151. Pyaar Ka Punchnama (2011).jpg',\n",
       " 'movies_name\\\\152. Sanju (2018).jpg',\n",
       " 'movies_name\\\\153. Madras Cafe (2013).jpg',\n",
       " 'movies_name\\\\154. Sarkar (2005).jpg',\n",
       " 'movies_name\\\\155. Goodachari (2018).jpg',\n",
       " 'movies_name\\\\156. Kabhi Haan Kabhi Naa (1994).jpg',\n",
       " 'movies_name\\\\157. Stree (2018).jpg',\n",
       " 'movies_name\\\\158. Darr (1993).jpg',\n",
       " 'movies_name\\\\159. Bheja Fry (2007).jpg',\n",
       " 'movies_name\\\\16. 96 (2018).jpg',\n",
       " 'movies_name\\\\160. Tanu Weds Manu Returns (2015).jpg',\n",
       " 'movies_name\\\\161. 24 (2016).jpg',\n",
       " 'movies_name\\\\162. Rockstar (2011).jpg',\n",
       " 'movies_name\\\\163. Kai po che! (2013).jpg',\n",
       " 'movies_name\\\\164. Kuch Kuch Hota Hai (1998).jpg',\n",
       " 'movies_name\\\\165. Magadheera (2009).jpg',\n",
       " 'movies_name\\\\166. Baazigar (1993).jpg',\n",
       " 'movies_name\\\\167. Ek Hasina Thi (2004).jpg',\n",
       " 'movies_name\\\\168. Highway (2014).jpg',\n",
       " 'movies_name\\\\169. Saala Khadoos (2016).jpg',\n",
       " 'movies_name\\\\17. Manichithrathazhu (1993).jpg',\n",
       " 'movies_name\\\\170. M.S. Dhoni',\n",
       " 'movies_name\\\\171. Wake Up Sid (2009).jpg',\n",
       " 'movies_name\\\\172. Parmanu',\n",
       " 'movies_name\\\\173. Jodhaa Akbar (2008).jpg',\n",
       " 'movies_name\\\\174. Dil Se.. (1998).jpg',\n",
       " 'movies_name\\\\175. Kaththi (2014).jpg',\n",
       " 'movies_name\\\\176. Piku (2015).jpg',\n",
       " 'movies_name\\\\177. Devdas (2002).jpg',\n",
       " 'movies_name\\\\178. Delhi Belly (2011).jpg',\n",
       " 'movies_name\\\\179. Thuppakki (2012).jpg',\n",
       " 'movies_name\\\\18. Jaane Bhi Do Yaaro (1983).jpg',\n",
       " 'movies_name\\\\180. Aankhen (2002).jpg',\n",
       " 'movies_name\\\\181. Detective Byomkesh Bakshy! (2015).jpg',\n",
       " 'movies_name\\\\182. Raanjhanaa (2013).jpg',\n",
       " 'movies_name\\\\183. 1 - Nenokkadine (2014).jpg',\n",
       " 'movies_name\\\\184. Qayamat Se Qayamat Tak (1988).jpg',\n",
       " 'movies_name\\\\185. Trapped (2016).jpg',\n",
       " 'movies_name\\\\186. Rocket Singh',\n",
       " 'movies_name\\\\187. Khakee (2004).jpg',\n",
       " 'movies_name\\\\188. The Ghazi Attack (2017).jpg',\n",
       " 'movies_name\\\\189. Hungama (2003).jpg',\n",
       " 'movies_name\\\\19. Thalapathi (1991).jpg',\n",
       " 'movies_name\\\\190. Amar Akbar Anthony (1977).jpg',\n",
       " 'movies_name\\\\191. Rehnaa Hai Terre Dil Mein (2001).jpg',\n",
       " 'movies_name\\\\192. Hum Dil De Chuke Sanam (1999).jpg',\n",
       " 'movies_name\\\\193. Rangeela (1995).jpg',\n",
       " 'movies_name\\\\194. Hum Aapke Hain Koun...! (1994).jpg',\n",
       " 'movies_name\\\\195. Socha Na Tha (2005).jpg',\n",
       " 'movies_name\\\\196. Jaane Tu... Ya Jaane Na (2008).jpg',\n",
       " 'movies_name\\\\197. Ghilli (2004).jpg',\n",
       " 'movies_name\\\\198. Madaari (2016).jpg',\n",
       " 'movies_name\\\\199. Ghajini (2005).jpg',\n",
       " 'movies_name\\\\2. Drishyam (2013).jpg',\n",
       " 'movies_name\\\\20. Guide (1965).jpg',\n",
       " 'movies_name\\\\200. Dum Laga Ke Haisha (2015).jpg',\n",
       " 'movies_name\\\\201. October (2018).jpg',\n",
       " 'movies_name\\\\202. Petta (2019).jpg',\n",
       " 'movies_name\\\\203. Jolly LLB (2013).jpg',\n",
       " 'movies_name\\\\204. Chillar Party (2011).jpg',\n",
       " 'movies_name\\\\205. Shaadi Mein Zaroor Aana (2017).jpg',\n",
       " 'movies_name\\\\206. Geetha Govindam (2018).jpg',\n",
       " 'movies_name\\\\207. Peepli (Live) (2010).jpg',\n",
       " 'movies_name\\\\208. Bareilly Ki Barfi (2017).jpg',\n",
       " 'movies_name\\\\209. Baghban (2003).jpg',\n",
       " 'movies_name\\\\21. Chupke Chupke (1975).jpg',\n",
       " 'movies_name\\\\210. Sivaji (2007).jpg',\n",
       " 'movies_name\\\\211. Hichki (2018).jpg',\n",
       " 'movies_name\\\\212. Kabhi Khushi Kabhie Gham... (2001).jpg',\n",
       " 'movies_name\\\\213. Badlapur (2015).jpg',\n",
       " 'movies_name\\\\214. Karwaan (2018).jpg',\n",
       " 'movies_name\\\\215. Chachi 420 (1997).jpg',\n",
       " 'movies_name\\\\216. Guzaarish (2010).jpg',\n",
       " 'movies_name\\\\217. Dear Zindagi (2016).jpg',\n",
       " 'movies_name\\\\218. Mankatha (2011).jpg',\n",
       " 'movies_name\\\\219. Once Upon a Time in Mumbaai (2010).jpg',\n",
       " 'movies_name\\\\22. Thani Oruvan (2015).jpg',\n",
       " 'movies_name\\\\220. Yuva (2004).jpg',\n",
       " 'movies_name\\\\221. Golmaal',\n",
       " 'movies_name\\\\222. Kaminey (2009).jpg',\n",
       " 'movies_name\\\\223. Life in a Metro (2007).jpg',\n",
       " 'movies_name\\\\224. Monsoon Wedding (2001).jpg',\n",
       " 'movies_name\\\\225. Khiladi (1992).jpg',\n",
       " 'movies_name\\\\226. Raid (2018).jpg',\n",
       " 'movies_name\\\\227. Page 3 (2005).jpg',\n",
       " 'movies_name\\\\228. Ghulam (1998).jpg',\n",
       " 'movies_name\\\\229. Khaleja (2010).jpg',\n",
       " 'movies_name\\\\23. Kannathil Muthamittal (2002).jpg',\n",
       " 'movies_name\\\\230. Maine Pyar Kiya (1989).jpg',\n",
       " 'movies_name\\\\231. Bharat Ane Nenu (2018).jpg',\n",
       " 'movies_name\\\\232. Ishqiya (2010).jpg',\n",
       " 'movies_name\\\\233. Ghajini (2008).jpg',\n",
       " 'movies_name\\\\234. Raman Raghav 2.0 (2016).jpg',\n",
       " 'movies_name\\\\235. Srimanthudu (2015).jpg',\n",
       " 'movies_name\\\\236. Lootera (2013).jpg',\n",
       " 'movies_name\\\\237. Bhool Bhulaiyaa (2007).jpg',\n",
       " 'movies_name\\\\238. Holiday (2014).jpg',\n",
       " 'movies_name\\\\239. Parineeta (2005).jpg',\n",
       " 'movies_name\\\\24. Khosla Ka Ghosla! (2006).jpg',\n",
       " 'movies_name\\\\240. Gold (2018).jpg',\n",
       " 'movies_name\\\\241. Ayan (2009).jpg',\n",
       " 'movies_name\\\\242. Mardaani (2014).jpg',\n",
       " 'movies_name\\\\243. Saajan (1991).jpg',\n",
       " 'movies_name\\\\244. Taxi No. 9 2 11',\n",
       " 'movies_name\\\\245. Shaitan (2011).jpg',\n",
       " 'movies_name\\\\246. Mom (2017).jpg',\n",
       " 'movies_name\\\\247. Te3n (2016).jpg',\n",
       " 'movies_name\\\\248. Shanghai (2012).jpg',\n",
       " 'movies_name\\\\249. No One Killed Jessica (2011).jpg',\n",
       " 'movies_name\\\\25. Gully Boy (2019).jpg',\n",
       " 'movies_name\\\\250. Dookudu (2011).jpg',\n",
       " 'movies_name\\\\26. The World of Apu (1959).jpg',\n",
       " 'movies_name\\\\27. Vada Chennai (2018).jpg',\n",
       " 'movies_name\\\\28. Dhuruvangal Pathinaaru (2016).jpg',\n",
       " 'movies_name\\\\29. Shahid (2012).jpg',\n",
       " 'movies_name\\\\3. Nayakan (1987).jpg',\n",
       " 'movies_name\\\\30. Talvar (2015).jpg',\n",
       " 'movies_name\\\\31. Drishyam (2015).jpg',\n",
       " 'movies_name\\\\32. Mughal-E-Azam (1960).jpg',\n",
       " 'movies_name\\\\33. Aparajito (1956).jpg',\n",
       " 'movies_name\\\\34. Black (2005).jpg',\n",
       " 'movies_name\\\\35. Hera Pheri (2000).jpg',\n",
       " 'movies_name\\\\36. Jigarthanda (2014).jpg',\n",
       " 'movies_name\\\\37. Paan Singh Tomar (2012).jpg',\n",
       " 'movies_name\\\\38. Mahanati (2018).jpg',\n",
       " 'movies_name\\\\39. Rang De Basanti (2006).jpg',\n",
       " 'movies_name\\\\4. Anbe Sivam (2003).jpg',\n",
       " 'movies_name\\\\40. Satya (1998).jpg',\n",
       " 'movies_name\\\\41. Bhaag Milkha Bhaag (2013).jpg',\n",
       " 'movies_name\\\\42. Soodhu Kavvum (2013).jpg',\n",
       " 'movies_name\\\\43. Jo Jeeta Wohi Sikandar (1992).jpg',\n",
       " 'movies_name\\\\44. OMG',\n",
       " 'movies_name\\\\45. Queen (2013).jpg',\n",
       " 'movies_name\\\\46. Swades (2004).jpg',\n",
       " 'movies_name\\\\47. Sholay (1975).jpg',\n",
       " 'movies_name\\\\48. Gangs of Wasseypur (2012).jpg',\n",
       " 'movies_name\\\\49. Chak de! India (2007).jpg',\n",
       " 'movies_name\\\\5. Gol Maal (1979).jpg',\n",
       " 'movies_name\\\\50. Sairat (2016).jpg',\n",
       " 'movies_name\\\\51. Premam (2015).jpg',\n",
       " 'movies_name\\\\52. Bangalore Days (2014).jpg',\n",
       " 'movies_name\\\\53. A Wednesday (2008).jpg',\n",
       " 'movies_name\\\\54. Munna Bhai M.B.B.S. (2003).jpg',\n",
       " 'movies_name\\\\55. Tumbbad (2018).jpg',\n",
       " 'movies_name\\\\56. Udaan (2010).jpg',\n",
       " 'movies_name\\\\57. Andaz Apna Apna (1994).jpg',\n",
       " 'movies_name\\\\58. Ustad Hotel (2012).jpg',\n",
       " 'movies_name\\\\59. Roja (1992).jpg',\n",
       " 'movies_name\\\\6. Uri',\n",
       " 'movies_name\\\\60. Dil Chahta Hai (2001).jpg',\n",
       " 'movies_name\\\\61. Sarfarosh (1999).jpg',\n",
       " 'movies_name\\\\62. Anniyan (2005).jpg',\n",
       " 'movies_name\\\\63. Pink (2016).jpg',\n",
       " 'movies_name\\\\64. Lagaan',\n",
       " 'movies_name\\\\65. Kahaani (2012).jpg',\n",
       " 'movies_name\\\\66. PK (2014).jpg',\n",
       " 'movies_name\\\\67. Iqbal (2005).jpg',\n",
       " 'movies_name\\\\68. Arjun Reddy (2017).jpg',\n",
       " 'movies_name\\\\69. Peranbu (2018).jpg',\n",
       " 'movies_name\\\\7. Vikram Vedha (2017).jpg',\n",
       " 'movies_name\\\\70. Zindagi Na Milegi Dobara (2011).jpg',\n",
       " 'movies_name\\\\71. Maqbool (2003).jpg',\n",
       " 'movies_name\\\\72. Theeran Adhigaaram Ondru (2017).jpg',\n",
       " 'movies_name\\\\73. Masaan (2015).jpg',\n",
       " 'movies_name\\\\74. Baasha (1995).jpg',\n",
       " 'movies_name\\\\75. Omkara (2006).jpg',\n",
       " 'movies_name\\\\76. The Legend of Bhagat Singh (2002).jpg',\n",
       " 'movies_name\\\\77. Barfi! (2012).jpg',\n",
       " 'movies_name\\\\78. Lage Raho Munna Bhai (2006).jpg',\n",
       " 'movies_name\\\\79. Bommarillu (2006).jpg',\n",
       " 'movies_name\\\\8. Black Friday (2004).jpg',\n",
       " 'movies_name\\\\80. Bombay (1995).jpg',\n",
       " 'movies_name\\\\81. Deewaar (1975).jpg',\n",
       " 'movies_name\\\\82. Lucia (2013).jpg',\n",
       " 'movies_name\\\\83. Ugly (2013).jpg',\n",
       " 'movies_name\\\\84. Dilwale Dulhania Le Jayenge (1995).jpg',\n",
       " 'movies_name\\\\85. Mother India (1957).jpg',\n",
       " 'movies_name\\\\86. Gulaal (2009).jpg',\n",
       " 'movies_name\\\\87. Baahubali 2',\n",
       " 'movies_name\\\\88. Padosan (1968).jpg',\n",
       " 'movies_name\\\\89. Haider (2014).jpg',\n",
       " 'movies_name\\\\9. Ratsasan (2018).jpg',\n",
       " 'movies_name\\\\90. Indian (1996).jpg',\n",
       " 'movies_name\\\\91. Vedam (2010).jpg',\n",
       " 'movies_name\\\\92. Dev.D (2009).jpg',\n",
       " 'movies_name\\\\93. Athadu (2005).jpg',\n",
       " 'movies_name\\\\94. Special 26 (2013).jpg',\n",
       " 'movies_name\\\\95. Company (2002).jpg',\n",
       " 'movies_name\\\\96. Vaastav',\n",
       " 'movies_name\\\\97. Badhaai Ho (2018).jpg',\n",
       " 'movies_name\\\\98. Ship of Theseus (2012).jpg',\n",
       " 'movies_name\\\\99. Bajrangi Bhaijaan (2015).jpg']"
      ]
     },
     "execution_count": 84,
     "metadata": {},
     "output_type": "execute_result"
    }
   ],
   "source": [
    "#imdb.to_csv(\"name for your csv\",index=False)\n",
    "glob.glob(\"movies_name/*\")"
   ]
  },
  {
   "cell_type": "code",
   "execution_count": null,
   "metadata": {},
   "outputs": [],
   "source": []
  },
  {
   "cell_type": "code",
   "execution_count": null,
   "metadata": {},
   "outputs": [],
   "source": []
  },
  {
   "cell_type": "code",
   "execution_count": null,
   "metadata": {},
   "outputs": [],
   "source": []
  }
 ],
 "metadata": {
  "kernelspec": {
   "display_name": "Python 3",
   "language": "python",
   "name": "python3"
  },
  "language_info": {
   "codemirror_mode": {
    "name": "ipython",
    "version": 3
   },
   "file_extension": ".py",
   "mimetype": "text/x-python",
   "name": "python",
   "nbconvert_exporter": "python",
   "pygments_lexer": "ipython3",
   "version": "3.7.1"
  }
 },
 "nbformat": 4,
 "nbformat_minor": 2
}
