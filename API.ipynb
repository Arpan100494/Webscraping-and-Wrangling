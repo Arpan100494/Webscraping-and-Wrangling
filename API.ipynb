{
 "cells": [
  {
   "cell_type": "code",
   "execution_count": 1,
   "metadata": {},
   "outputs": [],
   "source": [
    "import pandas as pd\n",
    "import numpy as np\n",
    "from selenium import webdriver"
   ]
  },
  {
   "cell_type": "code",
   "execution_count": 2,
   "metadata": {},
   "outputs": [],
   "source": [
    "browser = webdriver.Chrome(\"chromedriver.exe\")"
   ]
  },
  {
   "cell_type": "markdown",
   "metadata": {},
   "source": [
    "# API"
   ]
  },
  {
   "cell_type": "code",
   "execution_count": 8,
   "metadata": {},
   "outputs": [],
   "source": [
    "weather_api = \"c325739d82724cce88483719191103\"\n",
    "url = \"http://api.apixu.com/v1/current.json?key=c325739d82724cce88483719191103&q=Bangalore\""
   ]
  },
  {
   "cell_type": "code",
   "execution_count": 9,
   "metadata": {},
   "outputs": [
    {
     "data": {
      "text/plain": [
       "<Response [200]>"
      ]
     },
     "execution_count": 9,
     "metadata": {},
     "output_type": "execute_result"
    }
   ],
   "source": [
    "import requests#for json it is good\n",
    "\n",
    "requests.get(url)"
   ]
  },
  {
   "cell_type": "code",
   "execution_count": 10,
   "metadata": {},
   "outputs": [
    {
     "data": {
      "text/plain": [
       "{'location': {'name': 'Bangalore',\n",
       "  'region': 'Karnataka',\n",
       "  'country': 'India',\n",
       "  'lat': 12.98,\n",
       "  'lon': 77.58,\n",
       "  'tz_id': 'Asia/Kolkata',\n",
       "  'localtime_epoch': 1552294127,\n",
       "  'localtime': '2019-03-11 14:18'},\n",
       " 'current': {'last_updated_epoch': 1552293909,\n",
       "  'last_updated': '2019-03-11 14:15',\n",
       "  'temp_c': 33.0,\n",
       "  'temp_f': 91.4,\n",
       "  'is_day': 1,\n",
       "  'condition': {'text': 'Partly cloudy',\n",
       "   'icon': '//cdn.apixu.com/weather/64x64/day/116.png',\n",
       "   'code': 1003},\n",
       "  'wind_mph': 10.5,\n",
       "  'wind_kph': 16.9,\n",
       "  'wind_degree': 80,\n",
       "  'wind_dir': 'E',\n",
       "  'pressure_mb': 1017.0,\n",
       "  'pressure_in': 30.5,\n",
       "  'precip_mm': 0.0,\n",
       "  'precip_in': 0.0,\n",
       "  'humidity': 23,\n",
       "  'cloud': 50,\n",
       "  'feelslike_c': 31.3,\n",
       "  'feelslike_f': 88.4,\n",
       "  'vis_km': 10.0,\n",
       "  'vis_miles': 6.0,\n",
       "  'uv': 8.0}}"
      ]
     },
     "execution_count": 10,
     "metadata": {},
     "output_type": "execute_result"
    }
   ],
   "source": [
    "#online json viwer\n",
    "k = requests.get(url).json()#getting json temp file\n",
    "k"
   ]
  },
  {
   "cell_type": "code",
   "execution_count": 12,
   "metadata": {},
   "outputs": [
    {
     "data": {
      "text/plain": [
       "33.0"
      ]
     },
     "execution_count": 12,
     "metadata": {},
     "output_type": "execute_result"
    }
   ],
   "source": [
    "k[\"current\"][\"temp_c\"]"
   ]
  },
  {
   "cell_type": "code",
   "execution_count": 15,
   "metadata": {},
   "outputs": [
    {
     "data": {
      "text/plain": [
       "{'location': {'name': 'Delhi',\n",
       "  'region': 'Delhi',\n",
       "  'country': 'India',\n",
       "  'lat': 28.67,\n",
       "  'lon': 77.22,\n",
       "  'tz_id': 'Asia/Kolkata',\n",
       "  'localtime_epoch': 1552295070,\n",
       "  'localtime': '2019-03-11 14:34'},\n",
       " 'current': {'last_updated_epoch': 1552294816,\n",
       "  'last_updated': '2019-03-11 14:30',\n",
       "  'temp_c': 25.0,\n",
       "  'temp_f': 77.0,\n",
       "  'is_day': 1,\n",
       "  'condition': {'text': 'Mist',\n",
       "   'icon': '//cdn.apixu.com/weather/64x64/day/143.png',\n",
       "   'code': 1030},\n",
       "  'wind_mph': 9.4,\n",
       "  'wind_kph': 15.1,\n",
       "  'wind_degree': 160,\n",
       "  'wind_dir': 'SSE',\n",
       "  'pressure_mb': 1013.0,\n",
       "  'pressure_in': 30.4,\n",
       "  'precip_mm': 0.2,\n",
       "  'precip_in': 0.01,\n",
       "  'humidity': 44,\n",
       "  'cloud': 50,\n",
       "  'feelslike_c': 25.6,\n",
       "  'feelslike_f': 78.0,\n",
       "  'vis_km': 3.5,\n",
       "  'vis_miles': 2.0,\n",
       "  'uv': 6.0}}"
      ]
     },
     "execution_count": 15,
     "metadata": {},
     "output_type": "execute_result"
    }
   ],
   "source": [
    "weather_api = \"c325739d82724cce88483719191103\"\n",
    "loc = \"Delhi\"\n",
    "url = \"http://api.apixu.com/v1/current.json?key=c325739d82724cce88483719191103&q=%s\" %loc\n",
    "result = requests.get(url).json()#getting json temp file\n",
    "result"
   ]
  },
  {
   "cell_type": "code",
   "execution_count": 27,
   "metadata": {},
   "outputs": [],
   "source": [
    "df = pd.DataFrame()\n",
    "weather_api = \"c325739d82724cce88483719191103\"\n",
    "cities = [\"chennai\",\"Bangalore\",\"Hyderabad\",\"Pune\",\"London\",\"Coimbatore\",\"Kashmir\"]\n",
    "for loc in cities:\n",
    "    url = \"http://api.apixu.com/v1/current.json?key=c325739d82724cce88483719191103&q=%s\" %loc\n",
    "    result = requests.get(url).json()#getting json temp file\n",
    "    dict1 = pd.Series({\"Place\":result[\"location\"][\"name\"],\"country\":result[\"location\"][\"country\"],\n",
    "                       \"Temp_c\":result[\"current\"][\"temp_c\"],\"Wind\":result[\"current\"][\"wind_kph\"],\n",
    "                       \"Lat\":result[\"location\"][\"lat\"],\"Long\":result[\"location\"][\"lon\"]})\n",
    "    df = df.append(dict1,ignore_index=True)"
   ]
  },
  {
   "cell_type": "code",
   "execution_count": 28,
   "metadata": {},
   "outputs": [
    {
     "data": {
      "text/html": [
       "<div>\n",
       "<style scoped>\n",
       "    .dataframe tbody tr th:only-of-type {\n",
       "        vertical-align: middle;\n",
       "    }\n",
       "\n",
       "    .dataframe tbody tr th {\n",
       "        vertical-align: top;\n",
       "    }\n",
       "\n",
       "    .dataframe thead th {\n",
       "        text-align: right;\n",
       "    }\n",
       "</style>\n",
       "<table border=\"1\" class=\"dataframe\">\n",
       "  <thead>\n",
       "    <tr style=\"text-align: right;\">\n",
       "      <th></th>\n",
       "      <th>Lat</th>\n",
       "      <th>Long</th>\n",
       "      <th>Place</th>\n",
       "      <th>Temp_c</th>\n",
       "      <th>Wind</th>\n",
       "      <th>country</th>\n",
       "    </tr>\n",
       "  </thead>\n",
       "  <tbody>\n",
       "    <tr>\n",
       "      <th>0</th>\n",
       "      <td>13.08</td>\n",
       "      <td>80.28</td>\n",
       "      <td>Chennai</td>\n",
       "      <td>35.0</td>\n",
       "      <td>16.9</td>\n",
       "      <td>India</td>\n",
       "    </tr>\n",
       "    <tr>\n",
       "      <th>1</th>\n",
       "      <td>12.98</td>\n",
       "      <td>77.58</td>\n",
       "      <td>Bangalore</td>\n",
       "      <td>33.0</td>\n",
       "      <td>13.0</td>\n",
       "      <td>India</td>\n",
       "    </tr>\n",
       "    <tr>\n",
       "      <th>2</th>\n",
       "      <td>17.38</td>\n",
       "      <td>78.47</td>\n",
       "      <td>Hyderabad</td>\n",
       "      <td>38.0</td>\n",
       "      <td>15.1</td>\n",
       "      <td>India</td>\n",
       "    </tr>\n",
       "    <tr>\n",
       "      <th>3</th>\n",
       "      <td>18.53</td>\n",
       "      <td>73.87</td>\n",
       "      <td>Pune</td>\n",
       "      <td>31.7</td>\n",
       "      <td>11.9</td>\n",
       "      <td>India</td>\n",
       "    </tr>\n",
       "    <tr>\n",
       "      <th>4</th>\n",
       "      <td>51.52</td>\n",
       "      <td>-0.11</td>\n",
       "      <td>London</td>\n",
       "      <td>6.0</td>\n",
       "      <td>25.9</td>\n",
       "      <td>United Kingdom</td>\n",
       "    </tr>\n",
       "    <tr>\n",
       "      <th>5</th>\n",
       "      <td>10.99</td>\n",
       "      <td>76.96</td>\n",
       "      <td>Coimbatore</td>\n",
       "      <td>35.0</td>\n",
       "      <td>15.1</td>\n",
       "      <td>India</td>\n",
       "    </tr>\n",
       "    <tr>\n",
       "      <th>6</th>\n",
       "      <td>29.03</td>\n",
       "      <td>67.95</td>\n",
       "      <td>Kashmir</td>\n",
       "      <td>21.5</td>\n",
       "      <td>1.8</td>\n",
       "      <td>Pakistan</td>\n",
       "    </tr>\n",
       "  </tbody>\n",
       "</table>\n",
       "</div>"
      ],
      "text/plain": [
       "     Lat   Long       Place  Temp_c  Wind         country\n",
       "0  13.08  80.28     Chennai    35.0  16.9           India\n",
       "1  12.98  77.58   Bangalore    33.0  13.0           India\n",
       "2  17.38  78.47   Hyderabad    38.0  15.1           India\n",
       "3  18.53  73.87        Pune    31.7  11.9           India\n",
       "4  51.52  -0.11      London     6.0  25.9  United Kingdom\n",
       "5  10.99  76.96  Coimbatore    35.0  15.1           India\n",
       "6  29.03  67.95     Kashmir    21.5   1.8        Pakistan"
      ]
     },
     "execution_count": 28,
     "metadata": {},
     "output_type": "execute_result"
    }
   ],
   "source": [
    "df"
   ]
  },
  {
   "cell_type": "code",
   "execution_count": null,
   "metadata": {},
   "outputs": [],
   "source": []
  },
  {
   "cell_type": "markdown",
   "metadata": {},
   "source": [
    "# get restaurants names in Bangalore"
   ]
  },
  {
   "cell_type": "code",
   "execution_count": 32,
   "metadata": {},
   "outputs": [],
   "source": [
    "api_key = \"c4580aedc4bb7c6ff54bc168b267e833\"\n",
    "headers = {\"user-key\":api_key}\n",
    "url = \"https://developers.zomato.com/api/v2.1/categories\"\n",
    "catagories = requests.get(url, headers=headers).json()"
   ]
  },
  {
   "cell_type": "code",
   "execution_count": 51,
   "metadata": {},
   "outputs": [
    {
     "data": {
      "text/plain": [
       "{'categories': [{'categories': {'id': 1, 'name': 'Delivery'}},\n",
       "  {'categories': {'id': 2, 'name': 'Dine-out'}},\n",
       "  {'categories': {'id': 3, 'name': 'Nightlife'}},\n",
       "  {'categories': {'id': 4, 'name': 'Catching-up'}},\n",
       "  {'categories': {'id': 5, 'name': 'Takeaway'}},\n",
       "  {'categories': {'id': 6, 'name': 'Cafes'}},\n",
       "  {'categories': {'id': 7, 'name': 'Daily Menus'}},\n",
       "  {'categories': {'id': 8, 'name': 'Breakfast'}},\n",
       "  {'categories': {'id': 9, 'name': 'Lunch'}},\n",
       "  {'categories': {'id': 10, 'name': 'Dinner'}},\n",
       "  {'categories': {'id': 11, 'name': 'Pubs & Bars'}},\n",
       "  {'categories': {'id': 13, 'name': 'Pocket Friendly Delivery'}},\n",
       "  {'categories': {'id': 14, 'name': 'Clubs & Lounges'}}]}"
      ]
     },
     "execution_count": 51,
     "metadata": {},
     "output_type": "execute_result"
    }
   ],
   "source": [
    "catagories"
   ]
  },
  {
   "cell_type": "code",
   "execution_count": 53,
   "metadata": {},
   "outputs": [],
   "source": [
    "df_category = pd.DataFrame()\n",
    "for catagory in catagories[\"categories\"]:\n",
    "    df_category = df_category.append(catagory[\"categories\"],ignore_index=True)"
   ]
  },
  {
   "cell_type": "code",
   "execution_count": 54,
   "metadata": {},
   "outputs": [
    {
     "data": {
      "text/html": [
       "<div>\n",
       "<style scoped>\n",
       "    .dataframe tbody tr th:only-of-type {\n",
       "        vertical-align: middle;\n",
       "    }\n",
       "\n",
       "    .dataframe tbody tr th {\n",
       "        vertical-align: top;\n",
       "    }\n",
       "\n",
       "    .dataframe thead th {\n",
       "        text-align: right;\n",
       "    }\n",
       "</style>\n",
       "<table border=\"1\" class=\"dataframe\">\n",
       "  <thead>\n",
       "    <tr style=\"text-align: right;\">\n",
       "      <th></th>\n",
       "      <th>id</th>\n",
       "      <th>name</th>\n",
       "    </tr>\n",
       "  </thead>\n",
       "  <tbody>\n",
       "    <tr>\n",
       "      <th>0</th>\n",
       "      <td>1.0</td>\n",
       "      <td>Delivery</td>\n",
       "    </tr>\n",
       "    <tr>\n",
       "      <th>1</th>\n",
       "      <td>2.0</td>\n",
       "      <td>Dine-out</td>\n",
       "    </tr>\n",
       "    <tr>\n",
       "      <th>2</th>\n",
       "      <td>3.0</td>\n",
       "      <td>Nightlife</td>\n",
       "    </tr>\n",
       "    <tr>\n",
       "      <th>3</th>\n",
       "      <td>4.0</td>\n",
       "      <td>Catching-up</td>\n",
       "    </tr>\n",
       "    <tr>\n",
       "      <th>4</th>\n",
       "      <td>5.0</td>\n",
       "      <td>Takeaway</td>\n",
       "    </tr>\n",
       "    <tr>\n",
       "      <th>5</th>\n",
       "      <td>6.0</td>\n",
       "      <td>Cafes</td>\n",
       "    </tr>\n",
       "    <tr>\n",
       "      <th>6</th>\n",
       "      <td>7.0</td>\n",
       "      <td>Daily Menus</td>\n",
       "    </tr>\n",
       "    <tr>\n",
       "      <th>7</th>\n",
       "      <td>8.0</td>\n",
       "      <td>Breakfast</td>\n",
       "    </tr>\n",
       "    <tr>\n",
       "      <th>8</th>\n",
       "      <td>9.0</td>\n",
       "      <td>Lunch</td>\n",
       "    </tr>\n",
       "    <tr>\n",
       "      <th>9</th>\n",
       "      <td>10.0</td>\n",
       "      <td>Dinner</td>\n",
       "    </tr>\n",
       "    <tr>\n",
       "      <th>10</th>\n",
       "      <td>11.0</td>\n",
       "      <td>Pubs &amp; Bars</td>\n",
       "    </tr>\n",
       "    <tr>\n",
       "      <th>11</th>\n",
       "      <td>13.0</td>\n",
       "      <td>Pocket Friendly Delivery</td>\n",
       "    </tr>\n",
       "    <tr>\n",
       "      <th>12</th>\n",
       "      <td>14.0</td>\n",
       "      <td>Clubs &amp; Lounges</td>\n",
       "    </tr>\n",
       "  </tbody>\n",
       "</table>\n",
       "</div>"
      ],
      "text/plain": [
       "      id                      name\n",
       "0    1.0                  Delivery\n",
       "1    2.0                  Dine-out\n",
       "2    3.0                 Nightlife\n",
       "3    4.0               Catching-up\n",
       "4    5.0                  Takeaway\n",
       "5    6.0                     Cafes\n",
       "6    7.0               Daily Menus\n",
       "7    8.0                 Breakfast\n",
       "8    9.0                     Lunch\n",
       "9   10.0                    Dinner\n",
       "10  11.0               Pubs & Bars\n",
       "11  13.0  Pocket Friendly Delivery\n",
       "12  14.0           Clubs & Lounges"
      ]
     },
     "execution_count": 54,
     "metadata": {},
     "output_type": "execute_result"
    }
   ],
   "source": [
    "df_category"
   ]
  },
  {
   "cell_type": "code",
   "execution_count": null,
   "metadata": {},
   "outputs": [],
   "source": []
  },
  {
   "cell_type": "code",
   "execution_count": null,
   "metadata": {},
   "outputs": [],
   "source": []
  },
  {
   "cell_type": "code",
   "execution_count": null,
   "metadata": {},
   "outputs": [],
   "source": []
  }
 ],
 "metadata": {
  "kernelspec": {
   "display_name": "Python 3",
   "language": "python",
   "name": "python3"
  },
  "language_info": {
   "codemirror_mode": {
    "name": "ipython",
    "version": 3
   },
   "file_extension": ".py",
   "mimetype": "text/x-python",
   "name": "python",
   "nbconvert_exporter": "python",
   "pygments_lexer": "ipython3",
   "version": "3.7.1"
  }
 },
 "nbformat": 4,
 "nbformat_minor": 2
}
